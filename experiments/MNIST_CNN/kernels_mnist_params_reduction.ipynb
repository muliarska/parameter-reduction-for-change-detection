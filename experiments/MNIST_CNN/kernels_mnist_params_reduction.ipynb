{
  "cells": [
    {
      "cell_type": "markdown",
      "source": [
        "# MNIST CNN Experiments with different kernel sizes of the conv layer"
      ],
      "metadata": {
        "id": "_fpEXzPYzYc_"
      }
    },
    {
      "cell_type": "markdown",
      "metadata": {
        "id": "RdOtiMOLV67Z"
      },
      "source": [
        "# Imports"
      ]
    },
    {
      "cell_type": "code",
      "execution_count": null,
      "metadata": {
        "id": "G3Ho4qXPXq-e"
      },
      "outputs": [],
      "source": [
        "import torch\n",
        "import torch.nn as nn\n",
        "import torchvision\n",
        "import torch.optim as optim\n",
        "import torch.nn.functional as F\n",
        "import matplotlib.pyplot as plt\n",
        "import torchvision.transforms as transforms\n",
        "import torchvision.datasets as datasets\n",
        "import torchvision.transforms as transforms\n",
        "from tqdm import tqdm\n",
        "from torchvision.datasets import MNIST\n",
        "from torch.utils.data import DataLoader\n",
        "from torch import optim\n",
        "from torch.autograd import Variable\n",
        "import torch.nn.utils.prune as prune\n",
        "\n",
        "import numpy as np\n",
        "import math\n",
        "import cv2\n",
        "import time, datetime\n",
        "from prettytable import PrettyTable\n",
        "from numpy.linalg import svd"
      ]
    },
    {
      "cell_type": "code",
      "execution_count": null,
      "metadata": {
        "colab": {
          "base_uri": "https://localhost:8080/"
        },
        "id": "5za0UTf3aUK1",
        "outputId": "afc5c1bd-ac29-4c35-efc8-0a562742fff5"
      },
      "outputs": [
        {
          "output_type": "execute_result",
          "data": {
            "text/plain": [
              "device(type='cuda')"
            ]
          },
          "metadata": {},
          "execution_count": 3
        }
      ],
      "source": [
        "# Define the device to train on\n",
        "device = torch.device(\"cuda\" if torch.cuda.is_available() else \"cpu\")\n",
        "device"
      ]
    },
    {
      "cell_type": "markdown",
      "metadata": {
        "id": "L1AtO2TYZP4r"
      },
      "source": [
        "# Load data"
      ]
    },
    {
      "cell_type": "code",
      "execution_count": null,
      "metadata": {
        "id": "lgrV6-njCEVu",
        "colab": {
          "base_uri": "https://localhost:8080/"
        },
        "outputId": "667b6276-f957-4701-da11-7f55f51a14bb"
      },
      "outputs": [
        {
          "output_type": "stream",
          "name": "stdout",
          "text": [
            "Downloading http://yann.lecun.com/exdb/mnist/train-images-idx3-ubyte.gz\n",
            "Downloading http://yann.lecun.com/exdb/mnist/train-images-idx3-ubyte.gz to data/MNIST/raw/train-images-idx3-ubyte.gz\n"
          ]
        },
        {
          "output_type": "stream",
          "name": "stderr",
          "text": [
            "100%|██████████| 9912422/9912422 [00:00<00:00, 252275208.85it/s]\n"
          ]
        },
        {
          "output_type": "stream",
          "name": "stdout",
          "text": [
            "Extracting data/MNIST/raw/train-images-idx3-ubyte.gz to data/MNIST/raw\n",
            "\n",
            "Downloading http://yann.lecun.com/exdb/mnist/train-labels-idx1-ubyte.gz\n",
            "Downloading http://yann.lecun.com/exdb/mnist/train-labels-idx1-ubyte.gz to data/MNIST/raw/train-labels-idx1-ubyte.gz\n"
          ]
        },
        {
          "output_type": "stream",
          "name": "stderr",
          "text": [
            "100%|██████████| 28881/28881 [00:00<00:00, 5628982.06it/s]\n"
          ]
        },
        {
          "output_type": "stream",
          "name": "stdout",
          "text": [
            "Extracting data/MNIST/raw/train-labels-idx1-ubyte.gz to data/MNIST/raw\n",
            "\n",
            "Downloading http://yann.lecun.com/exdb/mnist/t10k-images-idx3-ubyte.gz\n",
            "Downloading http://yann.lecun.com/exdb/mnist/t10k-images-idx3-ubyte.gz to data/MNIST/raw/t10k-images-idx3-ubyte.gz\n"
          ]
        },
        {
          "output_type": "stream",
          "name": "stderr",
          "text": [
            "100%|██████████| 1648877/1648877 [00:00<00:00, 104892715.28it/s]\n"
          ]
        },
        {
          "output_type": "stream",
          "name": "stdout",
          "text": [
            "Extracting data/MNIST/raw/t10k-images-idx3-ubyte.gz to data/MNIST/raw\n",
            "\n",
            "Downloading http://yann.lecun.com/exdb/mnist/t10k-labels-idx1-ubyte.gz\n",
            "Downloading http://yann.lecun.com/exdb/mnist/t10k-labels-idx1-ubyte.gz to data/MNIST/raw/t10k-labels-idx1-ubyte.gz\n"
          ]
        },
        {
          "output_type": "stream",
          "name": "stderr",
          "text": [
            "100%|██████████| 4542/4542 [00:00<00:00, 21501725.47it/s]\n"
          ]
        },
        {
          "output_type": "stream",
          "name": "stdout",
          "text": [
            "Extracting data/MNIST/raw/t10k-labels-idx1-ubyte.gz to data/MNIST/raw\n",
            "\n"
          ]
        }
      ],
      "source": [
        "from torchvision import datasets\n",
        "from torchvision.transforms import ToTensor\n",
        "train_data = datasets.MNIST(\n",
        "    root = 'data',\n",
        "    train = True,                         \n",
        "    transform = ToTensor(), \n",
        "    download = True,            \n",
        ")\n",
        "test_data = datasets.MNIST(\n",
        "    root = 'data', \n",
        "    train = False, \n",
        "    transform = ToTensor()\n",
        ")"
      ]
    },
    {
      "cell_type": "code",
      "execution_count": null,
      "metadata": {
        "colab": {
          "base_uri": "https://localhost:8080/"
        },
        "id": "yu_PamwmPDV-",
        "outputId": "f247675b-b093-49aa-9b62-6d39be037338"
      },
      "outputs": [
        {
          "output_type": "stream",
          "name": "stdout",
          "text": [
            "Dataset MNIST\n",
            "    Number of datapoints: 60000\n",
            "    Root location: data\n",
            "    Split: Train\n",
            "    StandardTransform\n",
            "Transform: ToTensor()\n"
          ]
        }
      ],
      "source": [
        "print(train_data)"
      ]
    },
    {
      "cell_type": "code",
      "execution_count": null,
      "metadata": {
        "colab": {
          "base_uri": "https://localhost:8080/"
        },
        "id": "3owQRxAzPKiM",
        "outputId": "33a7c039-a451-492a-af1e-f02fcc61059c"
      },
      "outputs": [
        {
          "output_type": "stream",
          "name": "stdout",
          "text": [
            "Dataset MNIST\n",
            "    Number of datapoints: 10000\n",
            "    Root location: data\n",
            "    Split: Test\n",
            "    StandardTransform\n",
            "Transform: ToTensor()\n"
          ]
        }
      ],
      "source": [
        "print(test_data)"
      ]
    },
    {
      "cell_type": "code",
      "execution_count": null,
      "metadata": {
        "colab": {
          "base_uri": "https://localhost:8080/"
        },
        "id": "9h94h5E7CHdL",
        "outputId": "b03e5c4d-2c76-4cc6-eb51-2da864c6aba6"
      },
      "outputs": [
        {
          "output_type": "execute_result",
          "data": {
            "text/plain": [
              "{'train': <torch.utils.data.dataloader.DataLoader at 0x7f9883993ca0>,\n",
              " 'test': <torch.utils.data.dataloader.DataLoader at 0x7f9883993220>}"
            ]
          },
          "metadata": {},
          "execution_count": 7
        }
      ],
      "source": [
        "from torch.utils.data import DataLoader\n",
        "loaders = {\n",
        "    'train' : torch.utils.data.DataLoader(train_data, \n",
        "                                          batch_size=100, \n",
        "                                          shuffle=True, \n",
        "                                          num_workers=1),\n",
        "    \n",
        "    'test'  : torch.utils.data.DataLoader(test_data, \n",
        "                                          batch_size=100, \n",
        "                                          shuffle=True, \n",
        "                                          num_workers=1),\n",
        "}\n",
        "loaders"
      ]
    },
    {
      "cell_type": "code",
      "execution_count": null,
      "metadata": {
        "colab": {
          "base_uri": "https://localhost:8080/"
        },
        "id": "JhFD9AtMNp7h",
        "outputId": "4fb9fb15-d33d-45eb-928f-eb965a19266a"
      },
      "outputs": [
        {
          "output_type": "execute_result",
          "data": {
            "text/plain": [
              "(100, 600)"
            ]
          },
          "metadata": {},
          "execution_count": 8
        }
      ],
      "source": [
        "len(loaders[\"test\"]), len(loaders[\"train\"])"
      ]
    },
    {
      "cell_type": "markdown",
      "metadata": {
        "id": "fLi0HABtZazJ"
      },
      "source": [
        "# Utils (training, testing and visualization fucntions)"
      ]
    },
    {
      "cell_type": "code",
      "execution_count": null,
      "metadata": {
        "id": "scSr6DfdCd_Y"
      },
      "outputs": [],
      "source": [
        "from torchvision.transforms.autoaugment import TrivialAugmentWide\n",
        "def train(cnn, optimizer, loss_func, loaders, num_epochs):\n",
        "    \n",
        "    cnn.train()\n",
        "        \n",
        "    # Train the model\n",
        "    total_step = len(loaders['train'])\n",
        "        \n",
        "    for epoch in range(num_epochs):\n",
        "        running_loss = 0.0\n",
        "        visualize = True\n",
        "\n",
        "        for i, (images, labels) in tqdm(enumerate(loaders['train']), total=len(loaders['train'])):\n",
        "            b_x = Variable(images)   # batch x\n",
        "            b_y = Variable(labels)   # batch y\n",
        "\n",
        "            output = cnn(b_x)[0]\n",
        "            b_y = b_y.to(device)\n",
        "            output = output.to(device)     \n",
        "            loss = loss_func(output, b_y)\n",
        "            \n",
        "            # clear gradients\n",
        "            optimizer.zero_grad()           \n",
        "            \n",
        "            # backpropagation\n",
        "            loss.backward()  \n",
        "\n",
        "            optimizer.step()     \n",
        "\n",
        "            running_loss += loss.item()     \n",
        "                \n",
        "        print('Epoch [{}/{}], Loss: {:.4f}'.format(epoch + 1, num_epochs, running_loss/len(loaders['train'])))"
      ]
    },
    {
      "cell_type": "code",
      "execution_count": null,
      "metadata": {
        "id": "apYJWMAKCxf1"
      },
      "outputs": [],
      "source": [
        "from sklearn.metrics import accuracy_score, f1_score, recall_score, precision_score\n",
        "\n",
        "def test(cnn, loaders):\n",
        "    # Test the model\n",
        "    cnn.eval()\n",
        "    with torch.no_grad():\n",
        "        all_labels = []\n",
        "        all_preds = []\n",
        "        for images, labels in loaders['test']:\n",
        "            test_output, last_layer = cnn(images)\n",
        "\n",
        "            preds = torch.max(test_output, 1)[1].data.squeeze().cpu().numpy()\n",
        "            labels = labels.cpu().numpy()\n",
        "            \n",
        "            all_labels.extend(labels)\n",
        "            all_preds.extend(preds)\n",
        "        \n",
        "        accuracy = accuracy_score(all_labels, all_preds)\n",
        "        precision = precision_score(all_labels, all_preds, average='weighted')\n",
        "        recall = recall_score(all_labels, all_preds, average='weighted')\n",
        "        f1 = f1_score(all_labels, all_preds, average='weighted')\n",
        "\n",
        "    # print('Accuracy of the model on the 10000 test images: %.2f' % accuracy)\n",
        "    print('Precision on the 10000 test images: %.4f' % precision)\n",
        "    print('Recall on the 10000 test images: %.4f' % recall)\n",
        "    print('F1 score on the 10000 test images: %.4f' % f1)"
      ]
    },
    {
      "cell_type": "code",
      "execution_count": null,
      "metadata": {
        "id": "g_Q9JX1oUtBn"
      },
      "outputs": [],
      "source": [
        "def visualize_conv(conv_layer):\n",
        "    fig, axs = plt.subplots(1, 2)\n",
        "\n",
        "    k = 10\n",
        "    sample_image = test_data[k]\n",
        "    axs[0].imshow(sample_image[0][0], cmap='gray')\n",
        "\n",
        "    conv_output = conv_layer(sample_image[0])\n",
        "    axs[1].imshow(conv_output[0].cpu().detach().numpy(), cmap='gray')\n",
        "\n",
        "    plt.show()"
      ]
    },
    {
      "cell_type": "markdown",
      "metadata": {
        "id": "vUMHEvjuYFOK"
      },
      "source": [
        "# Original CNN"
      ]
    },
    {
      "cell_type": "markdown",
      "metadata": {
        "id": "RZFiZzVL2sEw"
      },
      "source": [
        "## Model"
      ]
    },
    {
      "cell_type": "code",
      "source": [
        "class MNISTCNN(nn.Module):\n",
        "    def __init__(self):\n",
        "        super(MNISTCNN, self).__init__()\n",
        "        self.conv1 = nn.Sequential(         \n",
        "            nn.Conv2d(\n",
        "                in_channels=1,              \n",
        "                out_channels=16,            \n",
        "                kernel_size=5,          \n",
        "                stride=1,                   \n",
        "                padding=2,                  \n",
        "            ),                              \n",
        "            nn.ReLU(),                      \n",
        "            nn.MaxPool2d(kernel_size=2),    \n",
        "        )\n",
        "        self.conv2 = nn.Sequential(\n",
        "            nn.Conv2d(\n",
        "                in_channels=16,              \n",
        "                out_channels=32,            \n",
        "                kernel_size=5,              \n",
        "                stride=1,                   \n",
        "                padding=2,                  \n",
        "            ),  \n",
        "            nn.ReLU(),                      \n",
        "            nn.MaxPool2d(2),                \n",
        "        )\n",
        "        # fully connected layer, output 10 classes\n",
        "        self.out = nn.Linear(32 * 7 * 7, 10)\n",
        "    def forward(self, x, visualize=False):\n",
        "        # print(x.shape)\n",
        "        x = self.conv1(x)\n",
        "        # print(x.shape)\n",
        "        x = self.conv2(x)\n",
        "        # print(x.shape)\n",
        "\n",
        "        # flatten the output of conv2 to (batch_size, 32 * 7 * 7)\n",
        "        x = x.view(x.size(0), -1)       \n",
        "        output = self.out(x)\n",
        "        return output, x"
      ],
      "metadata": {
        "id": "LcdGrHxFKW1B"
      },
      "execution_count": null,
      "outputs": []
    },
    {
      "cell_type": "code",
      "execution_count": null,
      "metadata": {
        "id": "ijn93PTDCMrU"
      },
      "outputs": [],
      "source": [
        "class MNISTCNN_kernel(nn.Module):\n",
        "    def __init__(self):\n",
        "        super(MNISTCNN_kernel, self).__init__()\n",
        "        self.conv1 = nn.Sequential(         \n",
        "            nn.Conv2d(\n",
        "                in_channels=1,              \n",
        "                out_channels=16,            \n",
        "                kernel_size=7,          \n",
        "                stride=1,                   \n",
        "                padding=2,                  \n",
        "            ),                              \n",
        "            nn.ReLU(),                      \n",
        "            nn.MaxPool2d(kernel_size=2),    \n",
        "        )\n",
        "        self.conv2 = nn.Sequential(\n",
        "            nn.Conv2d(\n",
        "                in_channels=16,              \n",
        "                out_channels=32,            \n",
        "                kernel_size=7,              \n",
        "                stride=1,                   \n",
        "                padding=2,                  \n",
        "            ),  \n",
        "            nn.ReLU(),                      \n",
        "            nn.MaxPool2d(2),                \n",
        "        )\n",
        "        # fully connected layer, output 10 classes\n",
        "        self.out = nn.Linear(32 * 5 * 5, 10)\n",
        "    def forward(self, x, visualize=False):\n",
        "        # print(x.shape)\n",
        "        x = self.conv1(x)\n",
        "        # print(x.shape)\n",
        "        x = self.conv2(x)\n",
        "        # print(x.shape)\n",
        "\n",
        "        # flatten the output of conv2 to (batch_size, 32 * 7 * 7)\n",
        "        x = x.view(x.size(0), -1)       \n",
        "        output = self.out(x)\n",
        "        return output, x"
      ]
    },
    {
      "cell_type": "markdown",
      "metadata": {
        "id": "VrLwYegelC1r"
      },
      "source": [
        "## Training"
      ]
    },
    {
      "cell_type": "code",
      "execution_count": null,
      "metadata": {
        "colab": {
          "base_uri": "https://localhost:8080/"
        },
        "id": "dAlXKQnGDHSN",
        "outputId": "35676b42-1697-40ad-a1a4-c7b048ca5c11"
      },
      "outputs": [
        {
          "output_type": "stream",
          "name": "stderr",
          "text": [
            "100%|██████████| 600/600 [00:48<00:00, 12.35it/s]"
          ]
        },
        {
          "output_type": "stream",
          "name": "stdout",
          "text": [
            "Epoch [1/10], Loss: 0.1529\n"
          ]
        },
        {
          "output_type": "stream",
          "name": "stderr",
          "text": [
            "\n",
            "100%|██████████| 600/600 [00:34<00:00, 17.33it/s]"
          ]
        },
        {
          "output_type": "stream",
          "name": "stdout",
          "text": [
            "Epoch [2/10], Loss: 0.0591\n"
          ]
        },
        {
          "output_type": "stream",
          "name": "stderr",
          "text": [
            "\n",
            "100%|██████████| 600/600 [00:34<00:00, 17.16it/s]"
          ]
        },
        {
          "output_type": "stream",
          "name": "stdout",
          "text": [
            "Epoch [3/10], Loss: 0.0516\n"
          ]
        },
        {
          "output_type": "stream",
          "name": "stderr",
          "text": [
            "\n",
            "100%|██████████| 600/600 [00:33<00:00, 18.16it/s]"
          ]
        },
        {
          "output_type": "stream",
          "name": "stdout",
          "text": [
            "Epoch [4/10], Loss: 0.0457\n"
          ]
        },
        {
          "output_type": "stream",
          "name": "stderr",
          "text": [
            "\n",
            "100%|██████████| 600/600 [00:33<00:00, 17.66it/s]"
          ]
        },
        {
          "output_type": "stream",
          "name": "stdout",
          "text": [
            "Epoch [5/10], Loss: 0.0444\n"
          ]
        },
        {
          "output_type": "stream",
          "name": "stderr",
          "text": [
            "\n",
            "100%|██████████| 600/600 [00:34<00:00, 17.50it/s]"
          ]
        },
        {
          "output_type": "stream",
          "name": "stdout",
          "text": [
            "Epoch [6/10], Loss: 0.0398\n"
          ]
        },
        {
          "output_type": "stream",
          "name": "stderr",
          "text": [
            "\n",
            "100%|██████████| 600/600 [00:33<00:00, 18.07it/s]"
          ]
        },
        {
          "output_type": "stream",
          "name": "stdout",
          "text": [
            "Epoch [7/10], Loss: 0.0456\n"
          ]
        },
        {
          "output_type": "stream",
          "name": "stderr",
          "text": [
            "\n",
            "100%|██████████| 600/600 [00:33<00:00, 17.75it/s]"
          ]
        },
        {
          "output_type": "stream",
          "name": "stdout",
          "text": [
            "Epoch [8/10], Loss: 0.0355\n"
          ]
        },
        {
          "output_type": "stream",
          "name": "stderr",
          "text": [
            "\n",
            "100%|██████████| 600/600 [00:34<00:00, 17.34it/s]"
          ]
        },
        {
          "output_type": "stream",
          "name": "stdout",
          "text": [
            "Epoch [9/10], Loss: 0.0364\n"
          ]
        },
        {
          "output_type": "stream",
          "name": "stderr",
          "text": [
            "\n",
            "100%|██████████| 600/600 [00:34<00:00, 17.41it/s]"
          ]
        },
        {
          "output_type": "stream",
          "name": "stdout",
          "text": [
            "Epoch [10/10], Loss: 0.0389\n",
            "Training time: 355\n"
          ]
        },
        {
          "output_type": "stream",
          "name": "stderr",
          "text": [
            "\n"
          ]
        }
      ],
      "source": [
        "cnn = MNISTCNN()\n",
        "loss_func = nn.CrossEntropyLoss()   \n",
        "optimizer = optim.Adam(cnn.parameters(), lr = 0.01)   \n",
        "\n",
        "\n",
        "start = datetime.datetime.now()\n",
        "train(cnn, optimizer, loss_func, loaders, num_epochs=10)\n",
        "end = datetime.datetime.now()\n",
        "diff = (end - start)\n",
        "print(\"Training time:\", int(diff.total_seconds()))"
      ]
    },
    {
      "cell_type": "code",
      "source": [
        "cnn_kernel = MNISTCNN_kernel()\n",
        "loss_func = nn.CrossEntropyLoss()   \n",
        "optimizer = optim.Adam(cnn_kernel.parameters(), lr = 0.01)   \n",
        "\n",
        "\n",
        "start = datetime.datetime.now()\n",
        "train(cnn_kernel, optimizer, loss_func, loaders, num_epochs=10)\n",
        "end = datetime.datetime.now()\n",
        "diff = (end - start)\n",
        "print(\"Training time:\", int(diff.total_seconds()))"
      ],
      "metadata": {
        "colab": {
          "base_uri": "https://localhost:8080/"
        },
        "id": "YvSPXWmOKeOY",
        "outputId": "297d477f-84db-48cf-f61a-680e8d492f41"
      },
      "execution_count": null,
      "outputs": [
        {
          "output_type": "stream",
          "name": "stderr",
          "text": [
            "100%|██████████| 600/600 [00:39<00:00, 15.01it/s]"
          ]
        },
        {
          "output_type": "stream",
          "name": "stdout",
          "text": [
            "Epoch [1/10], Loss: 0.1458\n"
          ]
        },
        {
          "output_type": "stream",
          "name": "stderr",
          "text": [
            "\n",
            "100%|██████████| 600/600 [00:39<00:00, 15.04it/s]"
          ]
        },
        {
          "output_type": "stream",
          "name": "stdout",
          "text": [
            "Epoch [2/10], Loss: 0.0580\n"
          ]
        },
        {
          "output_type": "stream",
          "name": "stderr",
          "text": [
            "\n",
            "100%|██████████| 600/600 [00:39<00:00, 15.12it/s]"
          ]
        },
        {
          "output_type": "stream",
          "name": "stdout",
          "text": [
            "Epoch [3/10], Loss: 0.0516\n"
          ]
        },
        {
          "output_type": "stream",
          "name": "stderr",
          "text": [
            "\n",
            "100%|██████████| 600/600 [00:39<00:00, 15.26it/s]"
          ]
        },
        {
          "output_type": "stream",
          "name": "stdout",
          "text": [
            "Epoch [4/10], Loss: 0.0450\n"
          ]
        },
        {
          "output_type": "stream",
          "name": "stderr",
          "text": [
            "\n",
            "100%|██████████| 600/600 [00:39<00:00, 15.17it/s]"
          ]
        },
        {
          "output_type": "stream",
          "name": "stdout",
          "text": [
            "Epoch [5/10], Loss: 0.0504\n"
          ]
        },
        {
          "output_type": "stream",
          "name": "stderr",
          "text": [
            "\n",
            "100%|██████████| 600/600 [00:40<00:00, 14.98it/s]"
          ]
        },
        {
          "output_type": "stream",
          "name": "stdout",
          "text": [
            "Epoch [6/10], Loss: 0.0460\n"
          ]
        },
        {
          "output_type": "stream",
          "name": "stderr",
          "text": [
            "\n",
            "100%|██████████| 600/600 [00:39<00:00, 15.37it/s]"
          ]
        },
        {
          "output_type": "stream",
          "name": "stdout",
          "text": [
            "Epoch [7/10], Loss: 0.0494\n"
          ]
        },
        {
          "output_type": "stream",
          "name": "stderr",
          "text": [
            "\n",
            "100%|██████████| 600/600 [00:39<00:00, 15.28it/s]"
          ]
        },
        {
          "output_type": "stream",
          "name": "stdout",
          "text": [
            "Epoch [8/10], Loss: 0.0453\n"
          ]
        },
        {
          "output_type": "stream",
          "name": "stderr",
          "text": [
            "\n",
            "100%|██████████| 600/600 [00:39<00:00, 15.18it/s]"
          ]
        },
        {
          "output_type": "stream",
          "name": "stdout",
          "text": [
            "Epoch [9/10], Loss: 0.0465\n"
          ]
        },
        {
          "output_type": "stream",
          "name": "stderr",
          "text": [
            "\n",
            "100%|██████████| 600/600 [00:39<00:00, 15.29it/s]"
          ]
        },
        {
          "output_type": "stream",
          "name": "stdout",
          "text": [
            "Epoch [10/10], Loss: 0.0387\n",
            "Training time: 395\n"
          ]
        },
        {
          "output_type": "stream",
          "name": "stderr",
          "text": [
            "\n"
          ]
        }
      ]
    },
    {
      "cell_type": "markdown",
      "metadata": {
        "id": "5uGliUAJlEVA"
      },
      "source": [
        "## Testing"
      ]
    },
    {
      "cell_type": "code",
      "execution_count": null,
      "metadata": {
        "colab": {
          "base_uri": "https://localhost:8080/"
        },
        "id": "MfCRhwqLDlQI",
        "outputId": "c1993e40-3973-4782-81cf-90421bbb996a"
      },
      "outputs": [
        {
          "output_type": "stream",
          "name": "stdout",
          "text": [
            "Precision on the 10000 test images: 0.9875\n",
            "Recall on the 10000 test images: 0.9874\n",
            "F1 score on the 10000 test images: 0.9874\n"
          ]
        }
      ],
      "source": [
        "test(cnn, loaders)"
      ]
    },
    {
      "cell_type": "code",
      "source": [
        "test(cnn_kernel, loaders)"
      ],
      "metadata": {
        "colab": {
          "base_uri": "https://localhost:8080/"
        },
        "id": "Zh4hU2dbKiIr",
        "outputId": "904f50f5-16ae-454c-af5a-4ed15937a4ae"
      },
      "execution_count": null,
      "outputs": [
        {
          "output_type": "stream",
          "name": "stdout",
          "text": [
            "Precision on the 10000 test images: 0.9819\n",
            "Recall on the 10000 test images: 0.9818\n",
            "F1 score on the 10000 test images: 0.9818\n"
          ]
        }
      ]
    },
    {
      "cell_type": "markdown",
      "metadata": {
        "id": "ipYKNS36YBXd"
      },
      "source": [
        "# CNN with fractional filters"
      ]
    },
    {
      "cell_type": "markdown",
      "metadata": {
        "id": "GYu8reMx2pEy"
      },
      "source": [
        "## Model"
      ]
    },
    {
      "cell_type": "code",
      "execution_count": null,
      "metadata": {
        "id": "5-BOqcipX0wL"
      },
      "outputs": [],
      "source": [
        "class FractionalConv2d(nn.Module):\n",
        "    def __init__(self, in_channels, out_channels, kernel_size, stride=1, padding=0):\n",
        "        super(FractionalConv2d, self).__init__()\n",
        "\n",
        "        self.in_channels = in_channels\n",
        "        self.out_channels = out_channels\n",
        "        self.kernel_size = kernel_size\n",
        "        self.stride = stride\n",
        "        self.padding = padding\n",
        "\n",
        "        # Initializing the learnable parameters\n",
        "\n",
        "        # In A < 1, because the gamma function is not defined for negative integers or zero.\n",
        "        # In the paper, they mention using a regularization term \n",
        "        # to ensure that A is greater than or equal to 1, which would avoid this issue.\n",
        "        self.A = torch.randn(self.out_channels, self.in_channels)\n",
        "        self.A = nn.Parameter(torch.abs(self.A) + 1)\n",
        "\n",
        "        self.sigma = nn.Parameter(torch.randn(self.out_channels, self.in_channels).abs())\n",
        "        self.x0 = nn.Parameter(torch.randn(self.out_channels, self.in_channels))\n",
        "        self.y0 = nn.Parameter(torch.randn(self.out_channels, self.in_channels))\n",
        "        self.a = nn.Parameter(torch.rand(self.out_channels, self.in_channels) * 2)\n",
        "        self.b = nn.Parameter(torch.rand(self.out_channels, self.in_channels) * 2)\n",
        "\n",
        "        self.weights = None\n",
        "        self.compute_weights()\n",
        "\n",
        "    def compute_weights(self):\n",
        "        # Computing weights\n",
        "        weights = torch.zeros(self.out_channels, self.in_channels, self.kernel_size, self.kernel_size)\n",
        "        dx = self._fractional_derivative(self.a, self.A, self.sigma, self.x0)\n",
        "        dy = self._fractional_derivative(self.a, self.A, self.sigma, self.y0)\n",
        "\n",
        "        kernel = torch.einsum('abc,abd->acbd', dx, dy)\n",
        "        weights = kernel.reshape(dx.shape[0], dx.shape[1], dx.shape[2], dy.shape[2])\n",
        "\n",
        "        self.weights = weights.to(device)\n",
        "\n",
        "    def forward(self, x):\n",
        "        self.weights = self.weights.clone().detach()\n",
        "        x = x.to(device)\n",
        "        out = F.conv2d(x, self.weights, stride=self.stride, padding=self.padding)\n",
        "        return out\n",
        "\n",
        "    def _fractional_derivative(self, alpha, A, sigma, x0):\n",
        "        N = 10\n",
        "        h = torch.tensor(1 / self.kernel_size).repeat(self.out_channels, self.in_channels, self.kernel_size)\n",
        "\n",
        "        def gamma_func(a):\n",
        "            return torch.exp(torch.lgamma(a))\n",
        "\n",
        "        def G(x):\n",
        "            return torch.exp(-(torch.square(x-x0))/torch.square(sigma))\n",
        "        \n",
        "        def f(x, n):\n",
        "            return (gamma_func(alpha + 1) * G(x)) / ((-1)**n * gamma_func(n+1) * gamma_func(1-n+alpha))\n",
        "\n",
        "        dx = torch.zeros (self.out_channels, self.in_channels, self.kernel_size)\n",
        "        for x in range(1, self.kernel_size+1):\n",
        "            x = torch.tensor(x).repeat(self.out_channels, self.in_channels)\n",
        "            sum_term = 0\n",
        "            for n in range(N+1):\n",
        "                n = torch.tensor(n).repeat(self.out_channels, self.in_channels)\n",
        "                sum_term += f(x, n)\n",
        "\n",
        "            dx[..., x-1] = sum_term\n",
        "\n",
        "        dx = dx.to(device)\n",
        "        h = h.to(device)\n",
        "        A = A.unsqueeze(2).repeat(1, 1, self.kernel_size)\n",
        "        A = A.to(device)\n",
        "        dx = (A / h) * dx\n",
        "\n",
        "        return dx"
      ]
    },
    {
      "cell_type": "code",
      "source": [
        "class MNISTCNN_frac(nn.Module):\n",
        "    def __init__(self):\n",
        "        super(MNISTCNN_frac, self).__init__()\n",
        "        self.conv1 = nn.Sequential(         \n",
        "            nn.Conv2d(\n",
        "                in_channels=1,              \n",
        "                out_channels=16,            \n",
        "                kernel_size=5,          \n",
        "                stride=1,                   \n",
        "                padding=2,                  \n",
        "            ),                              \n",
        "            nn.ReLU(),                      \n",
        "            nn.MaxPool2d(kernel_size=2),    \n",
        "        )\n",
        "        self.conv2 = nn.Sequential(\n",
        "            FractionalConv2d(\n",
        "                in_channels=16,              \n",
        "                out_channels=32,            \n",
        "                kernel_size=5,           \n",
        "                stride=1,                   \n",
        "                padding=2,                  \n",
        "            ),    \n",
        "            nn.ReLU(),                      \n",
        "            nn.MaxPool2d(2),                \n",
        "        )\n",
        "        # fully connected layer, output 10 classes\n",
        "        self.out = nn.Linear(32 * 7 * 7, 10).to(device)\n",
        "    def forward(self, x):\n",
        "        x = self.conv1(x)\n",
        "        x = self.conv2(x)\n",
        "\n",
        "        # flatten the output of conv2 to (batch_size, 32 * 7 * 7)\n",
        "        x = x.view(x.size(0), -1)\n",
        "        x.to(device)\n",
        "        output = self.out(x)\n",
        "        return output, x"
      ],
      "metadata": {
        "id": "CaunFq-hEZ8I"
      },
      "execution_count": null,
      "outputs": []
    },
    {
      "cell_type": "code",
      "execution_count": null,
      "metadata": {
        "id": "xAU0f8M9ofZM"
      },
      "outputs": [],
      "source": [
        "class MNISTCNN_frac_kernel(nn.Module):\n",
        "    def __init__(self):\n",
        "        super(MNISTCNN_frac_kernel, self).__init__()\n",
        "        self.conv1 = nn.Sequential(         \n",
        "            nn.Conv2d(\n",
        "                in_channels=1,              \n",
        "                out_channels=16,            \n",
        "                kernel_size=7,         \n",
        "                stride=1,                   \n",
        "                padding=2,                  \n",
        "            ),                              \n",
        "            nn.ReLU(),                      \n",
        "            nn.MaxPool2d(kernel_size=2),    \n",
        "        )\n",
        "        self.conv2 = nn.Sequential(\n",
        "            FractionalConv2d(\n",
        "                in_channels=16,              \n",
        "                out_channels=32,            \n",
        "                kernel_size=7,           \n",
        "                stride=1,                   \n",
        "                padding=2,                  \n",
        "            ),    \n",
        "            nn.ReLU(),                      \n",
        "            nn.MaxPool2d(2),                \n",
        "        )\n",
        "        # fully connected layer, output 10 classes\n",
        "        self.out = nn.Linear(32 * 5 * 5, 10).to(device)\n",
        "    def forward(self, x):\n",
        "        x = self.conv1(x)\n",
        "        x = self.conv2(x)\n",
        "\n",
        "        # flatten the output of conv2 to (batch_size, 32 * 7 * 7)\n",
        "        x = x.view(x.size(0), -1)\n",
        "        x.to(device)\n",
        "        output = self.out(x)\n",
        "        return output, x"
      ]
    },
    {
      "cell_type": "markdown",
      "metadata": {
        "id": "u60sG6TflPgH"
      },
      "source": [
        "## Training"
      ]
    },
    {
      "cell_type": "code",
      "execution_count": null,
      "metadata": {
        "colab": {
          "base_uri": "https://localhost:8080/"
        },
        "id": "DjpYZaAKoe2u",
        "outputId": "9a33f782-8e24-41f9-fa0e-60fe68a431ce"
      },
      "outputs": [
        {
          "output_type": "stream",
          "name": "stderr",
          "text": [
            "100%|██████████| 600/600 [00:18<00:00, 31.75it/s]"
          ]
        },
        {
          "output_type": "stream",
          "name": "stdout",
          "text": [
            "Epoch [1/10], Loss: 0.6341\n"
          ]
        },
        {
          "output_type": "stream",
          "name": "stderr",
          "text": [
            "\n",
            "100%|██████████| 600/600 [00:20<00:00, 29.91it/s]"
          ]
        },
        {
          "output_type": "stream",
          "name": "stdout",
          "text": [
            "Epoch [2/10], Loss: 0.4011\n"
          ]
        },
        {
          "output_type": "stream",
          "name": "stderr",
          "text": [
            "\n",
            "100%|██████████| 600/600 [00:19<00:00, 31.22it/s]"
          ]
        },
        {
          "output_type": "stream",
          "name": "stdout",
          "text": [
            "Epoch [3/10], Loss: 0.3458\n"
          ]
        },
        {
          "output_type": "stream",
          "name": "stderr",
          "text": [
            "\n",
            "100%|██████████| 600/600 [00:19<00:00, 30.77it/s]"
          ]
        },
        {
          "output_type": "stream",
          "name": "stdout",
          "text": [
            "Epoch [4/10], Loss: 0.3057\n"
          ]
        },
        {
          "output_type": "stream",
          "name": "stderr",
          "text": [
            "\n",
            "100%|██████████| 600/600 [00:19<00:00, 30.41it/s]"
          ]
        },
        {
          "output_type": "stream",
          "name": "stdout",
          "text": [
            "Epoch [5/10], Loss: 0.2762\n"
          ]
        },
        {
          "output_type": "stream",
          "name": "stderr",
          "text": [
            "\n",
            "100%|██████████| 600/600 [00:18<00:00, 31.90it/s]"
          ]
        },
        {
          "output_type": "stream",
          "name": "stdout",
          "text": [
            "Epoch [6/10], Loss: 0.2481\n"
          ]
        },
        {
          "output_type": "stream",
          "name": "stderr",
          "text": [
            "\n",
            "100%|██████████| 600/600 [00:20<00:00, 29.43it/s]"
          ]
        },
        {
          "output_type": "stream",
          "name": "stdout",
          "text": [
            "Epoch [7/10], Loss: 0.2217\n"
          ]
        },
        {
          "output_type": "stream",
          "name": "stderr",
          "text": [
            "\n",
            "100%|██████████| 600/600 [00:18<00:00, 32.15it/s]"
          ]
        },
        {
          "output_type": "stream",
          "name": "stdout",
          "text": [
            "Epoch [8/10], Loss: 0.2083\n"
          ]
        },
        {
          "output_type": "stream",
          "name": "stderr",
          "text": [
            "\n",
            "100%|██████████| 600/600 [00:20<00:00, 29.45it/s]"
          ]
        },
        {
          "output_type": "stream",
          "name": "stdout",
          "text": [
            "Epoch [9/10], Loss: 0.1899\n"
          ]
        },
        {
          "output_type": "stream",
          "name": "stderr",
          "text": [
            "\n",
            "100%|██████████| 600/600 [00:19<00:00, 30.74it/s]"
          ]
        },
        {
          "output_type": "stream",
          "name": "stdout",
          "text": [
            "Epoch [10/10], Loss: 0.1750\n",
            "Training time: 195\n"
          ]
        },
        {
          "output_type": "stream",
          "name": "stderr",
          "text": [
            "\n"
          ]
        }
      ],
      "source": [
        "cnn_frac = MNISTCNN_frac()\n",
        "loss_func = nn.CrossEntropyLoss()\n",
        "optimizer = optim.Adam(cnn_frac.parameters(), lr = 0.01)   \n",
        "\n",
        "start = datetime.datetime.now()\n",
        "train(cnn_frac, optimizer, loss_func, loaders, num_epochs=10)\n",
        "end = datetime.datetime.now()\n",
        "diff = (end - start)\n",
        "print(\"Training time:\", int(diff.total_seconds()))"
      ]
    },
    {
      "cell_type": "code",
      "source": [
        "cnn_frac_kernel = MNISTCNN_frac_kernel()\n",
        "loss_func = nn.CrossEntropyLoss()\n",
        "optimizer = optim.Adam(cnn_frac_kernel.parameters(), lr = 0.01)   \n",
        "\n",
        "start = datetime.datetime.now()\n",
        "train(cnn_frac_kernel, optimizer, loss_func, loaders, num_epochs=10)\n",
        "end = datetime.datetime.now()\n",
        "diff = (end - start)\n",
        "print(\"Training time:\", int(diff.total_seconds()))"
      ],
      "metadata": {
        "id": "7LSi0qTvE1pX",
        "colab": {
          "base_uri": "https://localhost:8080/"
        },
        "outputId": "2f3989a5-b9df-49e6-ddb5-4ffbca108ad7"
      },
      "execution_count": null,
      "outputs": [
        {
          "output_type": "stream",
          "name": "stderr",
          "text": [
            "100%|██████████| 600/600 [00:23<00:00, 25.74it/s]"
          ]
        },
        {
          "output_type": "stream",
          "name": "stdout",
          "text": [
            "Epoch [1/10], Loss: 2.3096\n"
          ]
        },
        {
          "output_type": "stream",
          "name": "stderr",
          "text": [
            "\n",
            "100%|██████████| 600/600 [00:23<00:00, 25.79it/s]"
          ]
        },
        {
          "output_type": "stream",
          "name": "stdout",
          "text": [
            "Epoch [2/10], Loss: 2.3020\n"
          ]
        },
        {
          "output_type": "stream",
          "name": "stderr",
          "text": [
            "\n",
            "100%|██████████| 600/600 [00:23<00:00, 25.71it/s]"
          ]
        },
        {
          "output_type": "stream",
          "name": "stdout",
          "text": [
            "Epoch [3/10], Loss: 2.3020\n"
          ]
        },
        {
          "output_type": "stream",
          "name": "stderr",
          "text": [
            "\n",
            "100%|██████████| 600/600 [00:23<00:00, 25.84it/s]"
          ]
        },
        {
          "output_type": "stream",
          "name": "stdout",
          "text": [
            "Epoch [4/10], Loss: 2.3020\n"
          ]
        },
        {
          "output_type": "stream",
          "name": "stderr",
          "text": [
            "\n",
            "100%|██████████| 600/600 [00:23<00:00, 25.88it/s]"
          ]
        },
        {
          "output_type": "stream",
          "name": "stdout",
          "text": [
            "Epoch [5/10], Loss: 2.3018\n"
          ]
        },
        {
          "output_type": "stream",
          "name": "stderr",
          "text": [
            "\n",
            "100%|██████████| 600/600 [00:23<00:00, 25.37it/s]"
          ]
        },
        {
          "output_type": "stream",
          "name": "stdout",
          "text": [
            "Epoch [6/10], Loss: 2.3016\n"
          ]
        },
        {
          "output_type": "stream",
          "name": "stderr",
          "text": [
            "\n",
            "100%|██████████| 600/600 [00:22<00:00, 26.92it/s]"
          ]
        },
        {
          "output_type": "stream",
          "name": "stdout",
          "text": [
            "Epoch [7/10], Loss: 2.2999\n"
          ]
        },
        {
          "output_type": "stream",
          "name": "stderr",
          "text": [
            "\n",
            "100%|██████████| 600/600 [00:23<00:00, 25.82it/s]"
          ]
        },
        {
          "output_type": "stream",
          "name": "stdout",
          "text": [
            "Epoch [8/10], Loss: 2.2958\n"
          ]
        },
        {
          "output_type": "stream",
          "name": "stderr",
          "text": [
            "\n",
            "100%|██████████| 600/600 [00:23<00:00, 25.01it/s]"
          ]
        },
        {
          "output_type": "stream",
          "name": "stdout",
          "text": [
            "Epoch [9/10], Loss: 2.2865\n"
          ]
        },
        {
          "output_type": "stream",
          "name": "stderr",
          "text": [
            "\n",
            "100%|██████████| 600/600 [00:23<00:00, 25.06it/s]"
          ]
        },
        {
          "output_type": "stream",
          "name": "stdout",
          "text": [
            "Epoch [10/10], Loss: 2.2678\n",
            "Training time: 233\n"
          ]
        },
        {
          "output_type": "stream",
          "name": "stderr",
          "text": [
            "\n"
          ]
        }
      ]
    },
    {
      "cell_type": "markdown",
      "metadata": {
        "id": "qdfMpVAhlSO0"
      },
      "source": [
        "## Testing"
      ]
    },
    {
      "cell_type": "code",
      "execution_count": null,
      "metadata": {
        "id": "rK5gyes3dQDp",
        "colab": {
          "base_uri": "https://localhost:8080/"
        },
        "outputId": "9eb119d4-9c19-4962-c549-5bb8645a6e6b"
      },
      "outputs": [
        {
          "output_type": "stream",
          "name": "stdout",
          "text": [
            "Precision on the 10000 test images: 0.9536\n",
            "Recall on the 10000 test images: 0.9533\n",
            "F1 score on the 10000 test images: 0.9532\n"
          ]
        }
      ],
      "source": [
        "test(cnn_frac, loaders)"
      ]
    },
    {
      "cell_type": "code",
      "source": [
        "test(cnn_frac_kernel, loaders)"
      ],
      "metadata": {
        "id": "rFZutnofE5HS",
        "colab": {
          "base_uri": "https://localhost:8080/"
        },
        "outputId": "e2468bbe-0595-434d-8308-4cbba720b5f6"
      },
      "execution_count": null,
      "outputs": [
        {
          "output_type": "stream",
          "name": "stdout",
          "text": [
            "Precision on the 10000 test images: 0.9573\n",
            "Recall on the 10000 test images: 0.9562\n",
            "F1 score on the 10000 test images: 0.9562\n"
          ]
        }
      ]
    },
    {
      "cell_type": "markdown",
      "metadata": {
        "id": "dt6-INgamdDv"
      },
      "source": [
        "# CNN with pruning"
      ]
    },
    {
      "cell_type": "markdown",
      "metadata": {
        "id": "6tYl65sa2m7M"
      },
      "source": [
        "## Model"
      ]
    },
    {
      "cell_type": "code",
      "execution_count": null,
      "metadata": {
        "id": "7jZbBZ5dm8Bj"
      },
      "outputs": [],
      "source": [
        "class PrunedConv2d(nn.Module):\n",
        "    def __init__(self, in_channels, out_channels, kernel_size, stride=1, padding=0, bias=True, sparsity=0.5):\n",
        "        super(PrunedConv2d, self).__init__()\n",
        "        self.conv = nn.Conv2d(in_channels, out_channels, kernel_size, stride, padding, bias=bias)\n",
        "        self.sparsity = sparsity\n",
        "\n",
        "        self.prune()\n",
        "\n",
        "    def forward(self, x):\n",
        "        return self.conv(x)\n",
        "\n",
        "    def prune(self):\n",
        "        prune.random_unstructured(self.conv, name=\"weight\", amount=0.3)\n",
        "\n",
        "    def get_sparsity(self):\n",
        "        return self.sparsity\n",
        "\n",
        "    def set_sparsity(self, sparsity):\n",
        "        self.sparsity = sparsity\n",
        "        self.prune()"
      ]
    },
    {
      "cell_type": "code",
      "execution_count": null,
      "metadata": {
        "id": "da17SG5bmb5h"
      },
      "outputs": [],
      "source": [
        "class MNISTCNN_pruned(nn.Module):\n",
        "    def __init__(self):\n",
        "        super(MNISTCNN_pruned, self).__init__()\n",
        "        self.conv1 = nn.Sequential(         \n",
        "            nn.Conv2d(\n",
        "                in_channels=1,              \n",
        "                out_channels=16,            \n",
        "                kernel_size=5,          \n",
        "                stride=1,                   \n",
        "                padding=2,                  \n",
        "            ),                              \n",
        "            nn.ReLU(),                      \n",
        "            nn.MaxPool2d(kernel_size=2),    \n",
        "        )\n",
        "        self.conv2 = nn.Sequential(\n",
        "            PrunedConv2d(\n",
        "                in_channels=16,              \n",
        "                out_channels=32,            \n",
        "                kernel_size=5,             \n",
        "                stride=1,                   \n",
        "                padding=2,                  \n",
        "            ),  \n",
        "            nn.ReLU(),                      \n",
        "            nn.MaxPool2d(2),                \n",
        "        )\n",
        "        # fully connected layer, output 10 classes\n",
        "        self.out = nn.Linear(32 * 7 * 7, 10)\n",
        "    def forward(self, x):\n",
        "        x = self.conv1(x)\n",
        "        x = self.conv2(x)\n",
        "        # flatten the output of conv2 to (batch_size, 32 * 7 * 7)\n",
        "        x = x.view(x.size(0), -1)       \n",
        "        output = self.out(x)\n",
        "        return output, x"
      ]
    },
    {
      "cell_type": "code",
      "source": [
        "class MNISTCNN_pruned_kernel(nn.Module):\n",
        "    def __init__(self):\n",
        "        super(MNISTCNN_pruned_kernel, self).__init__()\n",
        "        self.conv1 = nn.Sequential(         \n",
        "            nn.Conv2d(\n",
        "                in_channels=1,              \n",
        "                out_channels=16,            \n",
        "                kernel_size=7,          \n",
        "                stride=1,                   \n",
        "                padding=2,                  \n",
        "            ),                              \n",
        "            nn.ReLU(),                      \n",
        "            nn.MaxPool2d(kernel_size=2),    \n",
        "        )\n",
        "        self.conv2 = nn.Sequential(\n",
        "            PrunedConv2d(\n",
        "                in_channels=16,              \n",
        "                out_channels=32,            \n",
        "                kernel_size=7,             \n",
        "                stride=1,                   \n",
        "                padding=2,                  \n",
        "            ),  \n",
        "            nn.ReLU(),                      \n",
        "            nn.MaxPool2d(2),                \n",
        "        )\n",
        "        # fully connected layer, output 10 classes\n",
        "        self.out = nn.Linear(32 * 5 * 5, 10)\n",
        "    def forward(self, x):\n",
        "        x = self.conv1(x)\n",
        "        x = self.conv2(x)\n",
        "        # flatten the output of conv2 to (batch_size, 32 * 7 * 7)\n",
        "        x = x.view(x.size(0), -1)       \n",
        "        output = self.out(x)\n",
        "        return output, x"
      ],
      "metadata": {
        "id": "X2qYEIFYEkEd"
      },
      "execution_count": null,
      "outputs": []
    },
    {
      "cell_type": "markdown",
      "metadata": {
        "id": "Jb45zDMGnmYu"
      },
      "source": [
        "## Training"
      ]
    },
    {
      "cell_type": "code",
      "execution_count": null,
      "metadata": {
        "colab": {
          "base_uri": "https://localhost:8080/"
        },
        "id": "ufvuiB8WnoBC",
        "outputId": "1b908a42-8592-485f-b813-9be19628e523"
      },
      "outputs": [
        {
          "output_type": "stream",
          "name": "stderr",
          "text": [
            "100%|██████████| 600/600 [00:44<00:00, 13.36it/s]"
          ]
        },
        {
          "output_type": "stream",
          "name": "stdout",
          "text": [
            "Epoch [1/10], Loss: 0.1517\n"
          ]
        },
        {
          "output_type": "stream",
          "name": "stderr",
          "text": [
            "\n",
            "100%|██████████| 600/600 [00:34<00:00, 17.61it/s]"
          ]
        },
        {
          "output_type": "stream",
          "name": "stdout",
          "text": [
            "Epoch [2/10], Loss: 0.0603\n"
          ]
        },
        {
          "output_type": "stream",
          "name": "stderr",
          "text": [
            "\n",
            "100%|██████████| 600/600 [00:36<00:00, 16.61it/s]"
          ]
        },
        {
          "output_type": "stream",
          "name": "stdout",
          "text": [
            "Epoch [3/10], Loss: 0.0488\n"
          ]
        },
        {
          "output_type": "stream",
          "name": "stderr",
          "text": [
            "\n",
            "100%|██████████| 600/600 [00:35<00:00, 16.82it/s]"
          ]
        },
        {
          "output_type": "stream",
          "name": "stdout",
          "text": [
            "Epoch [4/10], Loss: 0.0490\n"
          ]
        },
        {
          "output_type": "stream",
          "name": "stderr",
          "text": [
            "\n",
            "100%|██████████| 600/600 [00:35<00:00, 16.73it/s]"
          ]
        },
        {
          "output_type": "stream",
          "name": "stdout",
          "text": [
            "Epoch [5/10], Loss: 0.0428\n"
          ]
        },
        {
          "output_type": "stream",
          "name": "stderr",
          "text": [
            "\n",
            "100%|██████████| 600/600 [00:35<00:00, 16.88it/s]"
          ]
        },
        {
          "output_type": "stream",
          "name": "stdout",
          "text": [
            "Epoch [6/10], Loss: 0.0405\n"
          ]
        },
        {
          "output_type": "stream",
          "name": "stderr",
          "text": [
            "\n",
            "100%|██████████| 600/600 [00:35<00:00, 16.97it/s]"
          ]
        },
        {
          "output_type": "stream",
          "name": "stdout",
          "text": [
            "Epoch [7/10], Loss: 0.0417\n"
          ]
        },
        {
          "output_type": "stream",
          "name": "stderr",
          "text": [
            "\n",
            "100%|██████████| 600/600 [00:36<00:00, 16.59it/s]"
          ]
        },
        {
          "output_type": "stream",
          "name": "stdout",
          "text": [
            "Epoch [8/10], Loss: 0.0379\n"
          ]
        },
        {
          "output_type": "stream",
          "name": "stderr",
          "text": [
            "\n",
            "100%|██████████| 600/600 [00:36<00:00, 16.38it/s]"
          ]
        },
        {
          "output_type": "stream",
          "name": "stdout",
          "text": [
            "Epoch [9/10], Loss: 0.0386\n"
          ]
        },
        {
          "output_type": "stream",
          "name": "stderr",
          "text": [
            "\n",
            "100%|██████████| 600/600 [00:35<00:00, 16.69it/s]"
          ]
        },
        {
          "output_type": "stream",
          "name": "stdout",
          "text": [
            "Epoch [10/10], Loss: 0.0323\n",
            "Training time: 366\n"
          ]
        },
        {
          "output_type": "stream",
          "name": "stderr",
          "text": [
            "\n"
          ]
        }
      ],
      "source": [
        "cnn_pruned = MNISTCNN_pruned()\n",
        "loss_func = nn.CrossEntropyLoss()   \n",
        "optimizer = optim.Adam(cnn_pruned.parameters(), lr = 0.01)   \n",
        "\n",
        "\n",
        "start = datetime.datetime.now()\n",
        "train(cnn_pruned, optimizer, loss_func, loaders, num_epochs=10)\n",
        "end = datetime.datetime.now()\n",
        "diff = (end - start)\n",
        "print(\"Training time:\", int(diff.total_seconds()))"
      ]
    },
    {
      "cell_type": "code",
      "source": [
        "cnn_pruned_kernel = MNISTCNN_pruned_kernel()\n",
        "loss_func = nn.CrossEntropyLoss()   \n",
        "optimizer = optim.Adam(cnn_pruned_kernel.parameters(), lr = 0.01)   \n",
        "\n",
        "\n",
        "start = datetime.datetime.now()\n",
        "train(cnn_pruned_kernel, optimizer, loss_func, loaders, num_epochs=10)\n",
        "end = datetime.datetime.now()\n",
        "diff = (end - start)\n",
        "print(\"Training time:\", int(diff.total_seconds()))"
      ],
      "metadata": {
        "colab": {
          "base_uri": "https://localhost:8080/"
        },
        "id": "41xis8KxFAOE",
        "outputId": "cc67166a-bbbc-48cf-deb3-44a290c24825"
      },
      "execution_count": null,
      "outputs": [
        {
          "output_type": "stream",
          "name": "stderr",
          "text": [
            "100%|██████████| 600/600 [00:41<00:00, 14.47it/s]"
          ]
        },
        {
          "output_type": "stream",
          "name": "stdout",
          "text": [
            "Epoch [1/10], Loss: 0.1523\n"
          ]
        },
        {
          "output_type": "stream",
          "name": "stderr",
          "text": [
            "\n",
            "100%|██████████| 600/600 [00:41<00:00, 14.53it/s]"
          ]
        },
        {
          "output_type": "stream",
          "name": "stdout",
          "text": [
            "Epoch [2/10], Loss: 0.0669\n"
          ]
        },
        {
          "output_type": "stream",
          "name": "stderr",
          "text": [
            "\n",
            "100%|██████████| 600/600 [00:41<00:00, 14.57it/s]"
          ]
        },
        {
          "output_type": "stream",
          "name": "stdout",
          "text": [
            "Epoch [3/10], Loss: 0.0519\n"
          ]
        },
        {
          "output_type": "stream",
          "name": "stderr",
          "text": [
            "\n",
            "100%|██████████| 600/600 [00:41<00:00, 14.59it/s]"
          ]
        },
        {
          "output_type": "stream",
          "name": "stdout",
          "text": [
            "Epoch [4/10], Loss: 0.0484\n"
          ]
        },
        {
          "output_type": "stream",
          "name": "stderr",
          "text": [
            "\n",
            "100%|██████████| 600/600 [00:40<00:00, 14.99it/s]"
          ]
        },
        {
          "output_type": "stream",
          "name": "stdout",
          "text": [
            "Epoch [5/10], Loss: 0.0457\n"
          ]
        },
        {
          "output_type": "stream",
          "name": "stderr",
          "text": [
            "\n",
            "100%|██████████| 600/600 [00:40<00:00, 14.83it/s]"
          ]
        },
        {
          "output_type": "stream",
          "name": "stdout",
          "text": [
            "Epoch [6/10], Loss: 0.0506\n"
          ]
        },
        {
          "output_type": "stream",
          "name": "stderr",
          "text": [
            "\n",
            "100%|██████████| 600/600 [00:40<00:00, 14.84it/s]"
          ]
        },
        {
          "output_type": "stream",
          "name": "stdout",
          "text": [
            "Epoch [7/10], Loss: 0.0441\n"
          ]
        },
        {
          "output_type": "stream",
          "name": "stderr",
          "text": [
            "\n",
            "100%|██████████| 600/600 [00:41<00:00, 14.58it/s]"
          ]
        },
        {
          "output_type": "stream",
          "name": "stdout",
          "text": [
            "Epoch [8/10], Loss: 0.0454\n"
          ]
        },
        {
          "output_type": "stream",
          "name": "stderr",
          "text": [
            "\n",
            "100%|██████████| 600/600 [00:41<00:00, 14.29it/s]"
          ]
        },
        {
          "output_type": "stream",
          "name": "stdout",
          "text": [
            "Epoch [9/10], Loss: 0.0463\n"
          ]
        },
        {
          "output_type": "stream",
          "name": "stderr",
          "text": [
            "\n",
            "100%|██████████| 600/600 [00:41<00:00, 14.55it/s]"
          ]
        },
        {
          "output_type": "stream",
          "name": "stdout",
          "text": [
            "Epoch [10/10], Loss: 0.0474\n",
            "Training time: 410\n"
          ]
        },
        {
          "output_type": "stream",
          "name": "stderr",
          "text": [
            "\n"
          ]
        }
      ]
    },
    {
      "cell_type": "markdown",
      "metadata": {
        "id": "dM1U51senqn3"
      },
      "source": [
        "## Testing"
      ]
    },
    {
      "cell_type": "code",
      "execution_count": null,
      "metadata": {
        "colab": {
          "base_uri": "https://localhost:8080/"
        },
        "id": "2keSOHtonsXN",
        "outputId": "4eda37e6-e6bd-40a4-c006-9c4d5f313d97"
      },
      "outputs": [
        {
          "output_type": "stream",
          "name": "stdout",
          "text": [
            "Precision on the 10000 test images: 0.9838\n",
            "Recall on the 10000 test images: 0.9836\n",
            "F1 score on the 10000 test images: 0.9836\n"
          ]
        }
      ],
      "source": [
        "test(cnn_pruned, loaders)"
      ]
    },
    {
      "cell_type": "code",
      "source": [
        "test(cnn_pruned_kernel, loaders)"
      ],
      "metadata": {
        "colab": {
          "base_uri": "https://localhost:8080/"
        },
        "id": "ZxpRZt2rFDVK",
        "outputId": "709d165e-bab5-4307-e069-d846dd7ef687"
      },
      "execution_count": null,
      "outputs": [
        {
          "output_type": "stream",
          "name": "stdout",
          "text": [
            "Precision on the 10000 test images: 0.9831\n",
            "Recall on the 10000 test images: 0.9830\n",
            "F1 score on the 10000 test images: 0.9830\n"
          ]
        }
      ]
    },
    {
      "cell_type": "markdown",
      "metadata": {
        "id": "DmU1UhhOnwj5"
      },
      "source": [
        "## Visualization"
      ]
    },
    {
      "cell_type": "code",
      "execution_count": null,
      "metadata": {
        "colab": {
          "base_uri": "https://localhost:8080/",
          "height": 54
        },
        "id": "zPYlO1KEnyT1",
        "outputId": "12e32b58-eaf4-4841-828e-ab537ec09692"
      },
      "outputs": [
        {
          "output_type": "display_data",
          "data": {
            "text/plain": [
              "<Figure size 640x480 with 2 Axes>"
            ],
            "image/png": "[encoded data removed]"
          },
          "metadata": {}
        }
      ],
      "source": [
        "pruned_conv_layer = PrunedConv2d(\n",
        "                in_channels=1,              \n",
        "                out_channels=1,      \n",
        "                kernel_size=5,       \n",
        "                stride=1,                   \n",
        "                padding=2,                  \n",
        "            )\n",
        "visualize_conv(pruned_conv_layer)"
      ]
    },
    {
      "cell_type": "markdown",
      "metadata": {
        "id": "ExSUgVa9Xe4A"
      },
      "source": [
        "# CNN with Low-rank approximation"
      ]
    },
    {
      "cell_type": "markdown",
      "metadata": {
        "id": "O58yjjtF2ktw"
      },
      "source": [
        "## Model"
      ]
    },
    {
      "cell_type": "code",
      "execution_count": null,
      "metadata": {
        "id": "dm3O2wJ4YRnc"
      },
      "outputs": [],
      "source": [
        "class LowRankConv2d(nn.Module):\n",
        "    def __init__(self, in_channels, out_channels, kernel_size, stride=1, padding=0, r=3, method='constant', decomposition='cur'):\n",
        "        super(LowRankConv2d, self).__init__()\n",
        "\n",
        "        self.in_channels = in_channels\n",
        "        self.out_channels = out_channels\n",
        "        self.kernel_size = kernel_size\n",
        "        self.stride = stride\n",
        "        self.padding = padding\n",
        "        self.r = r\n",
        "\n",
        "        self.conv = nn.Conv2d(\n",
        "                in_channels=self.in_channels,              \n",
        "                out_channels=self.out_channels,            \n",
        "                kernel_size=self.kernel_size,           \n",
        "                stride=self.stride,                   \n",
        "                padding=self.padding,                  \n",
        "            )\n",
        "        # print(self.conv.weight.shape)\n",
        "        \n",
        "        if decomposition == 'cur':\n",
        "            if method == 'constant':\n",
        "                c = 0.99\n",
        "            elif method == 'log':\n",
        "                c = np.log(self.conv.weight.shape[-1])\n",
        "            self.conv.weight.data = torch.from_numpy(self.cur_low_rank(self.conv.weight, c=c, r=r))\n",
        "        elif decomposition == 'svd':\n",
        "            self.conv.weight.data = torch.from_numpy(self.traditional_low_rank(self.conv.weight, r=r))\n",
        "\n",
        "        # print(self.conv.weight.shape)\n",
        "\n",
        "    def forward(self, x):\n",
        "        return self.conv(x)\n",
        "\n",
        "    def traditional_low_rank(self, A, r):\n",
        "        # A is a 4D weight matrix\n",
        "        # k is the target rank\n",
        "        A = A.detach().numpy()\n",
        "        \n",
        "        # Flatten the 4D weight matrix into a 2D matrix\n",
        "        n1, n2, n3, n4 = A.shape\n",
        "        A = A.reshape((n1*n2*n3, n4))\n",
        "        print(f\"A before approx: {np.linalg.matrix_rank(A)}, {A.shape}\")\n",
        "\n",
        "        # Compute the SVD of A\n",
        "        U, s, Vt = svd(A, full_matrices=False)\n",
        "\n",
        "        # print(U.shape, s.shape, Vt.shape)\n",
        "\n",
        "        # Truncate the SVD to the target rank\n",
        "        U = U[:, :r]\n",
        "        s = s[:r]\n",
        "        Vt = Vt[:r, :]\n",
        "\n",
        "        # print(U.shape, s.shape, Vt.shape)\n",
        "\n",
        "        # Compute the low-rank approximation\n",
        "        A_approx = np.dot(U, np.dot(np.diag(s), Vt))\n",
        "        # A_approx = U @ s @ Vt\n",
        "\n",
        "        print(f\"A after approx: {np.linalg.matrix_rank(A_approx)}, {A_approx.shape}\")\n",
        "\n",
        "        # Reshape the low-rank approximation to a 4D weight matrix\n",
        "        A_approx = A_approx.reshape((n1, n2, n3, n4))\n",
        "\n",
        "        return A_approx\n",
        "\n",
        "    def cur_low_rank(self, A, c, r):\n",
        "        # Flatten the 4D weight matrix into a 2D matrix\n",
        "        A = A.detach().numpy()\n",
        "        n1, n2, n3, n4 = A.shape\n",
        "        A_2d = A.reshape((n1*n2*n3, n4))\n",
        "        m, n = A_2d.shape\n",
        "        print(f\"A before approx: {np.linalg.matrix_rank(A_2d)}\")\n",
        "\n",
        "        curr_r = np.linalg.matrix_rank(A_2d)\n",
        "        \n",
        "        # Computing C\n",
        "        def choose_col_by_prob(A):\n",
        "            U, s, Vt = svd(A, full_matrices=False)\n",
        "\n",
        "            leverage_scores = np.linalg.norm(Vt[:curr_r], axis=0) ** 2 / curr_r\n",
        "            column_probabilities = np.minimum(c, leverage_scores) / np.sum(np.minimum(c, leverage_scores))\n",
        "            selected_columns = np.random.choice(A.shape[1], curr_r, replace=False, p=column_probabilities)\n",
        "            \n",
        "            return A[:, selected_columns]\n",
        "\n",
        "        C = choose_col_by_prob(A_2d)\n",
        "        R = choose_col_by_prob(np.transpose(A_2d))\n",
        "        C_pinv = np.linalg.pinv(C)\n",
        "        R_pinv = np.linalg.pinv(R)\n",
        "\n",
        "        U = C_pinv @ A_2d @ R_pinv\n",
        "\n",
        "        # print(C.shape, U.shape, R.shape)\n",
        "        # Truncate the CUR to the target rank\n",
        "        C = C[:, :r]\n",
        "        U = U[:r, :r]\n",
        "        R = R[:r, :]\n",
        "\n",
        "        A_approx = C @ U @ R\n",
        "\n",
        "        print(f\"A after approx: {np.linalg.matrix_rank(A_approx)}\")\n",
        "\n",
        "        # Reshape the low-rank approximation to a 4D weight matrix\n",
        "        A_approx = A_approx.reshape((n1, n2, n3, n4))\n",
        "        return A_approx"
      ]
    },
    {
      "cell_type": "code",
      "execution_count": null,
      "metadata": {
        "id": "UurAwvaiXdK2"
      },
      "outputs": [],
      "source": [
        "class MNISTCNN_lowrank(nn.Module):\n",
        "    def __init__(self, r=3, method='constant', decomposition='cur'):\n",
        "        super(MNISTCNN_lowrank, self).__init__()\n",
        "        self.conv1 = nn.Sequential(         \n",
        "            nn.Conv2d(\n",
        "                in_channels=1,              \n",
        "                out_channels=16,            \n",
        "                kernel_size=5,          \n",
        "                stride=1,                   \n",
        "                padding=2,                  \n",
        "            ),                              \n",
        "            nn.ReLU(),                      \n",
        "            nn.MaxPool2d(kernel_size=2),    \n",
        "        )\n",
        "        self.conv2 = nn.Sequential(\n",
        "            LowRankConv2d(\n",
        "                in_channels=16,              \n",
        "                out_channels=32,            \n",
        "                kernel_size=5,             \n",
        "                stride=1,                   \n",
        "                padding=2, \n",
        "                r=r,\n",
        "                method=method,\n",
        "                decomposition = decomposition                \n",
        "            ),  \n",
        "            nn.ReLU(),                      \n",
        "            nn.MaxPool2d(2),                \n",
        "        )\n",
        "        # fully connected layer, output 10 classes\n",
        "        self.out = nn.Linear(32 * 7 * 7, 10)\n",
        "    def forward(self, x):\n",
        "        x = self.conv1(x)\n",
        "        x = self.conv2(x)\n",
        "        # flatten the output of conv2 to (batch_size, 32 * 7 * 7)\n",
        "        x = x.view(x.size(0), -1)       \n",
        "        output = self.out(x)\n",
        "        return output, x"
      ]
    },
    {
      "cell_type": "code",
      "source": [
        "class MNISTCNN_lowrank_kernel(nn.Module):\n",
        "    def __init__(self, r=3, method='constant', decomposition='cur'):\n",
        "        super(MNISTCNN_lowrank_kernel, self).__init__()\n",
        "        self.conv1 = nn.Sequential(         \n",
        "            nn.Conv2d(\n",
        "                in_channels=1,              \n",
        "                out_channels=16,            \n",
        "                kernel_size=7,          \n",
        "                stride=1,                   \n",
        "                padding=2,                  \n",
        "            ),                              \n",
        "            nn.ReLU(),                      \n",
        "            nn.MaxPool2d(kernel_size=2),    \n",
        "        )\n",
        "        self.conv2 = nn.Sequential(\n",
        "            LowRankConv2d(\n",
        "                in_channels=16,              \n",
        "                out_channels=32,            \n",
        "                kernel_size=7,             \n",
        "                stride=1,                   \n",
        "                padding=2, \n",
        "                r=r,\n",
        "                method=method,\n",
        "                decomposition = decomposition                \n",
        "            ),  \n",
        "            nn.ReLU(),                      \n",
        "            nn.MaxPool2d(2),                \n",
        "        )\n",
        "        # fully connected layer, output 10 classes\n",
        "        self.out = nn.Linear(32 * 5 * 5, 10)\n",
        "    def forward(self, x):\n",
        "        x = self.conv1(x)\n",
        "        x = self.conv2(x)\n",
        "        # flatten the output of conv2 to (batch_size, 32 * 7 * 7)\n",
        "        x = x.view(x.size(0), -1)       \n",
        "        output = self.out(x)\n",
        "        return output, x"
      ],
      "metadata": {
        "id": "Mrc7TWpGEus2"
      },
      "execution_count": null,
      "outputs": []
    },
    {
      "cell_type": "markdown",
      "metadata": {
        "id": "4dFRBu_TleJQ"
      },
      "source": [
        "## Training"
      ]
    },
    {
      "cell_type": "code",
      "execution_count": null,
      "metadata": {
        "colab": {
          "base_uri": "https://localhost:8080/"
        },
        "id": "I5_1jpXFIjsY",
        "outputId": "e1ce7cc0-29bf-4059-bb3f-9d1b97316c5e"
      },
      "outputs": [
        {
          "output_type": "stream",
          "name": "stdout",
          "text": [
            "A before approx: 5\n",
            "A after approx: 3\n"
          ]
        },
        {
          "output_type": "stream",
          "name": "stderr",
          "text": [
            "100%|██████████| 600/600 [00:24<00:00, 24.05it/s]"
          ]
        },
        {
          "output_type": "stream",
          "name": "stdout",
          "text": [
            "Epoch [1/10], Loss: 0.1826\n"
          ]
        },
        {
          "output_type": "stream",
          "name": "stderr",
          "text": [
            "\n",
            "100%|██████████| 600/600 [00:24<00:00, 24.01it/s]"
          ]
        },
        {
          "output_type": "stream",
          "name": "stdout",
          "text": [
            "Epoch [2/10], Loss: 0.0577\n"
          ]
        },
        {
          "output_type": "stream",
          "name": "stderr",
          "text": [
            "\n",
            "100%|██████████| 600/600 [00:24<00:00, 24.06it/s]"
          ]
        },
        {
          "output_type": "stream",
          "name": "stdout",
          "text": [
            "Epoch [3/10], Loss: 0.0503\n"
          ]
        },
        {
          "output_type": "stream",
          "name": "stderr",
          "text": [
            "\n",
            "100%|██████████| 600/600 [00:24<00:00, 24.05it/s]"
          ]
        },
        {
          "output_type": "stream",
          "name": "stdout",
          "text": [
            "Epoch [4/10], Loss: 0.0444\n"
          ]
        },
        {
          "output_type": "stream",
          "name": "stderr",
          "text": [
            "\n",
            "100%|██████████| 600/600 [00:25<00:00, 23.97it/s]"
          ]
        },
        {
          "output_type": "stream",
          "name": "stdout",
          "text": [
            "Epoch [5/10], Loss: 0.0412\n"
          ]
        },
        {
          "output_type": "stream",
          "name": "stderr",
          "text": [
            "\n",
            "100%|██████████| 600/600 [00:24<00:00, 24.07it/s]"
          ]
        },
        {
          "output_type": "stream",
          "name": "stdout",
          "text": [
            "Epoch [6/10], Loss: 0.0375\n"
          ]
        },
        {
          "output_type": "stream",
          "name": "stderr",
          "text": [
            "\n",
            "100%|██████████| 600/600 [00:24<00:00, 24.43it/s]"
          ]
        },
        {
          "output_type": "stream",
          "name": "stdout",
          "text": [
            "Epoch [7/10], Loss: 0.0392\n"
          ]
        },
        {
          "output_type": "stream",
          "name": "stderr",
          "text": [
            "\n",
            "100%|██████████| 600/600 [00:24<00:00, 24.21it/s]"
          ]
        },
        {
          "output_type": "stream",
          "name": "stdout",
          "text": [
            "Epoch [8/10], Loss: 0.0360\n"
          ]
        },
        {
          "output_type": "stream",
          "name": "stderr",
          "text": [
            "\n",
            "100%|██████████| 600/600 [00:24<00:00, 24.43it/s]"
          ]
        },
        {
          "output_type": "stream",
          "name": "stdout",
          "text": [
            "Epoch [9/10], Loss: 0.0369\n"
          ]
        },
        {
          "output_type": "stream",
          "name": "stderr",
          "text": [
            "\n",
            "100%|██████████| 600/600 [00:24<00:00, 24.27it/s]"
          ]
        },
        {
          "output_type": "stream",
          "name": "stdout",
          "text": [
            "Epoch [10/10], Loss: 0.0327\n",
            "Training time: 248\n"
          ]
        },
        {
          "output_type": "stream",
          "name": "stderr",
          "text": [
            "\n"
          ]
        }
      ],
      "source": [
        "cnn_lowrank = MNISTCNN_lowrank(r=3, method='log', decomposition='cur')\n",
        "loss_func = nn.CrossEntropyLoss()   \n",
        "optimizer = optim.Adam(cnn_lowrank.parameters(), lr = 0.01)   \n",
        "\n",
        "\n",
        "start = datetime.datetime.now()\n",
        "train(cnn_lowrank, optimizer, loss_func, loaders, num_epochs=10)\n",
        "end = datetime.datetime.now()\n",
        "diff = (end - start)\n",
        "print(\"Training time:\", int(diff.total_seconds()))"
      ]
    },
    {
      "cell_type": "code",
      "source": [
        "cnn_lowrank_kernel = MNISTCNN_lowrank_kernel(r=3, method='log', decomposition='cur')\n",
        "loss_func = nn.CrossEntropyLoss()   \n",
        "optimizer = optim.Adam(cnn_lowrank_kernel.parameters(), lr = 0.01)   \n",
        "\n",
        "\n",
        "start = datetime.datetime.now()\n",
        "train(cnn_lowrank_kernel, optimizer, loss_func, loaders, num_epochs=10)\n",
        "end = datetime.datetime.now()\n",
        "diff = (end - start)\n",
        "print(\"Training time:\", int(diff.total_seconds()))"
      ],
      "metadata": {
        "colab": {
          "base_uri": "https://localhost:8080/"
        },
        "id": "hzazqridFVIc",
        "outputId": "cca0b4b7-58b3-482b-c67b-74a5b79dd52d"
      },
      "execution_count": null,
      "outputs": [
        {
          "output_type": "stream",
          "name": "stdout",
          "text": [
            "A before approx: 7\n",
            "A after approx: 3\n"
          ]
        },
        {
          "output_type": "stream",
          "name": "stderr",
          "text": [
            "100%|██████████| 600/600 [00:25<00:00, 23.61it/s]"
          ]
        },
        {
          "output_type": "stream",
          "name": "stdout",
          "text": [
            "Epoch [1/10], Loss: 0.1340\n"
          ]
        },
        {
          "output_type": "stream",
          "name": "stderr",
          "text": [
            "\n",
            "100%|██████████| 600/600 [00:25<00:00, 23.51it/s]"
          ]
        },
        {
          "output_type": "stream",
          "name": "stdout",
          "text": [
            "Epoch [2/10], Loss: 0.0593\n"
          ]
        },
        {
          "output_type": "stream",
          "name": "stderr",
          "text": [
            "\n",
            "100%|██████████| 600/600 [00:25<00:00, 23.72it/s]"
          ]
        },
        {
          "output_type": "stream",
          "name": "stdout",
          "text": [
            "Epoch [3/10], Loss: 0.0518\n"
          ]
        },
        {
          "output_type": "stream",
          "name": "stderr",
          "text": [
            "\n",
            "100%|██████████| 600/600 [00:25<00:00, 23.59it/s]"
          ]
        },
        {
          "output_type": "stream",
          "name": "stdout",
          "text": [
            "Epoch [4/10], Loss: 0.0444\n"
          ]
        },
        {
          "output_type": "stream",
          "name": "stderr",
          "text": [
            "\n",
            "100%|██████████| 600/600 [00:25<00:00, 23.75it/s]"
          ]
        },
        {
          "output_type": "stream",
          "name": "stdout",
          "text": [
            "Epoch [5/10], Loss: 0.0466\n"
          ]
        },
        {
          "output_type": "stream",
          "name": "stderr",
          "text": [
            "\n",
            "100%|██████████| 600/600 [00:25<00:00, 23.34it/s]"
          ]
        },
        {
          "output_type": "stream",
          "name": "stdout",
          "text": [
            "Epoch [6/10], Loss: 0.0448\n"
          ]
        },
        {
          "output_type": "stream",
          "name": "stderr",
          "text": [
            "\n",
            "100%|██████████| 600/600 [00:25<00:00, 23.58it/s]"
          ]
        },
        {
          "output_type": "stream",
          "name": "stdout",
          "text": [
            "Epoch [7/10], Loss: 0.0508\n"
          ]
        },
        {
          "output_type": "stream",
          "name": "stderr",
          "text": [
            "\n",
            "100%|██████████| 600/600 [00:25<00:00, 23.47it/s]"
          ]
        },
        {
          "output_type": "stream",
          "name": "stdout",
          "text": [
            "Epoch [8/10], Loss: 0.0486\n"
          ]
        },
        {
          "output_type": "stream",
          "name": "stderr",
          "text": [
            "\n",
            "100%|██████████| 600/600 [00:25<00:00, 23.49it/s]"
          ]
        },
        {
          "output_type": "stream",
          "name": "stdout",
          "text": [
            "Epoch [9/10], Loss: 0.0474\n"
          ]
        },
        {
          "output_type": "stream",
          "name": "stderr",
          "text": [
            "\n",
            "100%|██████████| 600/600 [00:25<00:00, 23.46it/s]"
          ]
        },
        {
          "output_type": "stream",
          "name": "stdout",
          "text": [
            "Epoch [10/10], Loss: 0.0497\n",
            "Training time: 255\n"
          ]
        },
        {
          "output_type": "stream",
          "name": "stderr",
          "text": [
            "\n"
          ]
        }
      ]
    },
    {
      "cell_type": "markdown",
      "source": [
        "## Testing"
      ],
      "metadata": {
        "id": "P3TYZC9EFO_u"
      }
    },
    {
      "cell_type": "code",
      "execution_count": null,
      "metadata": {
        "id": "_bO81YYbIq4N",
        "colab": {
          "base_uri": "https://localhost:8080/"
        },
        "outputId": "e5699f64-5ede-4b08-d015-380b96d3f9bc"
      },
      "outputs": [
        {
          "output_type": "stream",
          "name": "stdout",
          "text": [
            "Precision on the 10000 test images: 0.9851\n",
            "Recall on the 10000 test images: 0.9851\n",
            "F1 score on the 10000 test images: 0.9851\n"
          ]
        }
      ],
      "source": [
        "test(cnn_lowrank, loaders)"
      ]
    },
    {
      "cell_type": "code",
      "source": [
        "test(cnn_lowrank_kernel, loaders)"
      ],
      "metadata": {
        "colab": {
          "base_uri": "https://localhost:8080/"
        },
        "id": "ysXAhAhDFd-J",
        "outputId": "07261110-1fab-414b-c410-ddbe34639a1b"
      },
      "execution_count": null,
      "outputs": [
        {
          "output_type": "stream",
          "name": "stdout",
          "text": [
            "Precision on the 10000 test images: 0.9843\n",
            "Recall on the 10000 test images: 0.9842\n",
            "F1 score on the 10000 test images: 0.9842\n"
          ]
        }
      ]
    },
    {
      "cell_type": "markdown",
      "metadata": {
        "id": "Tcqx_2crTbBI"
      },
      "source": [
        "# Count parameters for all"
      ]
    },
    {
      "cell_type": "code",
      "execution_count": null,
      "metadata": {
        "id": "9_48r84ITauG"
      },
      "outputs": [],
      "source": [
        "def count_parameters(model):\n",
        "    table = PrettyTable([\"Modules\", \"Parameters\"])\n",
        "    total_params = 0\n",
        "    for name, parameter in model.named_parameters():\n",
        "        if not parameter.requires_grad: \n",
        "            continue\n",
        "        param = parameter.numel()\n",
        "        table.add_row([name, param])\n",
        "        total_params+=param\n",
        "    print(table)\n",
        "    print(f\"Total Trainable Params: {total_params}\")\n",
        "    return total_params"
      ]
    },
    {
      "cell_type": "code",
      "execution_count": null,
      "metadata": {
        "id": "4MYVzPHtTdup",
        "colab": {
          "base_uri": "https://localhost:8080/"
        },
        "outputId": "f2286fd4-e137-4835-bae9-2156b37f6537"
      },
      "outputs": [
        {
          "output_type": "stream",
          "name": "stdout",
          "text": [
            "+----------------+------------+\n",
            "|    Modules     | Parameters |\n",
            "+----------------+------------+\n",
            "| conv1.0.weight |    400     |\n",
            "|  conv1.0.bias  |     16     |\n",
            "| conv2.0.weight |   12800    |\n",
            "|  conv2.0.bias  |     32     |\n",
            "|   out.weight   |   15680    |\n",
            "|    out.bias    |     10     |\n",
            "+----------------+------------+\n",
            "Total Trainable Params: 28938\n"
          ]
        }
      ],
      "source": [
        "cnn_params = count_parameters(cnn)"
      ]
    },
    {
      "cell_type": "code",
      "source": [
        "cnn_params = count_parameters(cnn_kernel)"
      ],
      "metadata": {
        "colab": {
          "base_uri": "https://localhost:8080/"
        },
        "id": "624eXPagKoyC",
        "outputId": "4ce8c92f-2bfd-4e2c-b7d3-756140090479"
      },
      "execution_count": null,
      "outputs": [
        {
          "output_type": "stream",
          "name": "stdout",
          "text": [
            "+----------------+------------+\n",
            "|    Modules     | Parameters |\n",
            "+----------------+------------+\n",
            "| conv1.0.weight |    784     |\n",
            "|  conv1.0.bias  |     16     |\n",
            "| conv2.0.weight |   25088    |\n",
            "|  conv2.0.bias  |     32     |\n",
            "|   out.weight   |    8000    |\n",
            "|    out.bias    |     10     |\n",
            "+----------------+------------+\n",
            "Total Trainable Params: 33930\n"
          ]
        }
      ]
    },
    {
      "cell_type": "code",
      "source": [
        "cnn_frac_params = count_parameters(cnn_frac)"
      ],
      "metadata": {
        "colab": {
          "base_uri": "https://localhost:8080/"
        },
        "id": "caZ9nITy6Xjt",
        "outputId": "9ae1bd8d-2fdc-4981-d7af-9634b6c89275"
      },
      "execution_count": null,
      "outputs": [
        {
          "output_type": "stream",
          "name": "stdout",
          "text": [
            "+----------------+------------+\n",
            "|    Modules     | Parameters |\n",
            "+----------------+------------+\n",
            "| conv1.0.weight |    400     |\n",
            "|  conv1.0.bias  |     16     |\n",
            "|   conv2.0.A    |    512     |\n",
            "| conv2.0.sigma  |    512     |\n",
            "|   conv2.0.x0   |    512     |\n",
            "|   conv2.0.y0   |    512     |\n",
            "|   conv2.0.a    |    512     |\n",
            "|   conv2.0.b    |    512     |\n",
            "|   out.weight   |   15680    |\n",
            "|    out.bias    |     10     |\n",
            "+----------------+------------+\n",
            "Total Trainable Params: 19178\n"
          ]
        }
      ]
    },
    {
      "cell_type": "code",
      "execution_count": null,
      "metadata": {
        "id": "eIXtPI7lTezs",
        "colab": {
          "base_uri": "https://localhost:8080/"
        },
        "outputId": "2cab6461-b04f-4c53-986e-cfb71c9b7f31"
      },
      "outputs": [
        {
          "output_type": "stream",
          "name": "stdout",
          "text": [
            "+----------------+------------+\n",
            "|    Modules     | Parameters |\n",
            "+----------------+------------+\n",
            "| conv1.0.weight |    784     |\n",
            "|  conv1.0.bias  |     16     |\n",
            "|   conv2.0.A    |    512     |\n",
            "| conv2.0.sigma  |    512     |\n",
            "|   conv2.0.x0   |    512     |\n",
            "|   conv2.0.y0   |    512     |\n",
            "|   conv2.0.a    |    512     |\n",
            "|   conv2.0.b    |    512     |\n",
            "|   out.weight   |    8000    |\n",
            "|    out.bias    |     10     |\n",
            "+----------------+------------+\n",
            "Total Trainable Params: 11882\n"
          ]
        }
      ],
      "source": [
        "cnn_frac_params = count_parameters(cnn_frac_kernel)"
      ]
    },
    {
      "cell_type": "code",
      "execution_count": null,
      "metadata": {
        "id": "vpnn6e21F8ZR"
      },
      "outputs": [],
      "source": [
        "from prettytable import PrettyTable\n",
        "\n",
        "def count_parameters_pruning(model):\n",
        "    table = PrettyTable([\"Modules\", \"Parameters\"])\n",
        "    total_params = 0\n",
        "    for name, parameter in model.named_parameters():\n",
        "        if not parameter.requires_grad: \n",
        "            continue\n",
        "        \n",
        "        param = parameter.numel()\n",
        "        if 'conv2.0.conv.weight' in name:\n",
        "            pruned_mask = list(model.conv2.named_buffers())\n",
        "            param = int(torch.sum(pruned_mask[0][1]).item())\n",
        "            name = name[:-5]\n",
        "        \n",
        "        table.add_row([name, param])\n",
        "        total_params+=param\n",
        "    print(table)\n",
        "    print(f\"Total Trainable Params: {total_params}\")\n",
        "    return total_params\n"
      ]
    },
    {
      "cell_type": "code",
      "source": [
        "cnn_pruned_params = count_parameters_pruning(cnn_pruned)"
      ],
      "metadata": {
        "colab": {
          "base_uri": "https://localhost:8080/"
        },
        "id": "le64Tz110Z99",
        "outputId": "0603ce8e-14fa-42a8-f4e2-99070803d69c"
      },
      "execution_count": null,
      "outputs": [
        {
          "output_type": "stream",
          "name": "stdout",
          "text": [
            "+---------------------+------------+\n",
            "|       Modules       | Parameters |\n",
            "+---------------------+------------+\n",
            "|    conv1.0.weight   |    400     |\n",
            "|     conv1.0.bias    |     16     |\n",
            "|  conv2.0.conv.bias  |     32     |\n",
            "| conv2.0.conv.weight |    8960    |\n",
            "|      out.weight     |   15680    |\n",
            "|       out.bias      |     10     |\n",
            "+---------------------+------------+\n",
            "Total Trainable Params: 25098\n"
          ]
        }
      ]
    },
    {
      "cell_type": "code",
      "execution_count": null,
      "metadata": {
        "id": "g9GupiIqTyFN",
        "colab": {
          "base_uri": "https://localhost:8080/"
        },
        "outputId": "10b54953-c090-4fd8-a03f-659d61286e86"
      },
      "outputs": [
        {
          "output_type": "stream",
          "name": "stdout",
          "text": [
            "+---------------------+------------+\n",
            "|       Modules       | Parameters |\n",
            "+---------------------+------------+\n",
            "|    conv1.0.weight   |    784     |\n",
            "|     conv1.0.bias    |     16     |\n",
            "|  conv2.0.conv.bias  |     32     |\n",
            "| conv2.0.conv.weight |   17562    |\n",
            "|      out.weight     |    8000    |\n",
            "|       out.bias      |     10     |\n",
            "+---------------------+------------+\n",
            "Total Trainable Params: 26404\n"
          ]
        }
      ],
      "source": [
        "cnn_pruned_kernel_params = count_parameters_pruning(cnn_pruned_kernel)"
      ]
    }
  ],
  "metadata": {
    "accelerator": "GPU",
    "colab": {
      "collapsed_sections": [
        "RdOtiMOLV67Z",
        "L1AtO2TYZP4r",
        "fLi0HABtZazJ",
        "vUMHEvjuYFOK",
        "RZFiZzVL2sEw",
        "VrLwYegelC1r",
        "5uGliUAJlEVA",
        "ipYKNS36YBXd",
        "GYu8reMx2pEy",
        "dt6-INgamdDv",
        "6tYl65sa2m7M",
        "dM1U51senqn3",
        "DmU1UhhOnwj5",
        "ExSUgVa9Xe4A",
        "O58yjjtF2ktw",
        "4dFRBu_TleJQ",
        "P3TYZC9EFO_u",
        "Tcqx_2crTbBI"
      ],
      "provenance": []
    },
    "gpuClass": "standard",
    "kernelspec": {
      "display_name": "Python 3",
      "name": "python3"
    },
    "language_info": {
      "name": "python"
    }
  },
  "nbformat": 4,
  "nbformat_minor": 0
}