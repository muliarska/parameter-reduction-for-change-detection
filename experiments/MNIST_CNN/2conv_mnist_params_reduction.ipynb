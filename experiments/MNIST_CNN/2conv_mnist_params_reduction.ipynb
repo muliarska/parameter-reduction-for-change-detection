{
  "cells": [
    {
      "cell_type": "markdown",
      "source": [
        "# MNIST CNN Experiments with different conv layers modified"
      ],
      "metadata": {
        "id": "RyuCNRyNy8L7"
      }
    },
    {
      "cell_type": "markdown",
      "metadata": {
        "id": "RdOtiMOLV67Z"
      },
      "source": [
        "# Imports"
      ]
    },
    {
      "cell_type": "code",
      "execution_count": null,
      "metadata": {
        "id": "G3Ho4qXPXq-e"
      },
      "outputs": [],
      "source": [
        "import torch\n",
        "import torch.nn as nn\n",
        "import torchvision\n",
        "import torch.optim as optim\n",
        "import torch.nn.functional as F\n",
        "import matplotlib.pyplot as plt\n",
        "import torchvision.transforms as transforms\n",
        "import torchvision.datasets as datasets\n",
        "import torchvision.transforms as transforms\n",
        "from tqdm import tqdm\n",
        "from torchvision.datasets import MNIST\n",
        "from torch.utils.data import DataLoader\n",
        "from torch import optim\n",
        "from torch.autograd import Variable\n",
        "import torch.nn.utils.prune as prune\n",
        "\n",
        "import numpy as np\n",
        "import math\n",
        "import cv2\n",
        "import time, datetime\n",
        "from prettytable import PrettyTable\n",
        "from numpy.linalg import svd"
      ]
    },
    {
      "cell_type": "code",
      "execution_count": null,
      "metadata": {
        "colab": {
          "base_uri": "https://localhost:8080/"
        },
        "id": "5za0UTf3aUK1",
        "outputId": "e54d80c2-55d8-4825-f363-5cbd3fda2d6d"
      },
      "outputs": [
        {
          "output_type": "execute_result",
          "data": {
            "text/plain": [
              "device(type='cuda')"
            ]
          },
          "metadata": {},
          "execution_count": 2
        }
      ],
      "source": [
        "# Define the device to train on\n",
        "device = torch.device(\"cuda\" if torch.cuda.is_available() else \"cpu\")\n",
        "device"
      ]
    },
    {
      "cell_type": "markdown",
      "metadata": {
        "id": "L1AtO2TYZP4r"
      },
      "source": [
        "# Load data"
      ]
    },
    {
      "cell_type": "code",
      "execution_count": null,
      "metadata": {
        "id": "lgrV6-njCEVu",
        "colab": {
          "base_uri": "https://localhost:8080/"
        },
        "outputId": "35a619fb-d318-4d55-d5e9-459bff0e5317"
      },
      "outputs": [
        {
          "output_type": "stream",
          "name": "stdout",
          "text": [
            "Downloading http://yann.lecun.com/exdb/mnist/train-images-idx3-ubyte.gz\n",
            "Downloading http://yann.lecun.com/exdb/mnist/train-images-idx3-ubyte.gz to data/MNIST/raw/train-images-idx3-ubyte.gz\n"
          ]
        },
        {
          "output_type": "stream",
          "name": "stderr",
          "text": [
            "100%|██████████| 9912422/9912422 [00:00<00:00, 74849154.29it/s]\n"
          ]
        },
        {
          "output_type": "stream",
          "name": "stdout",
          "text": [
            "Extracting data/MNIST/raw/train-images-idx3-ubyte.gz to data/MNIST/raw\n",
            "\n",
            "Downloading http://yann.lecun.com/exdb/mnist/train-labels-idx1-ubyte.gz\n",
            "Downloading http://yann.lecun.com/exdb/mnist/train-labels-idx1-ubyte.gz to data/MNIST/raw/train-labels-idx1-ubyte.gz\n"
          ]
        },
        {
          "output_type": "stream",
          "name": "stderr",
          "text": [
            "100%|██████████| 28881/28881 [00:00<00:00, 113635735.29it/s]\n"
          ]
        },
        {
          "output_type": "stream",
          "name": "stdout",
          "text": [
            "Extracting data/MNIST/raw/train-labels-idx1-ubyte.gz to data/MNIST/raw\n",
            "\n",
            "Downloading http://yann.lecun.com/exdb/mnist/t10k-images-idx3-ubyte.gz\n",
            "Downloading http://yann.lecun.com/exdb/mnist/t10k-images-idx3-ubyte.gz to data/MNIST/raw/t10k-images-idx3-ubyte.gz\n"
          ]
        },
        {
          "output_type": "stream",
          "name": "stderr",
          "text": [
            "100%|██████████| 1648877/1648877 [00:00<00:00, 27851058.92it/s]\n"
          ]
        },
        {
          "output_type": "stream",
          "name": "stdout",
          "text": [
            "Extracting data/MNIST/raw/t10k-images-idx3-ubyte.gz to data/MNIST/raw\n",
            "\n",
            "Downloading http://yann.lecun.com/exdb/mnist/t10k-labels-idx1-ubyte.gz\n",
            "Downloading http://yann.lecun.com/exdb/mnist/t10k-labels-idx1-ubyte.gz to data/MNIST/raw/t10k-labels-idx1-ubyte.gz\n"
          ]
        },
        {
          "output_type": "stream",
          "name": "stderr",
          "text": [
            "100%|██████████| 4542/4542 [00:00<00:00, 7509077.17it/s]"
          ]
        },
        {
          "output_type": "stream",
          "name": "stdout",
          "text": [
            "Extracting data/MNIST/raw/t10k-labels-idx1-ubyte.gz to data/MNIST/raw\n",
            "\n"
          ]
        },
        {
          "output_type": "stream",
          "name": "stderr",
          "text": [
            "\n"
          ]
        }
      ],
      "source": [
        "from torchvision import datasets\n",
        "from torchvision.transforms import ToTensor\n",
        "train_data = datasets.MNIST(\n",
        "    root = 'data',\n",
        "    train = True,                         \n",
        "    transform = ToTensor(), \n",
        "    download = True,            \n",
        ")\n",
        "test_data = datasets.MNIST(\n",
        "    root = 'data', \n",
        "    train = False, \n",
        "    transform = ToTensor()\n",
        ")"
      ]
    },
    {
      "cell_type": "code",
      "execution_count": null,
      "metadata": {
        "colab": {
          "base_uri": "https://localhost:8080/"
        },
        "id": "yu_PamwmPDV-",
        "outputId": "856ebcbe-ae63-496d-cf1d-aecc48e9be14"
      },
      "outputs": [
        {
          "output_type": "stream",
          "name": "stdout",
          "text": [
            "Dataset MNIST\n",
            "    Number of datapoints: 60000\n",
            "    Root location: data\n",
            "    Split: Train\n",
            "    StandardTransform\n",
            "Transform: ToTensor()\n"
          ]
        }
      ],
      "source": [
        "print(train_data)"
      ]
    },
    {
      "cell_type": "code",
      "execution_count": null,
      "metadata": {
        "colab": {
          "base_uri": "https://localhost:8080/"
        },
        "id": "3owQRxAzPKiM",
        "outputId": "3b8170b5-2801-4947-ecc0-d3810896839e"
      },
      "outputs": [
        {
          "output_type": "stream",
          "name": "stdout",
          "text": [
            "Dataset MNIST\n",
            "    Number of datapoints: 10000\n",
            "    Root location: data\n",
            "    Split: Test\n",
            "    StandardTransform\n",
            "Transform: ToTensor()\n"
          ]
        }
      ],
      "source": [
        "print(test_data)"
      ]
    },
    {
      "cell_type": "code",
      "execution_count": null,
      "metadata": {
        "colab": {
          "base_uri": "https://localhost:8080/"
        },
        "id": "9h94h5E7CHdL",
        "outputId": "2c9d554f-7f57-4dce-93f4-b6e77f52fd0c"
      },
      "outputs": [
        {
          "output_type": "execute_result",
          "data": {
            "text/plain": [
              "{'train': <torch.utils.data.dataloader.DataLoader at 0x7f23ed68d2b0>,\n",
              " 'test': <torch.utils.data.dataloader.DataLoader at 0x7f23ed68d670>}"
            ]
          },
          "metadata": {},
          "execution_count": 6
        }
      ],
      "source": [
        "from torch.utils.data import DataLoader\n",
        "loaders = {\n",
        "    'train' : torch.utils.data.DataLoader(train_data, \n",
        "                                          batch_size=100, \n",
        "                                          shuffle=True, \n",
        "                                          num_workers=1),\n",
        "    \n",
        "    'test'  : torch.utils.data.DataLoader(test_data, \n",
        "                                          batch_size=100, \n",
        "                                          shuffle=True, \n",
        "                                          num_workers=1),\n",
        "}\n",
        "loaders"
      ]
    },
    {
      "cell_type": "code",
      "execution_count": null,
      "metadata": {
        "colab": {
          "base_uri": "https://localhost:8080/"
        },
        "id": "JhFD9AtMNp7h",
        "outputId": "3d01fa2b-2a66-44ef-e8d2-bca61f103145"
      },
      "outputs": [
        {
          "output_type": "execute_result",
          "data": {
            "text/plain": [
              "(100, 600)"
            ]
          },
          "metadata": {},
          "execution_count": 7
        }
      ],
      "source": [
        "len(loaders[\"test\"]), len(loaders[\"train\"])"
      ]
    },
    {
      "cell_type": "markdown",
      "metadata": {
        "id": "fLi0HABtZazJ"
      },
      "source": [
        "# Utils (training, testing and visualization fucntions)"
      ]
    },
    {
      "cell_type": "code",
      "execution_count": null,
      "metadata": {
        "id": "scSr6DfdCd_Y"
      },
      "outputs": [],
      "source": [
        "from torchvision.transforms.autoaugment import TrivialAugmentWide\n",
        "def train(cnn, optimizer, loss_func, loaders, num_epochs):\n",
        "    \n",
        "    cnn.train()\n",
        "        \n",
        "    # Train the model\n",
        "    total_step = len(loaders['train'])\n",
        "        \n",
        "    for epoch in range(num_epochs):\n",
        "        running_loss = 0.0\n",
        "        visualize = True\n",
        "\n",
        "        for i, (images, labels) in tqdm(enumerate(loaders['train']), total=len(loaders['train'])):\n",
        "            b_x = Variable(images)   # batch x\n",
        "            b_y = Variable(labels)   # batch y\n",
        "\n",
        "            output = cnn(b_x)[0]\n",
        "            b_y = b_y.to(device)\n",
        "            output = output.to(device)     \n",
        "            loss = loss_func(output, b_y)\n",
        "            \n",
        "            # clear gradients\n",
        "            optimizer.zero_grad()           \n",
        "            \n",
        "            # backpropagation\n",
        "            loss.backward()  \n",
        "\n",
        "            optimizer.step()     \n",
        "\n",
        "            running_loss += loss.item()     \n",
        "                \n",
        "        print('Epoch [{}/{}], Loss: {:.4f}'.format(epoch + 1, num_epochs, running_loss/len(loaders['train'])))"
      ]
    },
    {
      "cell_type": "code",
      "execution_count": null,
      "metadata": {
        "id": "apYJWMAKCxf1"
      },
      "outputs": [],
      "source": [
        "from sklearn.metrics import accuracy_score, f1_score, recall_score, precision_score\n",
        "\n",
        "def test(cnn, loaders):\n",
        "    # Test the model\n",
        "    cnn.eval()\n",
        "    with torch.no_grad():\n",
        "        all_labels = []\n",
        "        all_preds = []\n",
        "        for images, labels in loaders['test']:\n",
        "            test_output, last_layer = cnn(images)\n",
        "\n",
        "            preds = torch.max(test_output, 1)[1].data.squeeze().cpu().numpy()\n",
        "            labels = labels.cpu().numpy()\n",
        "            \n",
        "            all_labels.extend(labels)\n",
        "            all_preds.extend(preds)\n",
        "        \n",
        "        accuracy = accuracy_score(all_labels, all_preds)\n",
        "        precision = precision_score(all_labels, all_preds, average='weighted')\n",
        "        recall = recall_score(all_labels, all_preds, average='weighted')\n",
        "        f1 = f1_score(all_labels, all_preds, average='weighted')\n",
        "\n",
        "    # print('Accuracy of the model on the 10000 test images: %.2f' % accuracy)\n",
        "    print('Precision on the 10000 test images: %.4f' % precision)\n",
        "    print('Recall on the 10000 test images: %.4f' % recall)\n",
        "    print('F1 score on the 10000 test images: %.4f' % f1)"
      ]
    },
    {
      "cell_type": "code",
      "execution_count": null,
      "metadata": {
        "id": "g_Q9JX1oUtBn"
      },
      "outputs": [],
      "source": [
        "def visualize_conv(conv_layer):\n",
        "    fig, axs = plt.subplots(1, 2)\n",
        "\n",
        "    k = 10\n",
        "    sample_image = test_data[k]\n",
        "    axs[0].imshow(sample_image[0][0], cmap='gray')\n",
        "\n",
        "    conv_output = conv_layer(sample_image[0])\n",
        "    axs[1].imshow(conv_output[0].cpu().detach().numpy(), cmap='gray')\n",
        "\n",
        "    plt.show()"
      ]
    },
    {
      "cell_type": "markdown",
      "metadata": {
        "id": "vUMHEvjuYFOK"
      },
      "source": [
        "# Original CNN"
      ]
    },
    {
      "cell_type": "markdown",
      "metadata": {
        "id": "RZFiZzVL2sEw"
      },
      "source": [
        "## Model"
      ]
    },
    {
      "cell_type": "code",
      "execution_count": null,
      "metadata": {
        "id": "ijn93PTDCMrU"
      },
      "outputs": [],
      "source": [
        "class MNISTCNN(nn.Module):\n",
        "    def __init__(self):\n",
        "        super(MNISTCNN, self).__init__()\n",
        "        self.conv1 = nn.Sequential(         \n",
        "            nn.Conv2d(\n",
        "                in_channels=1,              \n",
        "                out_channels=16,            \n",
        "                kernel_size=5,          \n",
        "                stride=1,                   \n",
        "                padding=2,                  \n",
        "            ),                              \n",
        "            nn.ReLU(),                      \n",
        "            nn.MaxPool2d(kernel_size=2),    \n",
        "        )\n",
        "        self.conv2 = nn.Sequential(\n",
        "            nn.Conv2d(\n",
        "                in_channels=16,              \n",
        "                out_channels=32,            \n",
        "                kernel_size=5,              \n",
        "                stride=1,                   \n",
        "                padding=2,                  \n",
        "            ),  \n",
        "            nn.ReLU(),                      \n",
        "            nn.MaxPool2d(2),                \n",
        "        )\n",
        "        # fully connected layer, output 10 classes\n",
        "        self.out = nn.Linear(32 * 7 * 7, 10)\n",
        "    def forward(self, x, visualize=False):\n",
        "        x = self.conv1(x)\n",
        "        x = self.conv2(x)\n",
        "\n",
        "        # flatten the output of conv2 to (batch_size, 32 * 7 * 7)\n",
        "        x = x.view(x.size(0), -1)       \n",
        "        output = self.out(x)\n",
        "        return output, x"
      ]
    },
    {
      "cell_type": "markdown",
      "metadata": {
        "id": "VrLwYegelC1r"
      },
      "source": [
        "## Training"
      ]
    },
    {
      "cell_type": "code",
      "execution_count": null,
      "metadata": {
        "colab": {
          "base_uri": "https://localhost:8080/"
        },
        "id": "dAlXKQnGDHSN",
        "outputId": "a0f7b7eb-42f3-4f34-f806-e1e9821b17ac"
      },
      "outputs": [
        {
          "output_type": "stream",
          "name": "stderr",
          "text": [
            "100%|██████████| 600/600 [00:45<00:00, 13.25it/s]"
          ]
        },
        {
          "output_type": "stream",
          "name": "stdout",
          "text": [
            "Epoch [1/10], Loss: 0.1704\n"
          ]
        },
        {
          "output_type": "stream",
          "name": "stderr",
          "text": [
            "\n",
            "100%|██████████| 600/600 [00:33<00:00, 17.75it/s]"
          ]
        },
        {
          "output_type": "stream",
          "name": "stdout",
          "text": [
            "Epoch [2/10], Loss: 0.0627\n"
          ]
        },
        {
          "output_type": "stream",
          "name": "stderr",
          "text": [
            "\n",
            "100%|██████████| 600/600 [00:35<00:00, 16.93it/s]"
          ]
        },
        {
          "output_type": "stream",
          "name": "stdout",
          "text": [
            "Epoch [3/10], Loss: 0.0540\n"
          ]
        },
        {
          "output_type": "stream",
          "name": "stderr",
          "text": [
            "\n",
            "100%|██████████| 600/600 [00:34<00:00, 17.60it/s]"
          ]
        },
        {
          "output_type": "stream",
          "name": "stdout",
          "text": [
            "Epoch [4/10], Loss: 0.0486\n"
          ]
        },
        {
          "output_type": "stream",
          "name": "stderr",
          "text": [
            "\n",
            "100%|██████████| 600/600 [00:33<00:00, 17.82it/s]"
          ]
        },
        {
          "output_type": "stream",
          "name": "stdout",
          "text": [
            "Epoch [5/10], Loss: 0.0485\n"
          ]
        },
        {
          "output_type": "stream",
          "name": "stderr",
          "text": [
            "\n",
            "100%|██████████| 600/600 [00:33<00:00, 17.70it/s]"
          ]
        },
        {
          "output_type": "stream",
          "name": "stdout",
          "text": [
            "Epoch [6/10], Loss: 0.0451\n"
          ]
        },
        {
          "output_type": "stream",
          "name": "stderr",
          "text": [
            "\n",
            "100%|██████████| 600/600 [00:34<00:00, 17.45it/s]"
          ]
        },
        {
          "output_type": "stream",
          "name": "stdout",
          "text": [
            "Epoch [7/10], Loss: 0.0405\n"
          ]
        },
        {
          "output_type": "stream",
          "name": "stderr",
          "text": [
            "\n",
            "100%|██████████| 600/600 [00:33<00:00, 17.67it/s]"
          ]
        },
        {
          "output_type": "stream",
          "name": "stdout",
          "text": [
            "Epoch [8/10], Loss: 0.0450\n"
          ]
        },
        {
          "output_type": "stream",
          "name": "stderr",
          "text": [
            "\n",
            "100%|██████████| 600/600 [00:33<00:00, 17.81it/s]"
          ]
        },
        {
          "output_type": "stream",
          "name": "stdout",
          "text": [
            "Epoch [9/10], Loss: 0.0435\n"
          ]
        },
        {
          "output_type": "stream",
          "name": "stderr",
          "text": [
            "\n",
            "100%|██████████| 600/600 [00:34<00:00, 17.24it/s]"
          ]
        },
        {
          "output_type": "stream",
          "name": "stdout",
          "text": [
            "Epoch [10/10], Loss: 0.0454\n",
            "Training time: 353\n"
          ]
        },
        {
          "output_type": "stream",
          "name": "stderr",
          "text": [
            "\n"
          ]
        }
      ],
      "source": [
        "cnn = MNISTCNN()\n",
        "loss_func = nn.CrossEntropyLoss()   \n",
        "optimizer = optim.Adam(cnn.parameters(), lr = 0.01)   \n",
        "\n",
        "\n",
        "start = datetime.datetime.now()\n",
        "train(cnn, optimizer, loss_func, loaders, num_epochs=10)\n",
        "end = datetime.datetime.now()\n",
        "diff = (end - start)\n",
        "print(\"Training time:\", int(diff.total_seconds()))"
      ]
    },
    {
      "cell_type": "markdown",
      "metadata": {
        "id": "5uGliUAJlEVA"
      },
      "source": [
        "## Testing"
      ]
    },
    {
      "cell_type": "code",
      "execution_count": null,
      "metadata": {
        "colab": {
          "base_uri": "https://localhost:8080/"
        },
        "id": "MfCRhwqLDlQI",
        "outputId": "97dd13ab-699d-4dbd-9d26-5cba1733ab30"
      },
      "outputs": [
        {
          "output_type": "stream",
          "name": "stdout",
          "text": [
            "Precision on the 10000 test images: 0.9799\n",
            "Recall on the 10000 test images: 0.9797\n",
            "F1 score on the 10000 test images: 0.9797\n"
          ]
        }
      ],
      "source": [
        "test(cnn, loaders)"
      ]
    },
    {
      "cell_type": "markdown",
      "metadata": {
        "id": "ipYKNS36YBXd"
      },
      "source": [
        "# CNN with fractional filters"
      ]
    },
    {
      "cell_type": "markdown",
      "metadata": {
        "id": "GYu8reMx2pEy"
      },
      "source": [
        "## Model"
      ]
    },
    {
      "cell_type": "code",
      "execution_count": null,
      "metadata": {
        "id": "5-BOqcipX0wL"
      },
      "outputs": [],
      "source": [
        "class FractionalConv2d(nn.Module):\n",
        "    def __init__(self, in_channels, out_channels, kernel_size, stride=1, padding=0):\n",
        "        super(FractionalConv2d, self).__init__()\n",
        "\n",
        "        self.in_channels = in_channels\n",
        "        self.out_channels = out_channels\n",
        "        self.kernel_size = kernel_size\n",
        "        self.stride = stride\n",
        "        self.padding = padding\n",
        "\n",
        "        # Initializing the learnable parameters\n",
        "\n",
        "        # In A < 1, because the gamma function is not defined for negative integers or zero.\n",
        "        # In the paper, they mention using a regularization term \n",
        "        # to ensure that A is greater than or equal to 1, which would avoid this issue.\n",
        "        self.A = torch.randn(self.out_channels, self.in_channels)\n",
        "        self.A = nn.Parameter(torch.abs(self.A) + 1)\n",
        "\n",
        "        self.sigma = nn.Parameter(torch.randn(self.out_channels, self.in_channels).abs())\n",
        "        self.x0 = nn.Parameter(torch.randn(self.out_channels, self.in_channels))\n",
        "        self.y0 = nn.Parameter(torch.randn(self.out_channels, self.in_channels))\n",
        "        self.a = nn.Parameter(torch.rand(self.out_channels, self.in_channels) * 2)\n",
        "        self.b = nn.Parameter(torch.rand(self.out_channels, self.in_channels) * 2)\n",
        "\n",
        "        self.weights = None\n",
        "        self.compute_weights()\n",
        "\n",
        "    def compute_weights(self):\n",
        "        # Computing weights\n",
        "        weights = torch.zeros(self.out_channels, self.in_channels, self.kernel_size, self.kernel_size)\n",
        "        dx = self._fractional_derivative(self.a, self.A, self.sigma, self.x0)\n",
        "        dy = self._fractional_derivative(self.a, self.A, self.sigma, self.y0)\n",
        "\n",
        "        kernel = torch.einsum('abc,abd->acbd', dx, dy)\n",
        "        weights = kernel.reshape(dx.shape[0], dx.shape[1], dx.shape[2], dy.shape[2])\n",
        "\n",
        "        self.weights = weights.to(device)\n",
        "\n",
        "    def forward(self, x):\n",
        "        self.weights = self.weights.clone().detach()\n",
        "        x = x.to(device)\n",
        "        out = F.conv2d(x, self.weights, stride=self.stride, padding=self.padding)\n",
        "        return out\n",
        "\n",
        "    def _fractional_derivative(self, alpha, A, sigma, x0):\n",
        "        N = 10\n",
        "        h = torch.tensor(1 / self.kernel_size).repeat(self.out_channels, self.in_channels, self.kernel_size)\n",
        "\n",
        "        def gamma_func(a):\n",
        "            return torch.exp(torch.lgamma(a))\n",
        "\n",
        "        def G(x):\n",
        "            return torch.exp(-(torch.square(x-x0))/torch.square(sigma))\n",
        "        \n",
        "        def f(x, n):\n",
        "            return (gamma_func(alpha + 1) * G(x)) / ((-1)**n * gamma_func(n+1) * gamma_func(1-n+alpha))\n",
        "\n",
        "        dx = torch.zeros (self.out_channels, self.in_channels, self.kernel_size)\n",
        "        for x in range(1, self.kernel_size+1):\n",
        "            x = torch.tensor(x).repeat(self.out_channels, self.in_channels)\n",
        "            sum_term = 0\n",
        "            for n in range(N+1):\n",
        "                n = torch.tensor(n).repeat(self.out_channels, self.in_channels)\n",
        "                sum_term += f(x, n)\n",
        "\n",
        "            dx[..., x-1] = sum_term\n",
        "\n",
        "        dx = dx.to(device)\n",
        "        h = h.to(device)\n",
        "        A = A.unsqueeze(2).repeat(1, 1, self.kernel_size)\n",
        "        A = A.to(device)\n",
        "        dx = (A / h) * dx\n",
        "\n",
        "        return dx"
      ]
    },
    {
      "cell_type": "code",
      "execution_count": null,
      "metadata": {
        "id": "xAU0f8M9ofZM"
      },
      "outputs": [],
      "source": [
        "class MNISTCNN_frac(nn.Module):\n",
        "    def __init__(self):\n",
        "        super(MNISTCNN_frac, self).__init__()\n",
        "        self.conv1 = nn.Sequential(         \n",
        "            nn.Conv2d(\n",
        "                in_channels=1,              \n",
        "                out_channels=16,            \n",
        "                kernel_size=5,          \n",
        "                stride=1,                   \n",
        "                padding=2,                  \n",
        "            ),                              \n",
        "            nn.ReLU(),                      \n",
        "            nn.MaxPool2d(kernel_size=2),    \n",
        "        )\n",
        "        self.conv2 = nn.Sequential(\n",
        "            FractionalConv2d(\n",
        "                in_channels=16,              \n",
        "                out_channels=32,            \n",
        "                kernel_size=5,           \n",
        "                stride=1,                   \n",
        "                padding=2,                  \n",
        "            ),    \n",
        "            nn.ReLU(),                      \n",
        "            nn.MaxPool2d(2),                \n",
        "        )\n",
        "        # fully connected layer, output 10 classes\n",
        "        self.out = nn.Linear(32 * 7 * 7, 10).to(device)\n",
        "    def forward(self, x):\n",
        "        x = self.conv1(x)\n",
        "        x = self.conv2(x)\n",
        "\n",
        "        # flatten the output of conv2 to (batch_size, 32 * 7 * 7)\n",
        "        x = x.view(x.size(0), -1)\n",
        "        x.to(device)\n",
        "        output = self.out(x)\n",
        "        return output, x"
      ]
    },
    {
      "cell_type": "code",
      "source": [
        "class MNISTCNN_frac_2conv(nn.Module):\n",
        "    def __init__(self):\n",
        "        super(MNISTCNN_frac_2conv, self).__init__()\n",
        "        self.conv1 = nn.Sequential(         \n",
        "            FractionalConv2d(\n",
        "                in_channels=1,              \n",
        "                out_channels=16,            \n",
        "                kernel_size=5,          \n",
        "                stride=1,                   \n",
        "                padding=2,                  \n",
        "            ),                              \n",
        "            nn.ReLU(),                      \n",
        "            nn.MaxPool2d(kernel_size=2),    \n",
        "        )\n",
        "        self.conv2 = nn.Sequential(\n",
        "            FractionalConv2d(\n",
        "                in_channels=16,              \n",
        "                out_channels=32,            \n",
        "                kernel_size=5,           \n",
        "                stride=1,                   \n",
        "                padding=2,                  \n",
        "            ),    \n",
        "            nn.ReLU(),                      \n",
        "            nn.MaxPool2d(2),                \n",
        "        )\n",
        "        # fully connected layer, output 10 classes\n",
        "        self.out = nn.Linear(32 * 7 * 7, 10).to(device)\n",
        "    def forward(self, x):\n",
        "        x = self.conv1(x)\n",
        "        x = self.conv2(x)\n",
        "\n",
        "        # flatten the output of conv2 to (batch_size, 32 * 7 * 7)\n",
        "        x = x.view(x.size(0), -1)\n",
        "        x.to(device)\n",
        "        output = self.out(x)\n",
        "        return output, x"
      ],
      "metadata": {
        "id": "qCGAC19rCrfa"
      },
      "execution_count": null,
      "outputs": []
    },
    {
      "cell_type": "code",
      "source": [
        "class MNISTCNN_frac_first_conv(nn.Module):\n",
        "    def __init__(self):\n",
        "        super(MNISTCNN_frac_first_conv, self).__init__()\n",
        "        self.conv1 = nn.Sequential(         \n",
        "            FractionalConv2d(\n",
        "                in_channels=1,              \n",
        "                out_channels=16,            \n",
        "                kernel_size=5,          \n",
        "                stride=1,                   \n",
        "                padding=2,                  \n",
        "            ),                              \n",
        "            nn.ReLU(),                      \n",
        "            nn.MaxPool2d(kernel_size=2),    \n",
        "        ).to(device)\n",
        "        self.conv2 = nn.Sequential(\n",
        "            nn.Conv2d(\n",
        "                in_channels=16,              \n",
        "                out_channels=32,            \n",
        "                kernel_size=5,           \n",
        "                stride=1,                   \n",
        "                padding=2,                  \n",
        "            ),    \n",
        "            nn.ReLU(),                      \n",
        "            nn.MaxPool2d(2),                \n",
        "        ).to(device)\n",
        "        # fully connected layer, output 10 classes\n",
        "        self.out = nn.Linear(32 * 7 * 7, 10).to(device)\n",
        "    def forward(self, x):\n",
        "        x = self.conv1(x)\n",
        "        # x.to('cpu')\n",
        "        x = self.conv2(x)\n",
        "\n",
        "        # flatten the output of conv2 to (batch_size, 32 * 7 * 7)\n",
        "        x = x.view(x.size(0), -1)\n",
        "        x.to(device)\n",
        "        output = self.out(x)\n",
        "        return output, x"
      ],
      "metadata": {
        "id": "yqlc2vCqGPwS"
      },
      "execution_count": null,
      "outputs": []
    },
    {
      "cell_type": "markdown",
      "metadata": {
        "id": "u60sG6TflPgH"
      },
      "source": [
        "## Training"
      ]
    },
    {
      "cell_type": "code",
      "execution_count": null,
      "metadata": {
        "colab": {
          "base_uri": "https://localhost:8080/"
        },
        "id": "DjpYZaAKoe2u",
        "outputId": "f5df1d39-4b54-4421-92bd-da357f125da5"
      },
      "outputs": [
        {
          "output_type": "stream",
          "name": "stderr",
          "text": [
            "100%|██████████| 600/600 [00:19<00:00, 31.08it/s]"
          ]
        },
        {
          "output_type": "stream",
          "name": "stdout",
          "text": [
            "Epoch [1/10], Loss: 0.4763\n"
          ]
        },
        {
          "output_type": "stream",
          "name": "stderr",
          "text": [
            "\n",
            "100%|██████████| 600/600 [00:20<00:00, 29.99it/s]"
          ]
        },
        {
          "output_type": "stream",
          "name": "stdout",
          "text": [
            "Epoch [2/10], Loss: 0.2275\n"
          ]
        },
        {
          "output_type": "stream",
          "name": "stderr",
          "text": [
            "\n",
            "100%|██████████| 600/600 [00:19<00:00, 30.80it/s]"
          ]
        },
        {
          "output_type": "stream",
          "name": "stdout",
          "text": [
            "Epoch [3/10], Loss: 0.1920\n"
          ]
        },
        {
          "output_type": "stream",
          "name": "stderr",
          "text": [
            "\n",
            "100%|██████████| 600/600 [00:20<00:00, 28.98it/s]"
          ]
        },
        {
          "output_type": "stream",
          "name": "stdout",
          "text": [
            "Epoch [4/10], Loss: 0.1686\n"
          ]
        },
        {
          "output_type": "stream",
          "name": "stderr",
          "text": [
            "\n",
            "100%|██████████| 600/600 [00:20<00:00, 29.63it/s]"
          ]
        },
        {
          "output_type": "stream",
          "name": "stdout",
          "text": [
            "Epoch [5/10], Loss: 0.1560\n"
          ]
        },
        {
          "output_type": "stream",
          "name": "stderr",
          "text": [
            "\n",
            "100%|██████████| 600/600 [00:19<00:00, 31.38it/s]"
          ]
        },
        {
          "output_type": "stream",
          "name": "stdout",
          "text": [
            "Epoch [6/10], Loss: 0.1452\n"
          ]
        },
        {
          "output_type": "stream",
          "name": "stderr",
          "text": [
            "\n",
            "100%|██████████| 600/600 [00:20<00:00, 29.80it/s]"
          ]
        },
        {
          "output_type": "stream",
          "name": "stdout",
          "text": [
            "Epoch [7/10], Loss: 0.1378\n"
          ]
        },
        {
          "output_type": "stream",
          "name": "stderr",
          "text": [
            "\n",
            "100%|██████████| 600/600 [00:18<00:00, 31.84it/s]"
          ]
        },
        {
          "output_type": "stream",
          "name": "stdout",
          "text": [
            "Epoch [8/10], Loss: 0.1319\n"
          ]
        },
        {
          "output_type": "stream",
          "name": "stderr",
          "text": [
            "\n",
            "100%|██████████| 600/600 [00:20<00:00, 29.61it/s]"
          ]
        },
        {
          "output_type": "stream",
          "name": "stdout",
          "text": [
            "Epoch [9/10], Loss: 0.1249\n"
          ]
        },
        {
          "output_type": "stream",
          "name": "stderr",
          "text": [
            "\n",
            "100%|██████████| 600/600 [00:19<00:00, 30.65it/s]"
          ]
        },
        {
          "output_type": "stream",
          "name": "stdout",
          "text": [
            "Epoch [10/10], Loss: 0.1218\n",
            "Training time: 198\n"
          ]
        },
        {
          "output_type": "stream",
          "name": "stderr",
          "text": [
            "\n"
          ]
        }
      ],
      "source": [
        "cnn_frac = MNISTCNN_frac()\n",
        "loss_func = nn.CrossEntropyLoss()\n",
        "optimizer = optim.Adam(cnn_frac.parameters(), lr = 0.01)   \n",
        "\n",
        "start = datetime.datetime.now()\n",
        "train(cnn_frac, optimizer, loss_func, loaders, num_epochs=10)\n",
        "end = datetime.datetime.now()\n",
        "diff = (end - start)\n",
        "print(\"Training time:\", int(diff.total_seconds()))"
      ]
    },
    {
      "cell_type": "code",
      "source": [
        "cnn_frac_2conv = MNISTCNN_frac_2conv()\n",
        "loss_func = nn.CrossEntropyLoss()\n",
        "optimizer = optim.Adam(cnn_frac_2conv.parameters(), lr = 0.01)   \n",
        "\n",
        "start = datetime.datetime.now()\n",
        "train(cnn_frac_2conv, optimizer, loss_func, loaders, num_epochs=10)\n",
        "end = datetime.datetime.now()\n",
        "diff = (end - start)\n",
        "print(\"Training time:\", int(diff.total_seconds()))"
      ],
      "metadata": {
        "colab": {
          "base_uri": "https://localhost:8080/"
        },
        "id": "78NnQ2HMCxGR",
        "outputId": "b15a0094-390f-48d6-9898-3c665dbc16f9"
      },
      "execution_count": null,
      "outputs": [
        {
          "output_type": "stream",
          "name": "stderr",
          "text": [
            "100%|██████████| 600/600 [00:10<00:00, 59.45it/s]"
          ]
        },
        {
          "output_type": "stream",
          "name": "stdout",
          "text": [
            "Epoch [1/10], Loss: 22633.0462\n"
          ]
        },
        {
          "output_type": "stream",
          "name": "stderr",
          "text": [
            "\n",
            "100%|██████████| 600/600 [00:10<00:00, 56.11it/s]"
          ]
        },
        {
          "output_type": "stream",
          "name": "stdout",
          "text": [
            "Epoch [2/10], Loss: 10718.6109\n"
          ]
        },
        {
          "output_type": "stream",
          "name": "stderr",
          "text": [
            "\n",
            "100%|██████████| 600/600 [00:10<00:00, 56.54it/s]"
          ]
        },
        {
          "output_type": "stream",
          "name": "stdout",
          "text": [
            "Epoch [3/10], Loss: 10629.7964\n"
          ]
        },
        {
          "output_type": "stream",
          "name": "stderr",
          "text": [
            "\n",
            "100%|██████████| 600/600 [00:10<00:00, 57.52it/s]"
          ]
        },
        {
          "output_type": "stream",
          "name": "stdout",
          "text": [
            "Epoch [4/10], Loss: 12139.9114\n"
          ]
        },
        {
          "output_type": "stream",
          "name": "stderr",
          "text": [
            "\n",
            "100%|██████████| 600/600 [00:10<00:00, 57.03it/s]"
          ]
        },
        {
          "output_type": "stream",
          "name": "stdout",
          "text": [
            "Epoch [5/10], Loss: 11781.7047\n"
          ]
        },
        {
          "output_type": "stream",
          "name": "stderr",
          "text": [
            "\n",
            "100%|██████████| 600/600 [00:10<00:00, 55.95it/s]"
          ]
        },
        {
          "output_type": "stream",
          "name": "stdout",
          "text": [
            "Epoch [6/10], Loss: 12066.8267\n"
          ]
        },
        {
          "output_type": "stream",
          "name": "stderr",
          "text": [
            "\n",
            "100%|██████████| 600/600 [00:10<00:00, 57.98it/s]"
          ]
        },
        {
          "output_type": "stream",
          "name": "stdout",
          "text": [
            "Epoch [7/10], Loss: 12283.6638\n"
          ]
        },
        {
          "output_type": "stream",
          "name": "stderr",
          "text": [
            "\n",
            "100%|██████████| 600/600 [00:10<00:00, 59.56it/s]"
          ]
        },
        {
          "output_type": "stream",
          "name": "stdout",
          "text": [
            "Epoch [8/10], Loss: 12263.6066\n"
          ]
        },
        {
          "output_type": "stream",
          "name": "stderr",
          "text": [
            "\n",
            "100%|██████████| 600/600 [00:10<00:00, 57.06it/s]"
          ]
        },
        {
          "output_type": "stream",
          "name": "stdout",
          "text": [
            "Epoch [9/10], Loss: 13846.3920\n"
          ]
        },
        {
          "output_type": "stream",
          "name": "stderr",
          "text": [
            "\n",
            "100%|██████████| 600/600 [00:10<00:00, 57.29it/s]"
          ]
        },
        {
          "output_type": "stream",
          "name": "stdout",
          "text": [
            "Epoch [10/10], Loss: 12686.8145\n",
            "Training time: 105\n"
          ]
        },
        {
          "output_type": "stream",
          "name": "stderr",
          "text": [
            "\n"
          ]
        }
      ]
    },
    {
      "cell_type": "code",
      "source": [
        "cnn_frac_first_conv = MNISTCNN_frac_first_conv()\n",
        "loss_func = nn.CrossEntropyLoss()\n",
        "optimizer = optim.Adam(cnn_frac_first_conv.parameters(), lr = 0.01)   \n",
        "\n",
        "start = datetime.datetime.now()\n",
        "train(cnn_frac_first_conv, optimizer, loss_func, loaders, num_epochs=10)\n",
        "end = datetime.datetime.now()\n",
        "diff = (end - start)\n",
        "print(\"Training time:\", int(diff.total_seconds()))"
      ],
      "metadata": {
        "colab": {
          "base_uri": "https://localhost:8080/"
        },
        "id": "q-92McHfGFwG",
        "outputId": "0d54e4d1-f0ef-49e7-809e-bcce951261a1"
      },
      "execution_count": null,
      "outputs": [
        {
          "output_type": "stream",
          "name": "stderr",
          "text": [
            "100%|██████████| 600/600 [00:10<00:00, 56.71it/s]"
          ]
        },
        {
          "output_type": "stream",
          "name": "stdout",
          "text": [
            "Epoch [1/10], Loss: 2.3021\n"
          ]
        },
        {
          "output_type": "stream",
          "name": "stderr",
          "text": [
            "\n",
            "100%|██████████| 600/600 [00:10<00:00, 56.53it/s]"
          ]
        },
        {
          "output_type": "stream",
          "name": "stdout",
          "text": [
            "Epoch [2/10], Loss: 2.3020\n"
          ]
        },
        {
          "output_type": "stream",
          "name": "stderr",
          "text": [
            "\n",
            "100%|██████████| 600/600 [00:10<00:00, 55.48it/s]"
          ]
        },
        {
          "output_type": "stream",
          "name": "stdout",
          "text": [
            "Epoch [3/10], Loss: 2.3019\n"
          ]
        },
        {
          "output_type": "stream",
          "name": "stderr",
          "text": [
            "\n",
            "100%|██████████| 600/600 [00:10<00:00, 56.46it/s]"
          ]
        },
        {
          "output_type": "stream",
          "name": "stdout",
          "text": [
            "Epoch [4/10], Loss: 2.3019\n"
          ]
        },
        {
          "output_type": "stream",
          "name": "stderr",
          "text": [
            "\n",
            "100%|██████████| 600/600 [00:11<00:00, 50.34it/s]"
          ]
        },
        {
          "output_type": "stream",
          "name": "stdout",
          "text": [
            "Epoch [5/10], Loss: 2.3019\n"
          ]
        },
        {
          "output_type": "stream",
          "name": "stderr",
          "text": [
            "\n",
            "100%|██████████| 600/600 [00:10<00:00, 57.06it/s]"
          ]
        },
        {
          "output_type": "stream",
          "name": "stdout",
          "text": [
            "Epoch [6/10], Loss: 2.3020\n"
          ]
        },
        {
          "output_type": "stream",
          "name": "stderr",
          "text": [
            "\n",
            "100%|██████████| 600/600 [00:10<00:00, 54.97it/s]"
          ]
        },
        {
          "output_type": "stream",
          "name": "stdout",
          "text": [
            "Epoch [7/10], Loss: 2.3021\n"
          ]
        },
        {
          "output_type": "stream",
          "name": "stderr",
          "text": [
            "\n",
            "100%|██████████| 600/600 [00:10<00:00, 55.19it/s]"
          ]
        },
        {
          "output_type": "stream",
          "name": "stdout",
          "text": [
            "Epoch [8/10], Loss: 2.3020\n"
          ]
        },
        {
          "output_type": "stream",
          "name": "stderr",
          "text": [
            "\n",
            "100%|██████████| 600/600 [00:10<00:00, 56.22it/s]"
          ]
        },
        {
          "output_type": "stream",
          "name": "stdout",
          "text": [
            "Epoch [9/10], Loss: 2.3020\n"
          ]
        },
        {
          "output_type": "stream",
          "name": "stderr",
          "text": [
            "\n",
            "100%|██████████| 600/600 [00:10<00:00, 55.27it/s]"
          ]
        },
        {
          "output_type": "stream",
          "name": "stdout",
          "text": [
            "Epoch [10/10], Loss: 2.3020\n",
            "Training time: 108\n"
          ]
        },
        {
          "output_type": "stream",
          "name": "stderr",
          "text": [
            "\n"
          ]
        }
      ]
    },
    {
      "cell_type": "markdown",
      "metadata": {
        "id": "qdfMpVAhlSO0"
      },
      "source": [
        "## Testing"
      ]
    },
    {
      "cell_type": "code",
      "execution_count": null,
      "metadata": {
        "colab": {
          "base_uri": "https://localhost:8080/"
        },
        "id": "rK5gyes3dQDp",
        "outputId": "2823f260-d8d0-43a1-f88d-0ef5d361d6ec"
      },
      "outputs": [
        {
          "output_type": "stream",
          "name": "stdout",
          "text": [
            "Precision on the 10000 test images: 0.9683\n",
            "Recall on the 10000 test images: 0.9680\n",
            "F1 score on the 10000 test images: 0.9680\n"
          ]
        }
      ],
      "source": [
        "test(cnn_frac, loaders)"
      ]
    },
    {
      "cell_type": "code",
      "source": [
        "test(cnn_frac_first_conv, loaders)"
      ],
      "metadata": {
        "colab": {
          "base_uri": "https://localhost:8080/"
        },
        "id": "SJXA-raXGLEn",
        "outputId": "55bb3bc8-9b14-4392-d995-fc0bd48273a2"
      },
      "execution_count": null,
      "outputs": [
        {
          "output_type": "stream",
          "name": "stdout",
          "text": [
            "Precision on the 10000 test images: 0.9789\n",
            "Recall on the 10000 test images: 0.9788\n",
            "F1 score on the 10000 test images: 0.9788\n"
          ]
        }
      ]
    },
    {
      "cell_type": "code",
      "source": [
        "test(cnn_frac_2conv, loaders)"
      ],
      "metadata": {
        "colab": {
          "base_uri": "https://localhost:8080/"
        },
        "id": "F81mVOznC345",
        "outputId": "4af47858-c128-4d3f-d657-8b65f2fe73c2"
      },
      "execution_count": null,
      "outputs": [
        {
          "output_type": "stream",
          "name": "stdout",
          "text": [
            "Precision on the 10000 test images: 0.7905\n",
            "Recall on the 10000 test images: 0.7898\n",
            "F1 score on the 10000 test images: 0.7883\n"
          ]
        }
      ]
    },
    {
      "cell_type": "markdown",
      "metadata": {
        "id": "dt6-INgamdDv"
      },
      "source": [
        "# CNN with pruning"
      ]
    },
    {
      "cell_type": "markdown",
      "metadata": {
        "id": "6tYl65sa2m7M"
      },
      "source": [
        "## Model"
      ]
    },
    {
      "cell_type": "code",
      "execution_count": null,
      "metadata": {
        "id": "7jZbBZ5dm8Bj"
      },
      "outputs": [],
      "source": [
        "class PrunedConv2d(nn.Module):\n",
        "    def __init__(self, in_channels, out_channels, kernel_size, stride=1, padding=0, bias=True, sparsity=0.5):\n",
        "        super(PrunedConv2d, self).__init__()\n",
        "        self.conv = nn.Conv2d(in_channels, out_channels, kernel_size, stride, padding, bias=bias)\n",
        "        self.sparsity = sparsity\n",
        "\n",
        "        self.prune()\n",
        "\n",
        "    def forward(self, x):\n",
        "        return self.conv(x)\n",
        "\n",
        "    def prune(self):\n",
        "        prune.random_unstructured(self.conv, name=\"weight\", amount=0.3)\n",
        "\n",
        "    def get_sparsity(self):\n",
        "        return self.sparsity\n",
        "\n",
        "    def set_sparsity(self, sparsity):\n",
        "        self.sparsity = sparsity\n",
        "        self.prune()"
      ]
    },
    {
      "cell_type": "code",
      "source": [
        "class MNISTCNN_pruned_first(nn.Module):\n",
        "    def __init__(self):\n",
        "        super(MNISTCNN_pruned_first, self).__init__()\n",
        "        self.conv1 = nn.Sequential(         \n",
        "            PrunedConv2d(\n",
        "                in_channels=1,              \n",
        "                out_channels=16,            \n",
        "                kernel_size=5,          \n",
        "                stride=1,                   \n",
        "                padding=2,                  \n",
        "            ),                              \n",
        "            nn.ReLU(),                      \n",
        "            nn.MaxPool2d(kernel_size=2),    \n",
        "        )\n",
        "        self.conv2 = nn.Sequential(\n",
        "            nn.Conv2d(\n",
        "                in_channels=16,              \n",
        "                out_channels=32,            \n",
        "                kernel_size=5,             \n",
        "                stride=1,                   \n",
        "                padding=2,                  \n",
        "            ),  \n",
        "            nn.ReLU(),                      \n",
        "            nn.MaxPool2d(2),                \n",
        "        )\n",
        "        # fully connected layer, output 10 classes\n",
        "        self.out = nn.Linear(32 * 7 * 7, 10)\n",
        "    def forward(self, x):\n",
        "        x = self.conv1(x)\n",
        "        x = self.conv2(x)\n",
        "        # flatten the output of conv2 to (batch_size, 32 * 7 * 7)\n",
        "        x = x.view(x.size(0), -1)       \n",
        "        output = self.out(x)\n",
        "        return output, x"
      ],
      "metadata": {
        "id": "uuIzLOdmUYMV"
      },
      "execution_count": null,
      "outputs": []
    },
    {
      "cell_type": "code",
      "source": [
        "class MNISTCNN_pruned_second(nn.Module):\n",
        "    def __init__(self):\n",
        "        super(MNISTCNN_pruned_second, self).__init__()\n",
        "        self.conv1 = nn.Sequential(         \n",
        "            nn.Conv2d(\n",
        "                in_channels=1,              \n",
        "                out_channels=16,            \n",
        "                kernel_size=5,          \n",
        "                stride=1,                   \n",
        "                padding=2,                  \n",
        "            ),                              \n",
        "            nn.ReLU(),                      \n",
        "            nn.MaxPool2d(kernel_size=2),    \n",
        "        )\n",
        "        self.conv2 = nn.Sequential(\n",
        "            PrunedConv2d(\n",
        "                in_channels=16,              \n",
        "                out_channels=32,            \n",
        "                kernel_size=5,             \n",
        "                stride=1,                   \n",
        "                padding=2,                  \n",
        "            ),  \n",
        "            nn.ReLU(),                      \n",
        "            nn.MaxPool2d(2),                \n",
        "        )\n",
        "        # fully connected layer, output 10 classes\n",
        "        self.out = nn.Linear(32 * 7 * 7, 10)\n",
        "    def forward(self, x):\n",
        "        x = self.conv1(x)\n",
        "        x = self.conv2(x)\n",
        "        # flatten the output of conv2 to (batch_size, 32 * 7 * 7)\n",
        "        x = x.view(x.size(0), -1)       \n",
        "        output = self.out(x)\n",
        "        return output, x"
      ],
      "metadata": {
        "id": "QvP1m-_HUXxP"
      },
      "execution_count": null,
      "outputs": []
    },
    {
      "cell_type": "code",
      "execution_count": null,
      "metadata": {
        "id": "da17SG5bmb5h"
      },
      "outputs": [],
      "source": [
        "class MNISTCNN_pruned_both(nn.Module):\n",
        "    def __init__(self):\n",
        "        super(MNISTCNN_pruned_both, self).__init__()\n",
        "        self.conv1 = nn.Sequential(         \n",
        "            PrunedConv2d(\n",
        "                in_channels=1,              \n",
        "                out_channels=16,            \n",
        "                kernel_size=5,          \n",
        "                stride=1,                   \n",
        "                padding=2,                  \n",
        "            ),                              \n",
        "            nn.ReLU(),                      \n",
        "            nn.MaxPool2d(kernel_size=2),    \n",
        "        )\n",
        "        self.conv2 = nn.Sequential(\n",
        "            PrunedConv2d(\n",
        "                in_channels=16,              \n",
        "                out_channels=32,            \n",
        "                kernel_size=5,             \n",
        "                stride=1,                   \n",
        "                padding=2,                  \n",
        "            ),  \n",
        "            nn.ReLU(),                      \n",
        "            nn.MaxPool2d(2),                \n",
        "        )\n",
        "        # fully connected layer, output 10 classes\n",
        "        self.out = nn.Linear(32 * 7 * 7, 10)\n",
        "    def forward(self, x):\n",
        "        x = self.conv1(x)\n",
        "        x = self.conv2(x)\n",
        "        # flatten the output of conv2 to (batch_size, 32 * 7 * 7)\n",
        "        x = x.view(x.size(0), -1)       \n",
        "        output = self.out(x)\n",
        "        return output, x"
      ]
    },
    {
      "cell_type": "markdown",
      "metadata": {
        "id": "Jb45zDMGnmYu"
      },
      "source": [
        "## Training"
      ]
    },
    {
      "cell_type": "code",
      "execution_count": null,
      "metadata": {
        "colab": {
          "base_uri": "https://localhost:8080/"
        },
        "id": "ufvuiB8WnoBC",
        "outputId": "9b948dec-eb21-4091-f70b-b292f26b8096"
      },
      "outputs": [
        {
          "output_type": "stream",
          "name": "stderr",
          "text": [
            "100%|██████████| 600/600 [00:43<00:00, 13.91it/s]"
          ]
        },
        {
          "output_type": "stream",
          "name": "stdout",
          "text": [
            "Epoch [1/10], Loss: 0.1174\n"
          ]
        },
        {
          "output_type": "stream",
          "name": "stderr",
          "text": [
            "\n",
            "100%|██████████| 600/600 [00:35<00:00, 17.01it/s]"
          ]
        },
        {
          "output_type": "stream",
          "name": "stdout",
          "text": [
            "Epoch [2/10], Loss: 0.0471\n"
          ]
        },
        {
          "output_type": "stream",
          "name": "stderr",
          "text": [
            "\n",
            "100%|██████████| 600/600 [00:36<00:00, 16.55it/s]"
          ]
        },
        {
          "output_type": "stream",
          "name": "stdout",
          "text": [
            "Epoch [3/10], Loss: 0.0414\n"
          ]
        },
        {
          "output_type": "stream",
          "name": "stderr",
          "text": [
            "\n",
            "100%|██████████| 600/600 [00:35<00:00, 17.07it/s]"
          ]
        },
        {
          "output_type": "stream",
          "name": "stdout",
          "text": [
            "Epoch [4/10], Loss: 0.0365\n"
          ]
        },
        {
          "output_type": "stream",
          "name": "stderr",
          "text": [
            "\n",
            "100%|██████████| 600/600 [00:34<00:00, 17.29it/s]"
          ]
        },
        {
          "output_type": "stream",
          "name": "stdout",
          "text": [
            "Epoch [5/10], Loss: 0.0332\n"
          ]
        },
        {
          "output_type": "stream",
          "name": "stderr",
          "text": [
            "\n",
            "100%|██████████| 600/600 [00:36<00:00, 16.54it/s]"
          ]
        },
        {
          "output_type": "stream",
          "name": "stdout",
          "text": [
            "Epoch [6/10], Loss: 0.0306\n"
          ]
        },
        {
          "output_type": "stream",
          "name": "stderr",
          "text": [
            "\n",
            "100%|██████████| 600/600 [00:34<00:00, 17.17it/s]"
          ]
        },
        {
          "output_type": "stream",
          "name": "stdout",
          "text": [
            "Epoch [7/10], Loss: 0.0298\n"
          ]
        },
        {
          "output_type": "stream",
          "name": "stderr",
          "text": [
            "\n",
            "100%|██████████| 600/600 [00:35<00:00, 17.02it/s]"
          ]
        },
        {
          "output_type": "stream",
          "name": "stdout",
          "text": [
            "Epoch [8/10], Loss: 0.0234\n"
          ]
        },
        {
          "output_type": "stream",
          "name": "stderr",
          "text": [
            "\n",
            "100%|██████████| 600/600 [00:34<00:00, 17.27it/s]"
          ]
        },
        {
          "output_type": "stream",
          "name": "stdout",
          "text": [
            "Epoch [9/10], Loss: 0.0283\n"
          ]
        },
        {
          "output_type": "stream",
          "name": "stderr",
          "text": [
            "\n",
            "100%|██████████| 600/600 [00:35<00:00, 16.95it/s]"
          ]
        },
        {
          "output_type": "stream",
          "name": "stdout",
          "text": [
            "Epoch [10/10], Loss: 0.0326\n",
            "Training time: 361\n"
          ]
        },
        {
          "output_type": "stream",
          "name": "stderr",
          "text": [
            "\n"
          ]
        }
      ],
      "source": [
        "cnn_pruned_first = MNISTCNN_pruned_first()\n",
        "loss_func = nn.CrossEntropyLoss()   \n",
        "optimizer = optim.Adam(cnn_pruned_first.parameters(), lr = 0.01)   \n",
        "\n",
        "\n",
        "start = datetime.datetime.now()\n",
        "train(cnn_pruned_first, optimizer, loss_func, loaders, num_epochs=10)\n",
        "end = datetime.datetime.now()\n",
        "diff = (end - start)\n",
        "print(\"Training time:\", int(diff.total_seconds()))"
      ]
    },
    {
      "cell_type": "code",
      "source": [
        "cnn_pruned_second = MNISTCNN_pruned_second()\n",
        "loss_func = nn.CrossEntropyLoss()   \n",
        "optimizer = optim.Adam(cnn_pruned_second.parameters(), lr = 0.01)   \n",
        "\n",
        "\n",
        "start = datetime.datetime.now()\n",
        "train(cnn_pruned_second, optimizer, loss_func, loaders, num_epochs=10)\n",
        "end = datetime.datetime.now()\n",
        "diff = (end - start)\n",
        "print(\"Training time:\", int(diff.total_seconds()))"
      ],
      "metadata": {
        "id": "iEqpdxuOUig1",
        "colab": {
          "base_uri": "https://localhost:8080/"
        },
        "outputId": "1fe63d84-25d8-438e-9285-eb7652d4f545"
      },
      "execution_count": null,
      "outputs": [
        {
          "output_type": "stream",
          "name": "stderr",
          "text": [
            "100%|██████████| 600/600 [00:35<00:00, 16.87it/s]"
          ]
        },
        {
          "output_type": "stream",
          "name": "stdout",
          "text": [
            "Epoch [1/10], Loss: 0.1368\n"
          ]
        },
        {
          "output_type": "stream",
          "name": "stderr",
          "text": [
            "\n",
            "100%|██████████| 600/600 [00:35<00:00, 17.08it/s]"
          ]
        },
        {
          "output_type": "stream",
          "name": "stdout",
          "text": [
            "Epoch [2/10], Loss: 0.0530\n"
          ]
        },
        {
          "output_type": "stream",
          "name": "stderr",
          "text": [
            "\n",
            "100%|██████████| 600/600 [00:34<00:00, 17.33it/s]"
          ]
        },
        {
          "output_type": "stream",
          "name": "stdout",
          "text": [
            "Epoch [3/10], Loss: 0.0431\n"
          ]
        },
        {
          "output_type": "stream",
          "name": "stderr",
          "text": [
            "\n",
            "100%|██████████| 600/600 [00:35<00:00, 17.13it/s]"
          ]
        },
        {
          "output_type": "stream",
          "name": "stdout",
          "text": [
            "Epoch [4/10], Loss: 0.0409\n"
          ]
        },
        {
          "output_type": "stream",
          "name": "stderr",
          "text": [
            "\n",
            "100%|██████████| 600/600 [00:37<00:00, 15.82it/s]"
          ]
        },
        {
          "output_type": "stream",
          "name": "stdout",
          "text": [
            "Epoch [5/10], Loss: 0.0407\n"
          ]
        },
        {
          "output_type": "stream",
          "name": "stderr",
          "text": [
            "\n",
            "100%|██████████| 600/600 [00:36<00:00, 16.60it/s]"
          ]
        },
        {
          "output_type": "stream",
          "name": "stdout",
          "text": [
            "Epoch [6/10], Loss: 0.0352\n"
          ]
        },
        {
          "output_type": "stream",
          "name": "stderr",
          "text": [
            "\n",
            "100%|██████████| 600/600 [00:36<00:00, 16.59it/s]"
          ]
        },
        {
          "output_type": "stream",
          "name": "stdout",
          "text": [
            "Epoch [7/10], Loss: 0.0345\n"
          ]
        },
        {
          "output_type": "stream",
          "name": "stderr",
          "text": [
            "\n",
            "100%|██████████| 600/600 [00:36<00:00, 16.46it/s]"
          ]
        },
        {
          "output_type": "stream",
          "name": "stdout",
          "text": [
            "Epoch [8/10], Loss: 0.0394\n"
          ]
        },
        {
          "output_type": "stream",
          "name": "stderr",
          "text": [
            "\n",
            "100%|██████████| 600/600 [00:36<00:00, 16.43it/s]"
          ]
        },
        {
          "output_type": "stream",
          "name": "stdout",
          "text": [
            "Epoch [9/10], Loss: 0.0343\n"
          ]
        },
        {
          "output_type": "stream",
          "name": "stderr",
          "text": [
            "\n",
            "100%|██████████| 600/600 [00:36<00:00, 16.61it/s]"
          ]
        },
        {
          "output_type": "stream",
          "name": "stdout",
          "text": [
            "Epoch [10/10], Loss: 0.0356\n",
            "Training time: 360\n"
          ]
        },
        {
          "output_type": "stream",
          "name": "stderr",
          "text": [
            "\n"
          ]
        }
      ]
    },
    {
      "cell_type": "code",
      "source": [
        "cnn_pruned_both = MNISTCNN_pruned_both()\n",
        "loss_func = nn.CrossEntropyLoss()   \n",
        "optimizer = optim.Adam(cnn_pruned_both.parameters(), lr = 0.01)   \n",
        "\n",
        "\n",
        "start = datetime.datetime.now()\n",
        "train(cnn_pruned_both, optimizer, loss_func, loaders, num_epochs=10)\n",
        "end = datetime.datetime.now()\n",
        "diff = (end - start)\n",
        "print(\"Training time:\", int(diff.total_seconds()))"
      ],
      "metadata": {
        "id": "jNugRijsUi5m",
        "colab": {
          "base_uri": "https://localhost:8080/"
        },
        "outputId": "65e0c09d-9b07-4f31-a828-22ffc69b4404"
      },
      "execution_count": null,
      "outputs": [
        {
          "output_type": "stream",
          "name": "stderr",
          "text": [
            "100%|██████████| 600/600 [00:36<00:00, 16.29it/s]"
          ]
        },
        {
          "output_type": "stream",
          "name": "stdout",
          "text": [
            "Epoch [1/10], Loss: 0.1979\n"
          ]
        },
        {
          "output_type": "stream",
          "name": "stderr",
          "text": [
            "\n",
            "100%|██████████| 600/600 [00:37<00:00, 16.18it/s]"
          ]
        },
        {
          "output_type": "stream",
          "name": "stdout",
          "text": [
            "Epoch [2/10], Loss: 0.0726\n"
          ]
        },
        {
          "output_type": "stream",
          "name": "stderr",
          "text": [
            "\n",
            "100%|██████████| 600/600 [00:38<00:00, 15.77it/s]"
          ]
        },
        {
          "output_type": "stream",
          "name": "stdout",
          "text": [
            "Epoch [3/10], Loss: 0.0626\n"
          ]
        },
        {
          "output_type": "stream",
          "name": "stderr",
          "text": [
            "\n",
            "100%|██████████| 600/600 [00:36<00:00, 16.38it/s]"
          ]
        },
        {
          "output_type": "stream",
          "name": "stdout",
          "text": [
            "Epoch [4/10], Loss: 0.0563\n"
          ]
        },
        {
          "output_type": "stream",
          "name": "stderr",
          "text": [
            "\n",
            "100%|██████████| 600/600 [00:36<00:00, 16.39it/s]"
          ]
        },
        {
          "output_type": "stream",
          "name": "stdout",
          "text": [
            "Epoch [5/10], Loss: 0.0516\n"
          ]
        },
        {
          "output_type": "stream",
          "name": "stderr",
          "text": [
            "\n",
            "100%|██████████| 600/600 [00:36<00:00, 16.35it/s]"
          ]
        },
        {
          "output_type": "stream",
          "name": "stdout",
          "text": [
            "Epoch [6/10], Loss: 0.0507\n"
          ]
        },
        {
          "output_type": "stream",
          "name": "stderr",
          "text": [
            "\n",
            "100%|██████████| 600/600 [00:36<00:00, 16.34it/s]"
          ]
        },
        {
          "output_type": "stream",
          "name": "stdout",
          "text": [
            "Epoch [7/10], Loss: 0.0506\n"
          ]
        },
        {
          "output_type": "stream",
          "name": "stderr",
          "text": [
            "\n",
            "100%|██████████| 600/600 [00:36<00:00, 16.31it/s]"
          ]
        },
        {
          "output_type": "stream",
          "name": "stdout",
          "text": [
            "Epoch [8/10], Loss: 0.0495\n"
          ]
        },
        {
          "output_type": "stream",
          "name": "stderr",
          "text": [
            "\n",
            "100%|██████████| 600/600 [00:34<00:00, 17.28it/s]"
          ]
        },
        {
          "output_type": "stream",
          "name": "stdout",
          "text": [
            "Epoch [9/10], Loss: 0.0453\n"
          ]
        },
        {
          "output_type": "stream",
          "name": "stderr",
          "text": [
            "\n",
            "100%|██████████| 600/600 [00:35<00:00, 16.70it/s]"
          ]
        },
        {
          "output_type": "stream",
          "name": "stdout",
          "text": [
            "Epoch [10/10], Loss: 0.0437\n",
            "Training time: 366\n"
          ]
        },
        {
          "output_type": "stream",
          "name": "stderr",
          "text": [
            "\n"
          ]
        }
      ]
    },
    {
      "cell_type": "markdown",
      "metadata": {
        "id": "dM1U51senqn3"
      },
      "source": [
        "## Testing"
      ]
    },
    {
      "cell_type": "code",
      "execution_count": null,
      "metadata": {
        "colab": {
          "base_uri": "https://localhost:8080/"
        },
        "id": "2keSOHtonsXN",
        "outputId": "80c95aee-dbdd-48e1-c948-1520f13d99f6"
      },
      "outputs": [
        {
          "output_type": "stream",
          "name": "stdout",
          "text": [
            "Precision on the 10000 test images: 0.9869\n",
            "Recall on the 10000 test images: 0.9869\n",
            "F1 score on the 10000 test images: 0.9869\n"
          ]
        }
      ],
      "source": [
        "test(cnn_pruned_first, loaders)"
      ]
    },
    {
      "cell_type": "code",
      "source": [
        "test(cnn_pruned_second, loaders)"
      ],
      "metadata": {
        "id": "BcCqh6EaUrGF",
        "colab": {
          "base_uri": "https://localhost:8080/"
        },
        "outputId": "f6629290-8b11-45d7-f97b-938179062c8a"
      },
      "execution_count": null,
      "outputs": [
        {
          "output_type": "stream",
          "name": "stdout",
          "text": [
            "Precision on the 10000 test images: 0.9846\n",
            "Recall on the 10000 test images: 0.9845\n",
            "F1 score on the 10000 test images: 0.9845\n"
          ]
        }
      ]
    },
    {
      "cell_type": "code",
      "source": [
        "test(cnn_pruned_both, loaders)"
      ],
      "metadata": {
        "id": "NqDKBqBbUrZp",
        "colab": {
          "base_uri": "https://localhost:8080/"
        },
        "outputId": "7c80557e-b772-4442-98f2-fc7290cb397d"
      },
      "execution_count": null,
      "outputs": [
        {
          "output_type": "stream",
          "name": "stdout",
          "text": [
            "Precision on the 10000 test images: 0.9829\n",
            "Recall on the 10000 test images: 0.9828\n",
            "F1 score on the 10000 test images: 0.9828\n"
          ]
        }
      ]
    },
    {
      "cell_type": "markdown",
      "metadata": {
        "id": "ExSUgVa9Xe4A"
      },
      "source": [
        "# CNN with Low-rank approximation"
      ]
    },
    {
      "cell_type": "markdown",
      "metadata": {
        "id": "O58yjjtF2ktw"
      },
      "source": [
        "## Model"
      ]
    },
    {
      "cell_type": "code",
      "execution_count": null,
      "metadata": {
        "id": "dm3O2wJ4YRnc"
      },
      "outputs": [],
      "source": [
        "class LowRankConv2d(nn.Module):\n",
        "    def __init__(self, in_channels, out_channels, kernel_size, stride=1, padding=0, r=3, method='constant', decomposition='cur'):\n",
        "        super(LowRankConv2d, self).__init__()\n",
        "\n",
        "        self.in_channels = in_channels\n",
        "        self.out_channels = out_channels\n",
        "        self.kernel_size = kernel_size\n",
        "        self.stride = stride\n",
        "        self.padding = padding\n",
        "        self.r = r\n",
        "\n",
        "        self.conv = nn.Conv2d(\n",
        "                in_channels=self.in_channels,              \n",
        "                out_channels=self.out_channels,            \n",
        "                kernel_size=self.kernel_size,           \n",
        "                stride=self.stride,                   \n",
        "                padding=self.padding,                  \n",
        "            )\n",
        "        # print(self.conv.weight.shape)\n",
        "        \n",
        "        if decomposition == 'cur':\n",
        "            if method == 'constant':\n",
        "                c = 0.99\n",
        "            elif method == 'log':\n",
        "                c = np.log(self.conv.weight.shape[-1])\n",
        "            self.conv.weight.data = torch.from_numpy(self.cur_low_rank(self.conv.weight, c=c, r=r))\n",
        "        elif decomposition == 'svd':\n",
        "            self.conv.weight.data = torch.from_numpy(self.traditional_low_rank(self.conv.weight, r=r))\n",
        "\n",
        "        # print(self.conv.weight.shape)\n",
        "\n",
        "    def forward(self, x):\n",
        "        return self.conv(x)\n",
        "\n",
        "    def traditional_low_rank(self, A, r):\n",
        "        # A is a 4D weight matrix\n",
        "        # k is the target rank\n",
        "        A = A.detach().numpy()\n",
        "        \n",
        "        # Flatten the 4D weight matrix into a 2D matrix\n",
        "        n1, n2, n3, n4 = A.shape\n",
        "        A = A.reshape((n1*n2*n3, n4))\n",
        "        print(f\"A before approx: {np.linalg.matrix_rank(A)}, {A.shape}\")\n",
        "\n",
        "        # Compute the SVD of A\n",
        "        U, s, Vt = svd(A, full_matrices=False)\n",
        "\n",
        "        # Truncate the SVD to the target rank\n",
        "        U = U[:, :r]\n",
        "        s = s[:r]\n",
        "        Vt = Vt[:r, :]\n",
        "\n",
        "        # print(U.shape, s.shape, Vt.shape)\n",
        "\n",
        "        # Compute the low-rank approximation\n",
        "        A_approx = np.dot(U, np.dot(np.diag(s), Vt))\n",
        "        # A_approx = U @ s @ Vt\n",
        "\n",
        "        print(f\"A after approx: {np.linalg.matrix_rank(A_approx)}, {A_approx.shape}\")\n",
        "\n",
        "        # Reshape the low-rank approximation to a 4D weight matrix\n",
        "        A_approx = A_approx.reshape((n1, n2, n3, n4))\n",
        "\n",
        "        return A_approx\n",
        "\n",
        "    def cur_low_rank(self, A, c, r):\n",
        "        # Flatten the 4D weight matrix into a 2D matrix\n",
        "        A = A.detach().numpy()\n",
        "        n1, n2, n3, n4 = A.shape\n",
        "        A_2d = A.reshape((n1*n2*n3, n4))\n",
        "        m, n = A_2d.shape\n",
        "        print(f\"A before approx: {np.linalg.matrix_rank(A_2d)}\")\n",
        "\n",
        "        curr_r = np.linalg.matrix_rank(A_2d)\n",
        "        \n",
        "        # Computing C\n",
        "        def choose_col_by_prob(A):\n",
        "            U, s, Vt = svd(A, full_matrices=False)\n",
        "\n",
        "            leverage_scores = np.linalg.norm(Vt[:curr_r], axis=0) ** 2 / curr_r\n",
        "            column_probabilities = np.minimum(c, leverage_scores) / np.sum(np.minimum(c, leverage_scores))\n",
        "            selected_columns = np.random.choice(A.shape[1], curr_r, replace=False, p=column_probabilities)\n",
        "            \n",
        "            return A[:, selected_columns]\n",
        "\n",
        "        C = choose_col_by_prob(A_2d)\n",
        "        R = choose_col_by_prob(np.transpose(A_2d))\n",
        "        C_pinv = np.linalg.pinv(C)\n",
        "        R_pinv = np.linalg.pinv(R)\n",
        "\n",
        "        U = C_pinv @ A_2d @ R_pinv\n",
        "\n",
        "        # print(C.shape, U.shape, R.shape)\n",
        "        # Truncate the CUR to the target rank\n",
        "        C = C[:, :r]\n",
        "        U = U[:r, :r]\n",
        "        R = R[:r, :]\n",
        "\n",
        "        A_approx = C @ U @ R\n",
        "\n",
        "        print(f\"A after approx: {np.linalg.matrix_rank(A_approx)}\")\n",
        "\n",
        "        # Reshape the low-rank approximation to a 4D weight matrix\n",
        "        A_approx = A_approx.reshape((n1, n2, n3, n4))\n",
        "        return A_approx"
      ]
    },
    {
      "cell_type": "code",
      "source": [
        "class MNISTCNN_lowrank_first(nn.Module):\n",
        "    def __init__(self, r=3, method='log', decomposition='cur'):\n",
        "        super(MNISTCNN_lowrank_first, self).__init__()\n",
        "        self.conv1 = nn.Sequential(         \n",
        "            LowRankConv2d(\n",
        "                in_channels=1,              \n",
        "                out_channels=16,            \n",
        "                kernel_size=5,          \n",
        "                stride=1,                   \n",
        "                padding=2, \n",
        "                r=r,\n",
        "                method=method,\n",
        "                decomposition = decomposition              \n",
        "            ),                              \n",
        "            nn.ReLU(),                      \n",
        "            nn.MaxPool2d(kernel_size=2),    \n",
        "        )\n",
        "        self.conv2 = nn.Sequential(\n",
        "            nn.Conv2d(\n",
        "                in_channels=16,              \n",
        "                out_channels=32,            \n",
        "                kernel_size=5,             \n",
        "                stride=1,                   \n",
        "                padding=2             \n",
        "            ),  \n",
        "            nn.ReLU(),                      \n",
        "            nn.MaxPool2d(2),                \n",
        "        )\n",
        "        # fully connected layer, output 10 classes\n",
        "        self.out = nn.Linear(32 * 7 * 7, 10)\n",
        "    def forward(self, x):\n",
        "        x = self.conv1(x)\n",
        "        x = self.conv2(x)\n",
        "        # flatten the output of conv2 to (batch_size, 32 * 7 * 7)\n",
        "        x = x.view(x.size(0), -1)       \n",
        "        output = self.out(x)\n",
        "        return output, x"
      ],
      "metadata": {
        "id": "BxolhG5tU3K8"
      },
      "execution_count": null,
      "outputs": []
    },
    {
      "cell_type": "code",
      "source": [
        "class MNISTCNN_lowrank_second(nn.Module):\n",
        "    def __init__(self, r=3, method='log', decomposition='cur'):\n",
        "        super(MNISTCNN_lowrank_second, self).__init__()\n",
        "        self.conv1 = nn.Sequential(         \n",
        "            nn.Conv2d(\n",
        "                in_channels=1,              \n",
        "                out_channels=16,            \n",
        "                kernel_size=5,          \n",
        "                stride=1,                   \n",
        "                padding=2            \n",
        "            ),                              \n",
        "            nn.ReLU(),                      \n",
        "            nn.MaxPool2d(kernel_size=2),    \n",
        "        )\n",
        "        self.conv2 = nn.Sequential(\n",
        "            LowRankConv2d(\n",
        "                in_channels=16,              \n",
        "                out_channels=32,            \n",
        "                kernel_size=5,             \n",
        "                stride=1,                   \n",
        "                padding=2, \n",
        "                r=r,\n",
        "                method=method,\n",
        "                decomposition = decomposition                \n",
        "            ),  \n",
        "            nn.ReLU(),                      \n",
        "            nn.MaxPool2d(2),                \n",
        "        )\n",
        "        # fully connected layer, output 10 classes\n",
        "        self.out = nn.Linear(32 * 7 * 7, 10)\n",
        "    def forward(self, x):\n",
        "        x = self.conv1(x)\n",
        "        x = self.conv2(x)\n",
        "        # flatten the output of conv2 to (batch_size, 32 * 7 * 7)\n",
        "        x = x.view(x.size(0), -1)       \n",
        "        output = self.out(x)\n",
        "        return output, x"
      ],
      "metadata": {
        "id": "y7jYaw-PU2iL"
      },
      "execution_count": null,
      "outputs": []
    },
    {
      "cell_type": "code",
      "execution_count": null,
      "metadata": {
        "id": "UurAwvaiXdK2"
      },
      "outputs": [],
      "source": [
        "class MNISTCNN_lowrank_both(nn.Module):\n",
        "    def __init__(self, r=3, method='log', decomposition='cur'):\n",
        "        super(MNISTCNN_lowrank_both, self).__init__()\n",
        "        self.conv1 = nn.Sequential(         \n",
        "            LowRankConv2d(\n",
        "                in_channels=1,              \n",
        "                out_channels=16,            \n",
        "                kernel_size=5,          \n",
        "                stride=1,                   \n",
        "                padding=2, \n",
        "                r=r,\n",
        "                method=method,\n",
        "                decomposition = decomposition              \n",
        "            ),                              \n",
        "            nn.ReLU(),                      \n",
        "            nn.MaxPool2d(kernel_size=2),    \n",
        "        )\n",
        "        self.conv2 = nn.Sequential(\n",
        "            LowRankConv2d(\n",
        "                in_channels=16,              \n",
        "                out_channels=32,            \n",
        "                kernel_size=5,             \n",
        "                stride=1,                   \n",
        "                padding=2, \n",
        "                r=r,\n",
        "                method=method,\n",
        "                decomposition = decomposition                \n",
        "            ),  \n",
        "            nn.ReLU(),                      \n",
        "            nn.MaxPool2d(2),                \n",
        "        )\n",
        "        # fully connected layer, output 10 classes\n",
        "        self.out = nn.Linear(32 * 7 * 7, 10)\n",
        "    def forward(self, x):\n",
        "        x = self.conv1(x)\n",
        "        x = self.conv2(x)\n",
        "        # flatten the output of conv2 to (batch_size, 32 * 7 * 7)\n",
        "        x = x.view(x.size(0), -1)       \n",
        "        output = self.out(x)\n",
        "        return output, x"
      ]
    },
    {
      "cell_type": "markdown",
      "metadata": {
        "id": "4dFRBu_TleJQ"
      },
      "source": [
        "## Training"
      ]
    },
    {
      "cell_type": "code",
      "execution_count": null,
      "metadata": {
        "id": "HYjLPMXZJCzb",
        "colab": {
          "base_uri": "https://localhost:8080/"
        },
        "outputId": "b6764eed-e6ab-4cb5-d642-74c4a245bfbe"
      },
      "outputs": [
        {
          "output_type": "stream",
          "name": "stdout",
          "text": [
            "A before approx: 5\n",
            "A after approx: 3\n"
          ]
        },
        {
          "output_type": "stream",
          "name": "stderr",
          "text": [
            "100%|██████████| 600/600 [00:35<00:00, 16.85it/s]"
          ]
        },
        {
          "output_type": "stream",
          "name": "stdout",
          "text": [
            "Epoch [1/10], Loss: 0.1429\n"
          ]
        },
        {
          "output_type": "stream",
          "name": "stderr",
          "text": [
            "\n",
            "100%|██████████| 600/600 [00:35<00:00, 16.75it/s]"
          ]
        },
        {
          "output_type": "stream",
          "name": "stdout",
          "text": [
            "Epoch [2/10], Loss: 0.0590\n"
          ]
        },
        {
          "output_type": "stream",
          "name": "stderr",
          "text": [
            "\n",
            "100%|██████████| 600/600 [00:34<00:00, 17.43it/s]"
          ]
        },
        {
          "output_type": "stream",
          "name": "stdout",
          "text": [
            "Epoch [3/10], Loss: 0.0530\n"
          ]
        },
        {
          "output_type": "stream",
          "name": "stderr",
          "text": [
            "\n",
            "100%|██████████| 600/600 [00:35<00:00, 16.79it/s]"
          ]
        },
        {
          "output_type": "stream",
          "name": "stdout",
          "text": [
            "Epoch [4/10], Loss: 0.0466\n"
          ]
        },
        {
          "output_type": "stream",
          "name": "stderr",
          "text": [
            "\n",
            "100%|██████████| 600/600 [00:35<00:00, 16.69it/s]"
          ]
        },
        {
          "output_type": "stream",
          "name": "stdout",
          "text": [
            "Epoch [5/10], Loss: 0.0436\n"
          ]
        },
        {
          "output_type": "stream",
          "name": "stderr",
          "text": [
            "\n",
            "100%|██████████| 600/600 [00:35<00:00, 16.80it/s]"
          ]
        },
        {
          "output_type": "stream",
          "name": "stdout",
          "text": [
            "Epoch [6/10], Loss: 0.0412\n"
          ]
        },
        {
          "output_type": "stream",
          "name": "stderr",
          "text": [
            "\n",
            "100%|██████████| 600/600 [00:35<00:00, 16.85it/s]"
          ]
        },
        {
          "output_type": "stream",
          "name": "stdout",
          "text": [
            "Epoch [7/10], Loss: 0.0401\n"
          ]
        },
        {
          "output_type": "stream",
          "name": "stderr",
          "text": [
            "\n",
            "100%|██████████| 600/600 [00:34<00:00, 17.18it/s]"
          ]
        },
        {
          "output_type": "stream",
          "name": "stdout",
          "text": [
            "Epoch [8/10], Loss: 0.0423\n"
          ]
        },
        {
          "output_type": "stream",
          "name": "stderr",
          "text": [
            "\n",
            "100%|██████████| 600/600 [00:37<00:00, 16.13it/s]"
          ]
        },
        {
          "output_type": "stream",
          "name": "stdout",
          "text": [
            "Epoch [9/10], Loss: 0.0395\n"
          ]
        },
        {
          "output_type": "stream",
          "name": "stderr",
          "text": [
            "\n",
            "100%|██████████| 600/600 [00:36<00:00, 16.55it/s]"
          ]
        },
        {
          "output_type": "stream",
          "name": "stdout",
          "text": [
            "Epoch [10/10], Loss: 0.0387\n",
            "Training time: 357\n"
          ]
        },
        {
          "output_type": "stream",
          "name": "stderr",
          "text": [
            "\n"
          ]
        }
      ],
      "source": [
        "cnn_lowrank_first = MNISTCNN_lowrank_first(r=3, method='log', decomposition='cur')\n",
        "loss_func = nn.CrossEntropyLoss()   \n",
        "optimizer = optim.Adam(cnn_lowrank_first.parameters(), lr = 0.01)   \n",
        "\n",
        "\n",
        "start = datetime.datetime.now()\n",
        "train(cnn_lowrank_first, optimizer, loss_func, loaders, num_epochs=10)\n",
        "end = datetime.datetime.now()\n",
        "diff = (end - start)\n",
        "print(\"Training time:\", int(diff.total_seconds()))"
      ]
    },
    {
      "cell_type": "code",
      "source": [
        "cnn_lowrank_second = MNISTCNN_lowrank_second(r=3, method='log', decomposition='cur')\n",
        "loss_func = nn.CrossEntropyLoss()   \n",
        "optimizer = optim.Adam(cnn_lowrank_second.parameters(), lr = 0.01)   \n",
        "\n",
        "\n",
        "start = datetime.datetime.now()\n",
        "train(cnn_lowrank_second, optimizer, loss_func, loaders, num_epochs=10)\n",
        "end = datetime.datetime.now()\n",
        "diff = (end - start)\n",
        "print(\"Training time:\", int(diff.total_seconds()))"
      ],
      "metadata": {
        "id": "pSOcJ-dPVDOg",
        "colab": {
          "base_uri": "https://localhost:8080/"
        },
        "outputId": "b7136110-614e-4065-9511-f7b18bdc077d"
      },
      "execution_count": null,
      "outputs": [
        {
          "output_type": "stream",
          "name": "stdout",
          "text": [
            "A before approx: 5\n",
            "A after approx: 3\n"
          ]
        },
        {
          "output_type": "stream",
          "name": "stderr",
          "text": [
            "100%|██████████| 600/600 [00:35<00:00, 16.67it/s]"
          ]
        },
        {
          "output_type": "stream",
          "name": "stdout",
          "text": [
            "Epoch [1/10], Loss: 0.2249\n"
          ]
        },
        {
          "output_type": "stream",
          "name": "stderr",
          "text": [
            "\n",
            "100%|██████████| 600/600 [00:35<00:00, 16.71it/s]"
          ]
        },
        {
          "output_type": "stream",
          "name": "stdout",
          "text": [
            "Epoch [2/10], Loss: 0.0703\n"
          ]
        },
        {
          "output_type": "stream",
          "name": "stderr",
          "text": [
            "\n",
            "100%|██████████| 600/600 [00:34<00:00, 17.21it/s]"
          ]
        },
        {
          "output_type": "stream",
          "name": "stdout",
          "text": [
            "Epoch [3/10], Loss: 0.0605\n"
          ]
        },
        {
          "output_type": "stream",
          "name": "stderr",
          "text": [
            "\n",
            "100%|██████████| 600/600 [00:35<00:00, 16.86it/s]"
          ]
        },
        {
          "output_type": "stream",
          "name": "stdout",
          "text": [
            "Epoch [4/10], Loss: 0.0556\n"
          ]
        },
        {
          "output_type": "stream",
          "name": "stderr",
          "text": [
            "\n",
            "100%|██████████| 600/600 [00:35<00:00, 16.71it/s]"
          ]
        },
        {
          "output_type": "stream",
          "name": "stdout",
          "text": [
            "Epoch [5/10], Loss: 0.0503\n"
          ]
        },
        {
          "output_type": "stream",
          "name": "stderr",
          "text": [
            "\n",
            "100%|██████████| 600/600 [00:35<00:00, 16.70it/s]"
          ]
        },
        {
          "output_type": "stream",
          "name": "stdout",
          "text": [
            "Epoch [6/10], Loss: 0.0516\n"
          ]
        },
        {
          "output_type": "stream",
          "name": "stderr",
          "text": [
            "\n",
            "100%|██████████| 600/600 [00:36<00:00, 16.25it/s]"
          ]
        },
        {
          "output_type": "stream",
          "name": "stdout",
          "text": [
            "Epoch [7/10], Loss: 0.0467\n"
          ]
        },
        {
          "output_type": "stream",
          "name": "stderr",
          "text": [
            "\n",
            "100%|██████████| 600/600 [00:35<00:00, 16.97it/s]"
          ]
        },
        {
          "output_type": "stream",
          "name": "stdout",
          "text": [
            "Epoch [8/10], Loss: 0.0466\n"
          ]
        },
        {
          "output_type": "stream",
          "name": "stderr",
          "text": [
            "\n",
            "100%|██████████| 600/600 [00:35<00:00, 17.06it/s]"
          ]
        },
        {
          "output_type": "stream",
          "name": "stdout",
          "text": [
            "Epoch [9/10], Loss: 0.0438\n"
          ]
        },
        {
          "output_type": "stream",
          "name": "stderr",
          "text": [
            "\n",
            "100%|██████████| 600/600 [00:35<00:00, 16.82it/s]"
          ]
        },
        {
          "output_type": "stream",
          "name": "stdout",
          "text": [
            "Epoch [10/10], Loss: 0.0447\n",
            "Training time: 357\n"
          ]
        },
        {
          "output_type": "stream",
          "name": "stderr",
          "text": [
            "\n"
          ]
        }
      ]
    },
    {
      "cell_type": "code",
      "source": [
        "cnn_lowrank_both = MNISTCNN_lowrank_both(r=3, method='log', decomposition='cur')\n",
        "loss_func = nn.CrossEntropyLoss()   \n",
        "optimizer = optim.Adam(cnn_lowrank_both.parameters(), lr = 0.01)   \n",
        "\n",
        "\n",
        "start = datetime.datetime.now()\n",
        "train(cnn_lowrank_both, optimizer, loss_func, loaders, num_epochs=10)\n",
        "end = datetime.datetime.now()\n",
        "diff = (end - start)\n",
        "print(\"Training time:\", int(diff.total_seconds()))"
      ],
      "metadata": {
        "id": "Znk-zTWmVEBB",
        "colab": {
          "base_uri": "https://localhost:8080/"
        },
        "outputId": "deedfdcf-d66e-40f4-9f9f-9493461c3c4b"
      },
      "execution_count": null,
      "outputs": [
        {
          "output_type": "stream",
          "name": "stdout",
          "text": [
            "A before approx: 5\n",
            "A after approx: 3\n",
            "A before approx: 5\n",
            "A after approx: 3\n"
          ]
        },
        {
          "output_type": "stream",
          "name": "stderr",
          "text": [
            "100%|██████████| 600/600 [00:35<00:00, 17.03it/s]"
          ]
        },
        {
          "output_type": "stream",
          "name": "stdout",
          "text": [
            "Epoch [1/10], Loss: 0.1859\n"
          ]
        },
        {
          "output_type": "stream",
          "name": "stderr",
          "text": [
            "\n",
            "100%|██████████| 600/600 [00:34<00:00, 17.19it/s]"
          ]
        },
        {
          "output_type": "stream",
          "name": "stdout",
          "text": [
            "Epoch [2/10], Loss: 0.0727\n"
          ]
        },
        {
          "output_type": "stream",
          "name": "stderr",
          "text": [
            "\n",
            "100%|██████████| 600/600 [00:33<00:00, 17.84it/s]"
          ]
        },
        {
          "output_type": "stream",
          "name": "stdout",
          "text": [
            "Epoch [3/10], Loss: 0.0586\n"
          ]
        },
        {
          "output_type": "stream",
          "name": "stderr",
          "text": [
            "\n",
            "100%|██████████| 600/600 [00:34<00:00, 17.34it/s]"
          ]
        },
        {
          "output_type": "stream",
          "name": "stdout",
          "text": [
            "Epoch [4/10], Loss: 0.0519\n"
          ]
        },
        {
          "output_type": "stream",
          "name": "stderr",
          "text": [
            "\n",
            "100%|██████████| 600/600 [00:35<00:00, 16.78it/s]"
          ]
        },
        {
          "output_type": "stream",
          "name": "stdout",
          "text": [
            "Epoch [5/10], Loss: 0.0500\n"
          ]
        },
        {
          "output_type": "stream",
          "name": "stderr",
          "text": [
            "\n",
            "100%|██████████| 600/600 [00:35<00:00, 17.06it/s]"
          ]
        },
        {
          "output_type": "stream",
          "name": "stdout",
          "text": [
            "Epoch [6/10], Loss: 0.0463\n"
          ]
        },
        {
          "output_type": "stream",
          "name": "stderr",
          "text": [
            "\n",
            "100%|██████████| 600/600 [00:35<00:00, 16.97it/s]"
          ]
        },
        {
          "output_type": "stream",
          "name": "stdout",
          "text": [
            "Epoch [7/10], Loss: 0.0429\n"
          ]
        },
        {
          "output_type": "stream",
          "name": "stderr",
          "text": [
            "\n",
            "100%|██████████| 600/600 [00:34<00:00, 17.24it/s]"
          ]
        },
        {
          "output_type": "stream",
          "name": "stdout",
          "text": [
            "Epoch [8/10], Loss: 0.0427\n"
          ]
        },
        {
          "output_type": "stream",
          "name": "stderr",
          "text": [
            "\n",
            "100%|██████████| 600/600 [00:34<00:00, 17.14it/s]"
          ]
        },
        {
          "output_type": "stream",
          "name": "stdout",
          "text": [
            "Epoch [9/10], Loss: 0.0399\n"
          ]
        },
        {
          "output_type": "stream",
          "name": "stderr",
          "text": [
            "\n",
            "100%|██████████| 600/600 [00:34<00:00, 17.16it/s]"
          ]
        },
        {
          "output_type": "stream",
          "name": "stdout",
          "text": [
            "Epoch [10/10], Loss: 0.0410\n",
            "Training time: 349\n"
          ]
        },
        {
          "output_type": "stream",
          "name": "stderr",
          "text": [
            "\n"
          ]
        }
      ]
    },
    {
      "cell_type": "markdown",
      "source": [
        "## Testing"
      ],
      "metadata": {
        "id": "C-qgkPmeVPM5"
      }
    },
    {
      "cell_type": "code",
      "execution_count": null,
      "metadata": {
        "id": "_7tg6V7dJGJN",
        "colab": {
          "base_uri": "https://localhost:8080/"
        },
        "outputId": "126f1417-72ea-4d02-908b-897172236a29"
      },
      "outputs": [
        {
          "output_type": "stream",
          "name": "stdout",
          "text": [
            "Precision on the 10000 test images: 0.9819\n",
            "Recall on the 10000 test images: 0.9817\n",
            "F1 score on the 10000 test images: 0.9817\n"
          ]
        }
      ],
      "source": [
        "test(cnn_lowrank_first, loaders)"
      ]
    },
    {
      "cell_type": "code",
      "source": [
        "test(cnn_lowrank_second, loaders)"
      ],
      "metadata": {
        "id": "UbQsa6iBVSeo",
        "colab": {
          "base_uri": "https://localhost:8080/"
        },
        "outputId": "80182830-fad7-4e59-cc03-56f96863fafc"
      },
      "execution_count": null,
      "outputs": [
        {
          "output_type": "stream",
          "name": "stdout",
          "text": [
            "Precision on the 10000 test images: 0.9803\n",
            "Recall on the 10000 test images: 0.9800\n",
            "F1 score on the 10000 test images: 0.9800\n"
          ]
        }
      ]
    },
    {
      "cell_type": "code",
      "source": [
        "test(cnn_lowrank_both, loaders)"
      ],
      "metadata": {
        "id": "yWK60HIyVS1g",
        "colab": {
          "base_uri": "https://localhost:8080/"
        },
        "outputId": "89a0d6bc-5136-46a5-e403-fdfd6414a536"
      },
      "execution_count": null,
      "outputs": [
        {
          "output_type": "stream",
          "name": "stdout",
          "text": [
            "Precision on the 10000 test images: 0.9826\n",
            "Recall on the 10000 test images: 0.9825\n",
            "F1 score on the 10000 test images: 0.9825\n"
          ]
        }
      ]
    },
    {
      "cell_type": "markdown",
      "metadata": {
        "id": "Tcqx_2crTbBI"
      },
      "source": [
        "# Count parameters for all"
      ]
    },
    {
      "cell_type": "code",
      "execution_count": null,
      "metadata": {
        "id": "9_48r84ITauG"
      },
      "outputs": [],
      "source": [
        "def count_parameters(model):\n",
        "    table = PrettyTable([\"Modules\", \"Parameters\"])\n",
        "    total_params = 0\n",
        "    for name, parameter in model.named_parameters():\n",
        "        if not parameter.requires_grad: \n",
        "            continue\n",
        "        param = parameter.numel()\n",
        "        table.add_row([name, param])\n",
        "        total_params+=param\n",
        "    print(table)\n",
        "    print(f\"Total Trainable Params: {total_params}\")\n",
        "    return total_params"
      ]
    },
    {
      "cell_type": "code",
      "execution_count": null,
      "metadata": {
        "id": "4MYVzPHtTdup",
        "colab": {
          "base_uri": "https://localhost:8080/"
        },
        "outputId": "782cf0ba-2299-446f-eb24-e3620fe699d3"
      },
      "outputs": [
        {
          "output_type": "stream",
          "name": "stdout",
          "text": [
            "+----------------+------------+\n",
            "|    Modules     | Parameters |\n",
            "+----------------+------------+\n",
            "| conv1.0.weight |    400     |\n",
            "|  conv1.0.bias  |     16     |\n",
            "| conv2.0.weight |   12800    |\n",
            "|  conv2.0.bias  |     32     |\n",
            "|   out.weight   |   15680    |\n",
            "|    out.bias    |     10     |\n",
            "+----------------+------------+\n",
            "Total Trainable Params: 28938\n"
          ]
        }
      ],
      "source": [
        "cnn_params = count_parameters(cnn)"
      ]
    },
    {
      "cell_type": "code",
      "execution_count": null,
      "metadata": {
        "id": "eIXtPI7lTezs",
        "colab": {
          "base_uri": "https://localhost:8080/"
        },
        "outputId": "c1a1d414-2d36-48f4-eb5b-d33faa12185f"
      },
      "outputs": [
        {
          "output_type": "stream",
          "name": "stdout",
          "text": [
            "+----------------+------------+\n",
            "|    Modules     | Parameters |\n",
            "+----------------+------------+\n",
            "| conv1.0.weight |    400     |\n",
            "|  conv1.0.bias  |     16     |\n",
            "|   conv2.0.A    |    512     |\n",
            "| conv2.0.sigma  |    512     |\n",
            "|   conv2.0.x0   |    512     |\n",
            "|   conv2.0.y0   |    512     |\n",
            "|   conv2.0.a    |    512     |\n",
            "|   conv2.0.b    |    512     |\n",
            "|   out.weight   |   15680    |\n",
            "|    out.bias    |     10     |\n",
            "+----------------+------------+\n",
            "Total Trainable Params: 19178\n"
          ]
        }
      ],
      "source": [
        "cnn_frac_params = count_parameters(cnn_frac)"
      ]
    },
    {
      "cell_type": "code",
      "source": [
        "cnn_frac_params = count_parameters(cnn_frac_2conv)"
      ],
      "metadata": {
        "colab": {
          "base_uri": "https://localhost:8080/"
        },
        "id": "H4M8hYl_MEwL",
        "outputId": "aa475e85-ba77-40e9-bf26-3bef2f6113df"
      },
      "execution_count": null,
      "outputs": [
        {
          "output_type": "stream",
          "name": "stdout",
          "text": [
            "+---------------+------------+\n",
            "|    Modules    | Parameters |\n",
            "+---------------+------------+\n",
            "|   conv1.0.A   |     16     |\n",
            "| conv1.0.sigma |     16     |\n",
            "|   conv1.0.x0  |     16     |\n",
            "|   conv1.0.y0  |     16     |\n",
            "|   conv1.0.a   |     16     |\n",
            "|   conv1.0.b   |     16     |\n",
            "|   conv2.0.A   |    512     |\n",
            "| conv2.0.sigma |    512     |\n",
            "|   conv2.0.x0  |    512     |\n",
            "|   conv2.0.y0  |    512     |\n",
            "|   conv2.0.a   |    512     |\n",
            "|   conv2.0.b   |    512     |\n",
            "|   out.weight  |   15680    |\n",
            "|    out.bias   |     10     |\n",
            "+---------------+------------+\n",
            "Total Trainable Params: 18858\n"
          ]
        }
      ]
    },
    {
      "cell_type": "code",
      "source": [
        "cnn_frac_params = count_parameters(cnn_frac_first_conv)"
      ],
      "metadata": {
        "colab": {
          "base_uri": "https://localhost:8080/"
        },
        "id": "YCsGmDUFMH3k",
        "outputId": "6b8bfde9-792e-4742-dbc9-586fd2141ec3"
      },
      "execution_count": null,
      "outputs": [
        {
          "output_type": "stream",
          "name": "stdout",
          "text": [
            "+----------------+------------+\n",
            "|    Modules     | Parameters |\n",
            "+----------------+------------+\n",
            "|   conv1.0.A    |     16     |\n",
            "| conv1.0.sigma  |     16     |\n",
            "|   conv1.0.x0   |     16     |\n",
            "|   conv1.0.y0   |     16     |\n",
            "|   conv1.0.a    |     16     |\n",
            "|   conv1.0.b    |     16     |\n",
            "| conv2.0.weight |   12800    |\n",
            "|  conv2.0.bias  |     32     |\n",
            "|   out.weight   |   15680    |\n",
            "|    out.bias    |     10     |\n",
            "+----------------+------------+\n",
            "Total Trainable Params: 28618\n"
          ]
        }
      ]
    },
    {
      "cell_type": "code",
      "execution_count": null,
      "metadata": {
        "id": "vpnn6e21F8ZR"
      },
      "outputs": [],
      "source": [
        "from prettytable import PrettyTable\n",
        "\n",
        "def count_parameters_pruning(model):\n",
        "    table = PrettyTable([\"Modules\", \"Parameters\"])\n",
        "    total_params = 0\n",
        "    for name, parameter in model.named_parameters():\n",
        "        if not parameter.requires_grad: \n",
        "            continue\n",
        "        \n",
        "        param = parameter.numel()\n",
        "        if 'conv2.0.conv.weight' in name:\n",
        "            pruned_mask = list(model.conv2.named_buffers())\n",
        "            param = int(torch.sum(pruned_mask[0][1]).item())\n",
        "            name = name[:-5]\n",
        "        \n",
        "        table.add_row([name, param])\n",
        "        total_params+=param\n",
        "    print(table)\n",
        "    print(f\"Total Trainable Params: {total_params}\")\n",
        "    return total_params\n"
      ]
    },
    {
      "cell_type": "code",
      "execution_count": null,
      "metadata": {
        "id": "g9GupiIqTyFN",
        "colab": {
          "base_uri": "https://localhost:8080/"
        },
        "outputId": "b7f32901-6714-4f93-ea55-05557bbfd3bb"
      },
      "outputs": [
        {
          "output_type": "stream",
          "name": "stdout",
          "text": [
            "+--------------------------+------------+\n",
            "|         Modules          | Parameters |\n",
            "+--------------------------+------------+\n",
            "|    conv1.0.conv.bias     |     16     |\n",
            "| conv1.0.conv.weight_orig |    400     |\n",
            "|    conv2.0.conv.bias     |     32     |\n",
            "|   conv2.0.conv.weight    |    8960    |\n",
            "|        out.weight        |   15680    |\n",
            "|         out.bias         |     10     |\n",
            "+--------------------------+------------+\n",
            "Total Trainable Params: 25098\n"
          ]
        }
      ],
      "source": [
        "cnn_pruned_params = count_parameters_pruning(cnn_pruned)"
      ]
    },
    {
      "cell_type": "code",
      "execution_count": null,
      "metadata": {
        "id": "l942HGjXoI-W",
        "colab": {
          "base_uri": "https://localhost:8080/"
        },
        "outputId": "3524f9a6-793a-4bd9-e22d-23f9a255aa84"
      },
      "outputs": [
        {
          "output_type": "stream",
          "name": "stdout",
          "text": [
            "+---------------------+------------+\n",
            "|       Modules       | Parameters |\n",
            "+---------------------+------------+\n",
            "| conv1.0.conv.weight |    400     |\n",
            "|  conv1.0.conv.bias  |     16     |\n",
            "| conv2.0.conv.weight |   12800    |\n",
            "|  conv2.0.conv.bias  |     32     |\n",
            "|      out.weight     |   15680    |\n",
            "|       out.bias      |     10     |\n",
            "+---------------------+------------+\n",
            "Total Trainable Params: 28938\n"
          ]
        }
      ],
      "source": [
        "cnn_lowrank_params = count_parameters(cnn_lowrank)"
      ]
    }
  ],
  "metadata": {
    "accelerator": "GPU",
    "colab": {
      "collapsed_sections": [
        "RdOtiMOLV67Z",
        "L1AtO2TYZP4r",
        "fLi0HABtZazJ",
        "vUMHEvjuYFOK",
        "VrLwYegelC1r",
        "ipYKNS36YBXd",
        "GYu8reMx2pEy",
        "dt6-INgamdDv",
        "6tYl65sa2m7M",
        "Jb45zDMGnmYu",
        "dM1U51senqn3",
        "O58yjjtF2ktw",
        "4dFRBu_TleJQ",
        "C-qgkPmeVPM5",
        "Tcqx_2crTbBI"
      ],
      "provenance": []
    },
    "gpuClass": "standard",
    "kernelspec": {
      "display_name": "Python 3",
      "name": "python3"
    },
    "language_info": {
      "name": "python"
    }
  },
  "nbformat": 4,
  "nbformat_minor": 0
}