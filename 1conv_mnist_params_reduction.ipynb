{
  "cells": [
    {
      "cell_type": "markdown",
      "source": [
        "# Parameter Reduction Methods Experiments on CNN Trained on MNIST Dataset"
      ],
      "metadata": {
        "id": "vR5ZTleNtRDq"
      }
    },
    {
      "cell_type": "markdown",
      "metadata": {
        "id": "RdOtiMOLV67Z"
      },
      "source": [
        "# Imports"
      ]
    },
    {
      "cell_type": "code",
      "execution_count": 1,
      "metadata": {
        "id": "G3Ho4qXPXq-e"
      },
      "outputs": [],
      "source": [
        "import torch\n",
        "import torch.nn as nn\n",
        "import torchvision\n",
        "import torch.optim as optim\n",
        "import torch.nn.functional as F\n",
        "import matplotlib.pyplot as plt\n",
        "import torchvision.transforms as transforms\n",
        "import torchvision.datasets as datasets\n",
        "import torchvision.transforms as transforms\n",
        "from tqdm import tqdm\n",
        "from torchvision.datasets import MNIST\n",
        "from torch.utils.data import DataLoader\n",
        "from torch import optim\n",
        "from torch.autograd import Variable\n",
        "import torch.nn.utils.prune as prune\n",
        "from torchvision.transforms.autoaugment import TrivialAugmentWide\n",
        "\n",
        "import numpy as np\n",
        "import math\n",
        "import cv2\n",
        "import time, datetime\n",
        "from prettytable import PrettyTable\n",
        "from numpy.linalg import svd"
      ]
    },
    {
      "cell_type": "code",
      "execution_count": 2,
      "metadata": {
        "colab": {
          "base_uri": "https://localhost:8080/"
        },
        "id": "5za0UTf3aUK1",
        "outputId": "b48bbb92-5ef5-45ad-d4cf-c4e3e256635a"
      },
      "outputs": [
        {
          "output_type": "execute_result",
          "data": {
            "text/plain": [
              "device(type='cuda')"
            ]
          },
          "metadata": {},
          "execution_count": 2
        }
      ],
      "source": [
        "# Define the device to train on\n",
        "device = torch.device(\"cuda\" if torch.cuda.is_available() else \"cpu\")\n",
        "device"
      ]
    },
    {
      "cell_type": "markdown",
      "metadata": {
        "id": "L1AtO2TYZP4r"
      },
      "source": [
        "# Load data"
      ]
    },
    {
      "cell_type": "code",
      "execution_count": 3,
      "metadata": {
        "id": "lgrV6-njCEVu",
        "colab": {
          "base_uri": "https://localhost:8080/"
        },
        "outputId": "4b70211a-ccc2-4717-98e4-d4437778b419"
      },
      "outputs": [
        {
          "output_type": "stream",
          "name": "stdout",
          "text": [
            "Downloading http://yann.lecun.com/exdb/mnist/train-images-idx3-ubyte.gz\n",
            "Downloading http://yann.lecun.com/exdb/mnist/train-images-idx3-ubyte.gz to data/MNIST/raw/train-images-idx3-ubyte.gz\n"
          ]
        },
        {
          "output_type": "stream",
          "name": "stderr",
          "text": [
            "100%|██████████| 9912422/9912422 [00:00<00:00, 92915545.50it/s]\n"
          ]
        },
        {
          "output_type": "stream",
          "name": "stdout",
          "text": [
            "Extracting data/MNIST/raw/train-images-idx3-ubyte.gz to data/MNIST/raw\n",
            "\n",
            "Downloading http://yann.lecun.com/exdb/mnist/train-labels-idx1-ubyte.gz\n",
            "Downloading http://yann.lecun.com/exdb/mnist/train-labels-idx1-ubyte.gz to data/MNIST/raw/train-labels-idx1-ubyte.gz\n"
          ]
        },
        {
          "output_type": "stream",
          "name": "stderr",
          "text": [
            "100%|██████████| 28881/28881 [00:00<00:00, 105335385.93it/s]\n"
          ]
        },
        {
          "output_type": "stream",
          "name": "stdout",
          "text": [
            "Extracting data/MNIST/raw/train-labels-idx1-ubyte.gz to data/MNIST/raw\n",
            "\n",
            "Downloading http://yann.lecun.com/exdb/mnist/t10k-images-idx3-ubyte.gz\n",
            "Downloading http://yann.lecun.com/exdb/mnist/t10k-images-idx3-ubyte.gz to data/MNIST/raw/t10k-images-idx3-ubyte.gz\n"
          ]
        },
        {
          "output_type": "stream",
          "name": "stderr",
          "text": [
            "100%|██████████| 1648877/1648877 [00:00<00:00, 28088830.48it/s]\n"
          ]
        },
        {
          "output_type": "stream",
          "name": "stdout",
          "text": [
            "Extracting data/MNIST/raw/t10k-images-idx3-ubyte.gz to data/MNIST/raw\n",
            "\n",
            "Downloading http://yann.lecun.com/exdb/mnist/t10k-labels-idx1-ubyte.gz\n",
            "Downloading http://yann.lecun.com/exdb/mnist/t10k-labels-idx1-ubyte.gz to data/MNIST/raw/t10k-labels-idx1-ubyte.gz\n"
          ]
        },
        {
          "output_type": "stream",
          "name": "stderr",
          "text": [
            "100%|██████████| 4542/4542 [00:00<00:00, 21550371.91it/s]"
          ]
        },
        {
          "output_type": "stream",
          "name": "stdout",
          "text": [
            "Extracting data/MNIST/raw/t10k-labels-idx1-ubyte.gz to data/MNIST/raw\n",
            "\n"
          ]
        },
        {
          "output_type": "stream",
          "name": "stderr",
          "text": [
            "\n"
          ]
        }
      ],
      "source": [
        "from torchvision import datasets\n",
        "from torchvision.transforms import ToTensor\n",
        "train_data = datasets.MNIST(\n",
        "    root = 'data',\n",
        "    train = True,                         \n",
        "    transform = ToTensor(), \n",
        "    download = True,            \n",
        ")\n",
        "test_data = datasets.MNIST(\n",
        "    root = 'data', \n",
        "    train = False, \n",
        "    transform = ToTensor()\n",
        ")"
      ]
    },
    {
      "cell_type": "code",
      "execution_count": 4,
      "metadata": {
        "colab": {
          "base_uri": "https://localhost:8080/"
        },
        "id": "yu_PamwmPDV-",
        "outputId": "28bd37b2-5a4b-4ea4-9ea8-15c41c477a1a"
      },
      "outputs": [
        {
          "output_type": "stream",
          "name": "stdout",
          "text": [
            "Dataset MNIST\n",
            "    Number of datapoints: 60000\n",
            "    Root location: data\n",
            "    Split: Train\n",
            "    StandardTransform\n",
            "Transform: ToTensor()\n"
          ]
        }
      ],
      "source": [
        "print(train_data)"
      ]
    },
    {
      "cell_type": "code",
      "execution_count": 5,
      "metadata": {
        "colab": {
          "base_uri": "https://localhost:8080/"
        },
        "id": "3owQRxAzPKiM",
        "outputId": "f3ff8784-cab5-4111-90e4-3ca7d0ace8bb"
      },
      "outputs": [
        {
          "output_type": "stream",
          "name": "stdout",
          "text": [
            "Dataset MNIST\n",
            "    Number of datapoints: 10000\n",
            "    Root location: data\n",
            "    Split: Test\n",
            "    StandardTransform\n",
            "Transform: ToTensor()\n"
          ]
        }
      ],
      "source": [
        "print(test_data)"
      ]
    },
    {
      "cell_type": "code",
      "execution_count": 6,
      "metadata": {
        "colab": {
          "base_uri": "https://localhost:8080/"
        },
        "id": "9h94h5E7CHdL",
        "outputId": "e2488efb-89ea-464b-fb0d-4c02664cd396"
      },
      "outputs": [
        {
          "output_type": "execute_result",
          "data": {
            "text/plain": [
              "{'train': <torch.utils.data.dataloader.DataLoader at 0x7f4444be3a00>,\n",
              " 'test': <torch.utils.data.dataloader.DataLoader at 0x7f4444be3be0>}"
            ]
          },
          "metadata": {},
          "execution_count": 6
        }
      ],
      "source": [
        "from torch.utils.data import DataLoader\n",
        "loaders = {\n",
        "    'train' : torch.utils.data.DataLoader(train_data, \n",
        "                                          batch_size=100, \n",
        "                                          shuffle=True, \n",
        "                                          num_workers=1),\n",
        "    \n",
        "    'test'  : torch.utils.data.DataLoader(test_data, \n",
        "                                          batch_size=100, \n",
        "                                          shuffle=True, \n",
        "                                          num_workers=1),\n",
        "}\n",
        "loaders"
      ]
    },
    {
      "cell_type": "code",
      "execution_count": 7,
      "metadata": {
        "colab": {
          "base_uri": "https://localhost:8080/"
        },
        "id": "JhFD9AtMNp7h",
        "outputId": "4e5ed28e-6de8-442f-9f3b-9cb4e75a31ac"
      },
      "outputs": [
        {
          "output_type": "execute_result",
          "data": {
            "text/plain": [
              "(100, 600)"
            ]
          },
          "metadata": {},
          "execution_count": 7
        }
      ],
      "source": [
        "len(loaders[\"test\"]), len(loaders[\"train\"])"
      ]
    },
    {
      "cell_type": "markdown",
      "metadata": {
        "id": "fLi0HABtZazJ"
      },
      "source": [
        "# Utils (training, testing and visualization functions)"
      ]
    },
    {
      "cell_type": "code",
      "execution_count": 8,
      "metadata": {
        "id": "scSr6DfdCd_Y"
      },
      "outputs": [],
      "source": [
        "def train(cnn, optimizer, loss_func, loaders, num_epochs):\n",
        "    \n",
        "    cnn.train()\n",
        "        \n",
        "    # Train the model\n",
        "    total_step = len(loaders['train'])\n",
        "        \n",
        "    for epoch in range(num_epochs):\n",
        "        running_loss = 0.0\n",
        "        visualize = True\n",
        "\n",
        "        for i, (images, labels) in tqdm(enumerate(loaders['train']), total=len(loaders['train'])):\n",
        "            b_x = Variable(images)   # batch x\n",
        "            b_y = Variable(labels)   # batch y\n",
        "\n",
        "            output = cnn(b_x)[0]\n",
        "            b_y = b_y.to(device)\n",
        "            output = output.to(device)     \n",
        "            loss = loss_func(output, b_y)\n",
        "            \n",
        "            # clear gradients \n",
        "            optimizer.zero_grad()           \n",
        "            \n",
        "            # backpropagation\n",
        "            loss.backward()  \n",
        "\n",
        "            optimizer.step()     \n",
        "\n",
        "            running_loss += loss.item()     \n",
        "                \n",
        "        print('Epoch [{}/{}], Loss: {:.4f}'.format(epoch + 1, num_epochs, running_loss/len(loaders['train'])))"
      ]
    },
    {
      "cell_type": "code",
      "execution_count": 9,
      "metadata": {
        "id": "apYJWMAKCxf1"
      },
      "outputs": [],
      "source": [
        "from sklearn.metrics import accuracy_score, f1_score, recall_score, precision_score\n",
        "\n",
        "def test(cnn, loaders):\n",
        "    # Test the model\n",
        "    cnn.eval()\n",
        "    with torch.no_grad():\n",
        "        all_labels = []\n",
        "        all_preds = []\n",
        "        for images, labels in loaders['test']:\n",
        "            test_output, last_layer = cnn(images)\n",
        "\n",
        "            preds = torch.max(test_output, 1)[1].data.squeeze().cpu().numpy()\n",
        "            labels = labels.cpu().numpy()\n",
        "            \n",
        "            all_labels.extend(labels)\n",
        "            all_preds.extend(preds)\n",
        "        \n",
        "        accuracy = accuracy_score(all_labels, all_preds)\n",
        "        precision = precision_score(all_labels, all_preds, average='weighted')\n",
        "        recall = recall_score(all_labels, all_preds, average='weighted')\n",
        "        f1 = f1_score(all_labels, all_preds, average='weighted')\n",
        "\n",
        "    # print('Accuracy of the model on the 10000 test images: %.2f' % accuracy)\n",
        "    print('Precision on the 10000 test images: %.4f' % precision)\n",
        "    print('Recall on the 10000 test images: %.4f' % recall)\n",
        "    print('F1 score on the 10000 test images: %.4f' % f1)"
      ]
    },
    {
      "cell_type": "code",
      "execution_count": 10,
      "metadata": {
        "id": "g_Q9JX1oUtBn"
      },
      "outputs": [],
      "source": [
        "def visualize_conv(conv_layer):\n",
        "    fig, axs = plt.subplots(1, 2)\n",
        "\n",
        "    k = 10\n",
        "    sample_image = test_data[k]\n",
        "    axs[0].imshow(sample_image[0][0], cmap='gray')\n",
        "\n",
        "    conv_output = conv_layer(sample_image[0])\n",
        "    axs[1].imshow(conv_output[0].cpu().detach().numpy(), cmap='gray')\n",
        "\n",
        "    plt.show()"
      ]
    },
    {
      "cell_type": "markdown",
      "metadata": {
        "id": "vUMHEvjuYFOK"
      },
      "source": [
        "# Original CNN"
      ]
    },
    {
      "cell_type": "markdown",
      "metadata": {
        "id": "RZFiZzVL2sEw"
      },
      "source": [
        "## Model"
      ]
    },
    {
      "cell_type": "code",
      "execution_count": 11,
      "metadata": {
        "id": "ijn93PTDCMrU"
      },
      "outputs": [],
      "source": [
        "class MNISTCNN(nn.Module):\n",
        "    def __init__(self):\n",
        "        super(MNISTCNN, self).__init__()\n",
        "        self.conv1 = nn.Sequential(         \n",
        "            nn.Conv2d(\n",
        "                in_channels=1,              \n",
        "                out_channels=16,            \n",
        "                kernel_size=5,          \n",
        "                stride=1,                   \n",
        "                padding=2,                  \n",
        "            ),                              \n",
        "            nn.ReLU(),                      \n",
        "            nn.MaxPool2d(kernel_size=2),    \n",
        "        )\n",
        "        self.conv2 = nn.Sequential(\n",
        "            nn.Conv2d(\n",
        "                in_channels=16,              \n",
        "                out_channels=32,            \n",
        "                kernel_size=5,              \n",
        "                stride=1,                   \n",
        "                padding=2,                  \n",
        "            ),  \n",
        "            nn.ReLU(),                      \n",
        "            nn.MaxPool2d(2),                \n",
        "        )\n",
        "        # fully connected layer, output 10 classes\n",
        "        self.out = nn.Linear(32 * 7 * 7, 10)\n",
        "    def forward(self, x, visualize=False):\n",
        "        x = self.conv1(x)\n",
        "        x = self.conv2(x)\n",
        "\n",
        "        # flatten the output of conv2 to (batch_size, 32 * 7 * 7)\n",
        "        x = x.view(x.size(0), -1)       \n",
        "        output = self.out(x)\n",
        "        return output, x"
      ]
    },
    {
      "cell_type": "markdown",
      "metadata": {
        "id": "VrLwYegelC1r"
      },
      "source": [
        "## Training"
      ]
    },
    {
      "cell_type": "code",
      "execution_count": 12,
      "metadata": {
        "colab": {
          "base_uri": "https://localhost:8080/"
        },
        "id": "dAlXKQnGDHSN",
        "outputId": "f50d54d1-bef7-48c3-bb55-252623cfb058"
      },
      "outputs": [
        {
          "output_type": "stream",
          "name": "stderr",
          "text": [
            "100%|██████████| 600/600 [00:51<00:00, 11.65it/s]"
          ]
        },
        {
          "output_type": "stream",
          "name": "stdout",
          "text": [
            "Epoch [1/10], Loss: 0.1798\n"
          ]
        },
        {
          "output_type": "stream",
          "name": "stderr",
          "text": [
            "\n",
            "100%|██████████| 600/600 [00:38<00:00, 15.71it/s]"
          ]
        },
        {
          "output_type": "stream",
          "name": "stdout",
          "text": [
            "Epoch [2/10], Loss: 0.0673\n"
          ]
        },
        {
          "output_type": "stream",
          "name": "stderr",
          "text": [
            "\n",
            "100%|██████████| 600/600 [00:38<00:00, 15.57it/s]"
          ]
        },
        {
          "output_type": "stream",
          "name": "stdout",
          "text": [
            "Epoch [3/10], Loss: 0.0591\n"
          ]
        },
        {
          "output_type": "stream",
          "name": "stderr",
          "text": [
            "\n",
            "100%|██████████| 600/600 [00:37<00:00, 15.81it/s]"
          ]
        },
        {
          "output_type": "stream",
          "name": "stdout",
          "text": [
            "Epoch [4/10], Loss: 0.0565\n"
          ]
        },
        {
          "output_type": "stream",
          "name": "stderr",
          "text": [
            "\n",
            "100%|██████████| 600/600 [00:36<00:00, 16.32it/s]"
          ]
        },
        {
          "output_type": "stream",
          "name": "stdout",
          "text": [
            "Epoch [5/10], Loss: 0.0543\n"
          ]
        },
        {
          "output_type": "stream",
          "name": "stderr",
          "text": [
            "\n",
            "100%|██████████| 600/600 [00:36<00:00, 16.35it/s]"
          ]
        },
        {
          "output_type": "stream",
          "name": "stdout",
          "text": [
            "Epoch [6/10], Loss: 0.0515\n"
          ]
        },
        {
          "output_type": "stream",
          "name": "stderr",
          "text": [
            "\n",
            "100%|██████████| 600/600 [00:37<00:00, 15.98it/s]"
          ]
        },
        {
          "output_type": "stream",
          "name": "stdout",
          "text": [
            "Epoch [7/10], Loss: 0.0479\n"
          ]
        },
        {
          "output_type": "stream",
          "name": "stderr",
          "text": [
            "\n",
            "100%|██████████| 600/600 [00:37<00:00, 15.88it/s]"
          ]
        },
        {
          "output_type": "stream",
          "name": "stdout",
          "text": [
            "Epoch [8/10], Loss: 0.0481\n"
          ]
        },
        {
          "output_type": "stream",
          "name": "stderr",
          "text": [
            "\n",
            "100%|██████████| 600/600 [00:38<00:00, 15.63it/s]"
          ]
        },
        {
          "output_type": "stream",
          "name": "stdout",
          "text": [
            "Epoch [9/10], Loss: 0.0446\n"
          ]
        },
        {
          "output_type": "stream",
          "name": "stderr",
          "text": [
            "\n",
            "100%|██████████| 600/600 [00:37<00:00, 15.84it/s]"
          ]
        },
        {
          "output_type": "stream",
          "name": "stdout",
          "text": [
            "Epoch [10/10], Loss: 0.0461\n",
            "Training time: 391\n"
          ]
        },
        {
          "output_type": "stream",
          "name": "stderr",
          "text": [
            "\n"
          ]
        }
      ],
      "source": [
        "cnn = MNISTCNN()\n",
        "loss_func = nn.CrossEntropyLoss()   \n",
        "optimizer = optim.Adam(cnn.parameters(), lr = 0.01)   \n",
        "\n",
        "\n",
        "start = datetime.datetime.now()\n",
        "train(cnn, optimizer, loss_func, loaders, num_epochs=10)\n",
        "end = datetime.datetime.now()\n",
        "diff = (end - start)\n",
        "print(\"Training time:\", int(diff.total_seconds()))"
      ]
    },
    {
      "cell_type": "markdown",
      "metadata": {
        "id": "5uGliUAJlEVA"
      },
      "source": [
        "## Testing"
      ]
    },
    {
      "cell_type": "code",
      "execution_count": 13,
      "metadata": {
        "colab": {
          "base_uri": "https://localhost:8080/"
        },
        "id": "MfCRhwqLDlQI",
        "outputId": "102781d4-4b81-4c6e-8655-d194ad7d916a"
      },
      "outputs": [
        {
          "output_type": "stream",
          "name": "stdout",
          "text": [
            "Precision on the 10000 test images: 0.9832\n",
            "Recall on the 10000 test images: 0.9831\n",
            "F1 score on the 10000 test images: 0.9831\n"
          ]
        }
      ],
      "source": [
        "test(cnn, loaders)"
      ]
    },
    {
      "cell_type": "markdown",
      "metadata": {
        "id": "hcLzo4uvlGDg"
      },
      "source": [
        "## Visualization"
      ]
    },
    {
      "cell_type": "code",
      "execution_count": 14,
      "metadata": {
        "colab": {
          "base_uri": "https://localhost:8080/",
          "height": 54
        },
        "id": "YVr86RtER8Zk",
        "outputId": "76a11ce6-6a05-47bc-e224-205d3a637c5d"
      },
      "outputs": [
        {
          "output_type": "display_data",
          "data": {
            "text/plain": [
              "<Figure size 640x480 with 2 Axes>"
            ],
            "image/png": "[encoded data removed]"
          },
          "metadata": {}
        }
      ],
      "source": [
        "conv_layer = nn.Conv2d(\n",
        "                in_channels=1,              \n",
        "                out_channels=1,            \n",
        "                kernel_size=5,       \n",
        "                stride=1,                   \n",
        "                padding=2,                  \n",
        "            )\n",
        "visualize_conv(conv_layer)"
      ]
    },
    {
      "cell_type": "markdown",
      "metadata": {
        "id": "ipYKNS36YBXd"
      },
      "source": [
        "# CNN with fractional filters"
      ]
    },
    {
      "cell_type": "markdown",
      "metadata": {
        "id": "GYu8reMx2pEy"
      },
      "source": [
        "## Model"
      ]
    },
    {
      "cell_type": "code",
      "execution_count": 15,
      "metadata": {
        "id": "5-BOqcipX0wL"
      },
      "outputs": [],
      "source": [
        "class FractionalConv2d(nn.Module):\n",
        "    def __init__(self, in_channels, out_channels, kernel_size, stride=1, padding=0):\n",
        "        super(FractionalConv2d, self).__init__()\n",
        "\n",
        "        self.in_channels = in_channels\n",
        "        self.out_channels = out_channels\n",
        "        self.kernel_size = kernel_size\n",
        "        self.stride = stride\n",
        "        self.padding = padding\n",
        "\n",
        "        # Initializing the learnable parameters\n",
        "\n",
        "        # In A < 1, because the gamma function is not defined for negative integers or zero.\n",
        "        # In the paper, they mention using a regularization term \n",
        "        # to ensure that A is greater than or equal to 1, which would avoid this issue.\n",
        "        self.A = torch.randn(self.out_channels, self.in_channels)\n",
        "        self.A = nn.Parameter(torch.abs(self.A) + 1)\n",
        "\n",
        "        self.sigma = nn.Parameter(torch.randn(self.out_channels, self.in_channels).abs())\n",
        "        self.x0 = nn.Parameter(torch.randn(self.out_channels, self.in_channels))\n",
        "        self.y0 = nn.Parameter(torch.randn(self.out_channels, self.in_channels))\n",
        "        self.a = nn.Parameter(torch.rand(self.out_channels, self.in_channels) * 2)\n",
        "        self.b = nn.Parameter(torch.rand(self.out_channels, self.in_channels) * 2)\n",
        "\n",
        "        self.weights = None\n",
        "        self.compute_weights()\n",
        "\n",
        "    def compute_weights(self):\n",
        "        # Computing weights\n",
        "        weights = torch.zeros(self.out_channels, self.in_channels, self.kernel_size, self.kernel_size)\n",
        "        dx = self._fractional_derivative(self.a, self.A, self.sigma, self.x0)\n",
        "        dy = self._fractional_derivative(self.a, self.A, self.sigma, self.y0)\n",
        "\n",
        "        kernel = torch.einsum('abc,abd->acbd', dx, dy)\n",
        "        weights = kernel.reshape(dx.shape[0], dx.shape[1], dx.shape[2], dy.shape[2])\n",
        "\n",
        "        self.weights = weights.to(device)\n",
        "\n",
        "    def forward(self, x):\n",
        "        self.weights = self.weights.clone().detach()\n",
        "        x = x.to(device)\n",
        "        out = F.conv2d(x, self.weights, stride=self.stride, padding=self.padding)\n",
        "        return out\n",
        "\n",
        "    def _fractional_derivative(self, alpha, A, sigma, x0):\n",
        "        N = 10\n",
        "        h = torch.tensor(1 / self.kernel_size).repeat(self.out_channels, self.in_channels, self.kernel_size)\n",
        "\n",
        "        def gamma_func(a):\n",
        "            return torch.exp(torch.lgamma(a))\n",
        "\n",
        "        def G(x):\n",
        "            return torch.exp(-(torch.square(x-x0))/torch.square(sigma))\n",
        "        \n",
        "        def f(x, n):\n",
        "            return (gamma_func(alpha + 1) * G(x)) / ((-1)**n * gamma_func(n+1) * gamma_func(1-n+alpha))\n",
        "\n",
        "        dx = torch.zeros (self.out_channels, self.in_channels, self.kernel_size)\n",
        "        for x in range(1, self.kernel_size+1):\n",
        "            x = torch.tensor(x).repeat(self.out_channels, self.in_channels)\n",
        "            sum_term = 0\n",
        "            for n in range(N+1):\n",
        "                n = torch.tensor(n).repeat(self.out_channels, self.in_channels)\n",
        "                sum_term += f(x, n)\n",
        "\n",
        "            dx[..., x-1] = sum_term\n",
        "\n",
        "        dx = dx.to(device)\n",
        "        h = h.to(device)\n",
        "        A = A.unsqueeze(2).repeat(1, 1, self.kernel_size)\n",
        "        A = A.to(device)\n",
        "        dx = (A / h) * dx\n",
        "\n",
        "        return dx"
      ]
    },
    {
      "cell_type": "code",
      "execution_count": 16,
      "metadata": {
        "id": "xAU0f8M9ofZM"
      },
      "outputs": [],
      "source": [
        "class MNISTCNN_frac(nn.Module):\n",
        "    def __init__(self):\n",
        "        super(MNISTCNN_frac, self).__init__()\n",
        "        self.conv1 = nn.Sequential(         \n",
        "            nn.Conv2d(\n",
        "                in_channels=1,              \n",
        "                out_channels=16,            \n",
        "                kernel_size=5,          \n",
        "                stride=1,                   \n",
        "                padding=2,                  \n",
        "            ),                              \n",
        "            nn.ReLU(),                      \n",
        "            nn.MaxPool2d(kernel_size=2),    \n",
        "        )\n",
        "        self.conv2 = nn.Sequential(\n",
        "            FractionalConv2d(\n",
        "                in_channels=16,              \n",
        "                out_channels=32,            \n",
        "                kernel_size=5,           \n",
        "                stride=1,                   \n",
        "                padding=2,                  \n",
        "            ),    \n",
        "            nn.ReLU(),                      \n",
        "            nn.MaxPool2d(2),                \n",
        "        )\n",
        "        # fully connected layer, output 10 classes\n",
        "        self.out = nn.Linear(32 * 7 * 7, 10).to(device)\n",
        "    def forward(self, x):\n",
        "        x = self.conv1(x)\n",
        "        x = self.conv2(x)\n",
        "\n",
        "        # flatten the output of conv2 to (batch_size, 32 * 7 * 7)\n",
        "        x = x.view(x.size(0), -1)\n",
        "        x.to(device)\n",
        "        output = self.out(x)\n",
        "        return output, x"
      ]
    },
    {
      "cell_type": "markdown",
      "metadata": {
        "id": "u60sG6TflPgH"
      },
      "source": [
        "## Training"
      ]
    },
    {
      "cell_type": "code",
      "execution_count": 17,
      "metadata": {
        "colab": {
          "base_uri": "https://localhost:8080/"
        },
        "id": "DjpYZaAKoe2u",
        "outputId": "ad912a5b-3d35-486e-bef3-af6512f4602d"
      },
      "outputs": [
        {
          "output_type": "stream",
          "name": "stderr",
          "text": [
            "100%|██████████| 600/600 [00:28<00:00, 20.90it/s]"
          ]
        },
        {
          "output_type": "stream",
          "name": "stdout",
          "text": [
            "Epoch [1/10], Loss: 51.4320\n"
          ]
        },
        {
          "output_type": "stream",
          "name": "stderr",
          "text": [
            "\n",
            "100%|██████████| 600/600 [00:20<00:00, 28.90it/s]"
          ]
        },
        {
          "output_type": "stream",
          "name": "stdout",
          "text": [
            "Epoch [2/10], Loss: 2.3018\n"
          ]
        },
        {
          "output_type": "stream",
          "name": "stderr",
          "text": [
            "\n",
            "100%|██████████| 600/600 [00:21<00:00, 27.69it/s]"
          ]
        },
        {
          "output_type": "stream",
          "name": "stdout",
          "text": [
            "Epoch [3/10], Loss: 2.3019\n"
          ]
        },
        {
          "output_type": "stream",
          "name": "stderr",
          "text": [
            "\n",
            "100%|██████████| 600/600 [00:21<00:00, 27.52it/s]"
          ]
        },
        {
          "output_type": "stream",
          "name": "stdout",
          "text": [
            "Epoch [4/10], Loss: 2.3019\n"
          ]
        },
        {
          "output_type": "stream",
          "name": "stderr",
          "text": [
            "\n",
            "100%|██████████| 600/600 [00:20<00:00, 29.01it/s]"
          ]
        },
        {
          "output_type": "stream",
          "name": "stdout",
          "text": [
            "Epoch [5/10], Loss: 2.3018\n"
          ]
        },
        {
          "output_type": "stream",
          "name": "stderr",
          "text": [
            "\n",
            "100%|██████████| 600/600 [00:21<00:00, 27.73it/s]"
          ]
        },
        {
          "output_type": "stream",
          "name": "stdout",
          "text": [
            "Epoch [6/10], Loss: 2.3019\n"
          ]
        },
        {
          "output_type": "stream",
          "name": "stderr",
          "text": [
            "\n",
            "100%|██████████| 600/600 [00:21<00:00, 28.03it/s]"
          ]
        },
        {
          "output_type": "stream",
          "name": "stdout",
          "text": [
            "Epoch [7/10], Loss: 2.3020\n"
          ]
        },
        {
          "output_type": "stream",
          "name": "stderr",
          "text": [
            "\n",
            "100%|██████████| 600/600 [00:20<00:00, 29.26it/s]"
          ]
        },
        {
          "output_type": "stream",
          "name": "stdout",
          "text": [
            "Epoch [8/10], Loss: 2.3019\n"
          ]
        },
        {
          "output_type": "stream",
          "name": "stderr",
          "text": [
            "\n",
            "100%|██████████| 600/600 [00:21<00:00, 27.68it/s]"
          ]
        },
        {
          "output_type": "stream",
          "name": "stdout",
          "text": [
            "Epoch [9/10], Loss: 2.3021\n"
          ]
        },
        {
          "output_type": "stream",
          "name": "stderr",
          "text": [
            "\n",
            "100%|██████████| 600/600 [00:21<00:00, 27.65it/s]"
          ]
        },
        {
          "output_type": "stream",
          "name": "stdout",
          "text": [
            "Epoch [10/10], Loss: 2.3019\n",
            "Training time: 221\n"
          ]
        },
        {
          "output_type": "stream",
          "name": "stderr",
          "text": [
            "\n"
          ]
        }
      ],
      "source": [
        "cnn_frac = MNISTCNN_frac()\n",
        "loss_func = nn.CrossEntropyLoss()\n",
        "optimizer = optim.Adam(cnn_frac.parameters(), lr = 0.01)   \n",
        "\n",
        "start = datetime.datetime.now()\n",
        "train(cnn_frac, optimizer, loss_func, loaders, num_epochs=10)\n",
        "end = datetime.datetime.now()\n",
        "diff = (end - start)\n",
        "print(\"Training time:\", int(diff.total_seconds()))"
      ]
    },
    {
      "cell_type": "markdown",
      "metadata": {
        "id": "qdfMpVAhlSO0"
      },
      "source": [
        "## Testing"
      ]
    },
    {
      "cell_type": "code",
      "execution_count": 18,
      "metadata": {
        "colab": {
          "base_uri": "https://localhost:8080/"
        },
        "id": "rK5gyes3dQDp",
        "outputId": "16d2ddc3-0d55-4ce9-a7f2-363dabad9fd5"
      },
      "outputs": [
        {
          "output_type": "stream",
          "name": "stdout",
          "text": [
            "Precision on the 10000 test images: 0.0129\n",
            "Recall on the 10000 test images: 0.1135\n",
            "F1 score on the 10000 test images: 0.0231\n"
          ]
        },
        {
          "output_type": "stream",
          "name": "stderr",
          "text": [
            "/usr/local/lib/python3.10/dist-packages/sklearn/metrics/_classification.py:1344: UndefinedMetricWarning: Precision is ill-defined and being set to 0.0 in labels with no predicted samples. Use `zero_division` parameter to control this behavior.\n",
            "  _warn_prf(average, modifier, msg_start, len(result))\n"
          ]
        }
      ],
      "source": [
        "test(cnn_frac, loaders)"
      ]
    },
    {
      "cell_type": "markdown",
      "metadata": {
        "id": "Ky1PsVQhlTeK"
      },
      "source": [
        "## Visualization"
      ]
    },
    {
      "cell_type": "code",
      "execution_count": 19,
      "metadata": {
        "colab": {
          "base_uri": "https://localhost:8080/",
          "height": 54
        },
        "id": "Lup9fOg5U3oo",
        "outputId": "b1eb62b9-4b4a-495e-f5fb-2763255c3f9c"
      },
      "outputs": [
        {
          "output_type": "display_data",
          "data": {
            "text/plain": [
              "<Figure size 640x480 with 2 Axes>"
            ],
            "image/png": "[encoded data removed]"
          },
          "metadata": {}
        }
      ],
      "source": [
        "frac_conv_layer = FractionalConv2d(\n",
        "                in_channels=1,              \n",
        "                out_channels=1,            \n",
        "                kernel_size=5,       \n",
        "                stride=1,                   \n",
        "                padding=2,                  \n",
        "            )\n",
        "visualize_conv(frac_conv_layer)"
      ]
    },
    {
      "cell_type": "markdown",
      "metadata": {
        "id": "dt6-INgamdDv"
      },
      "source": [
        "# CNN with pruning"
      ]
    },
    {
      "cell_type": "markdown",
      "metadata": {
        "id": "6tYl65sa2m7M"
      },
      "source": [
        "## Model"
      ]
    },
    {
      "cell_type": "code",
      "execution_count": 20,
      "metadata": {
        "id": "7jZbBZ5dm8Bj"
      },
      "outputs": [],
      "source": [
        "class PrunedConv2d(nn.Module):\n",
        "    def __init__(self, in_channels, out_channels, kernel_size, stride=1, padding=0, bias=True, sparsity=0.5):\n",
        "        super(PrunedConv2d, self).__init__()\n",
        "        self.conv = nn.Conv2d(in_channels, out_channels, kernel_size, stride, padding, bias=bias)\n",
        "        self.sparsity = sparsity\n",
        "\n",
        "        self.prune()\n",
        "\n",
        "    def forward(self, x):\n",
        "        return self.conv(x)\n",
        "\n",
        "    def prune(self):\n",
        "        prune.random_unstructured(self.conv, name=\"weight\", amount=0.3)\n",
        "\n",
        "    def get_sparsity(self):\n",
        "        return self.sparsity\n",
        "\n",
        "    def set_sparsity(self, sparsity):\n",
        "        self.sparsity = sparsity\n",
        "        self.prune()"
      ]
    },
    {
      "cell_type": "code",
      "execution_count": 21,
      "metadata": {
        "id": "da17SG5bmb5h"
      },
      "outputs": [],
      "source": [
        "class MNISTCNN_pruned(nn.Module):\n",
        "    def __init__(self):\n",
        "        super(MNISTCNN_pruned, self).__init__()\n",
        "        self.conv1 = nn.Sequential(         \n",
        "            nn.Conv2d(\n",
        "                in_channels=1,              \n",
        "                out_channels=16,            \n",
        "                kernel_size=5,          \n",
        "                stride=1,                   \n",
        "                padding=2,                  \n",
        "            ),                              \n",
        "            nn.ReLU(),                      \n",
        "            nn.MaxPool2d(kernel_size=2),    \n",
        "        )\n",
        "        self.conv2 = nn.Sequential(\n",
        "            PrunedConv2d(\n",
        "                in_channels=16,              \n",
        "                out_channels=32,            \n",
        "                kernel_size=5,             \n",
        "                stride=1,                   \n",
        "                padding=2,                  \n",
        "            ),  \n",
        "            nn.ReLU(),                      \n",
        "            nn.MaxPool2d(2),                \n",
        "        )\n",
        "        # fully connected layer, output 10 classes\n",
        "        self.out = nn.Linear(32 * 7 * 7, 10)\n",
        "    def forward(self, x):\n",
        "        x = self.conv1(x)\n",
        "        x = self.conv2(x)\n",
        "        # flatten the output of conv2 to (batch_size, 32 * 7 * 7)\n",
        "        x = x.view(x.size(0), -1)       \n",
        "        output = self.out(x)\n",
        "        return output, x"
      ]
    },
    {
      "cell_type": "markdown",
      "metadata": {
        "id": "Jb45zDMGnmYu"
      },
      "source": [
        "## Training"
      ]
    },
    {
      "cell_type": "code",
      "execution_count": 22,
      "metadata": {
        "colab": {
          "base_uri": "https://localhost:8080/"
        },
        "id": "ufvuiB8WnoBC",
        "outputId": "94393184-c97f-43b5-f9a1-6e8ec374f2d2"
      },
      "outputs": [
        {
          "output_type": "stream",
          "name": "stderr",
          "text": [
            "100%|██████████| 600/600 [00:38<00:00, 15.53it/s]"
          ]
        },
        {
          "output_type": "stream",
          "name": "stdout",
          "text": [
            "Epoch [1/10], Loss: 0.1691\n"
          ]
        },
        {
          "output_type": "stream",
          "name": "stderr",
          "text": [
            "\n",
            "100%|██████████| 600/600 [00:38<00:00, 15.72it/s]"
          ]
        },
        {
          "output_type": "stream",
          "name": "stdout",
          "text": [
            "Epoch [2/10], Loss: 0.0665\n"
          ]
        },
        {
          "output_type": "stream",
          "name": "stderr",
          "text": [
            "\n",
            "100%|██████████| 600/600 [00:38<00:00, 15.69it/s]"
          ]
        },
        {
          "output_type": "stream",
          "name": "stdout",
          "text": [
            "Epoch [3/10], Loss: 0.0542\n"
          ]
        },
        {
          "output_type": "stream",
          "name": "stderr",
          "text": [
            "\n",
            "100%|██████████| 600/600 [00:37<00:00, 15.84it/s]"
          ]
        },
        {
          "output_type": "stream",
          "name": "stdout",
          "text": [
            "Epoch [4/10], Loss: 0.0493\n"
          ]
        },
        {
          "output_type": "stream",
          "name": "stderr",
          "text": [
            "\n",
            "100%|██████████| 600/600 [00:38<00:00, 15.64it/s]"
          ]
        },
        {
          "output_type": "stream",
          "name": "stdout",
          "text": [
            "Epoch [5/10], Loss: 0.0468\n"
          ]
        },
        {
          "output_type": "stream",
          "name": "stderr",
          "text": [
            "\n",
            "100%|██████████| 600/600 [00:38<00:00, 15.67it/s]"
          ]
        },
        {
          "output_type": "stream",
          "name": "stdout",
          "text": [
            "Epoch [6/10], Loss: 0.0438\n"
          ]
        },
        {
          "output_type": "stream",
          "name": "stderr",
          "text": [
            "\n",
            "100%|██████████| 600/600 [00:37<00:00, 15.81it/s]\n"
          ]
        },
        {
          "output_type": "stream",
          "name": "stdout",
          "text": [
            "Epoch [7/10], Loss: 0.0412\n"
          ]
        },
        {
          "output_type": "stream",
          "name": "stderr",
          "text": [
            "100%|██████████| 600/600 [00:38<00:00, 15.64it/s]"
          ]
        },
        {
          "output_type": "stream",
          "name": "stdout",
          "text": [
            "Epoch [8/10], Loss: 0.0437\n"
          ]
        },
        {
          "output_type": "stream",
          "name": "stderr",
          "text": [
            "\n",
            "100%|██████████| 600/600 [00:38<00:00, 15.73it/s]"
          ]
        },
        {
          "output_type": "stream",
          "name": "stdout",
          "text": [
            "Epoch [9/10], Loss: 0.0431\n"
          ]
        },
        {
          "output_type": "stream",
          "name": "stderr",
          "text": [
            "\n",
            "100%|██████████| 600/600 [00:38<00:00, 15.74it/s]"
          ]
        },
        {
          "output_type": "stream",
          "name": "stdout",
          "text": [
            "Epoch [10/10], Loss: 0.0441\n",
            "Training time: 382\n"
          ]
        },
        {
          "output_type": "stream",
          "name": "stderr",
          "text": [
            "\n"
          ]
        }
      ],
      "source": [
        "cnn_pruned = MNISTCNN_pruned()\n",
        "loss_func = nn.CrossEntropyLoss()   \n",
        "optimizer = optim.Adam(cnn_pruned.parameters(), lr = 0.01)   \n",
        "\n",
        "\n",
        "start = datetime.datetime.now()\n",
        "train(cnn_pruned, optimizer, loss_func, loaders, num_epochs=10)\n",
        "end = datetime.datetime.now()\n",
        "diff = (end - start)\n",
        "print(\"Training time:\", int(diff.total_seconds()))"
      ]
    },
    {
      "cell_type": "markdown",
      "metadata": {
        "id": "dM1U51senqn3"
      },
      "source": [
        "## Testing"
      ]
    },
    {
      "cell_type": "code",
      "execution_count": 23,
      "metadata": {
        "colab": {
          "base_uri": "https://localhost:8080/"
        },
        "id": "2keSOHtonsXN",
        "outputId": "11b67260-c00f-4151-c2b2-db5daedddac9"
      },
      "outputs": [
        {
          "output_type": "stream",
          "name": "stdout",
          "text": [
            "Precision on the 10000 test images: 0.9844\n",
            "Recall on the 10000 test images: 0.9842\n",
            "F1 score on the 10000 test images: 0.9842\n"
          ]
        }
      ],
      "source": [
        "test(cnn_pruned, loaders)"
      ]
    },
    {
      "cell_type": "markdown",
      "metadata": {
        "id": "DmU1UhhOnwj5"
      },
      "source": [
        "## Visualization"
      ]
    },
    {
      "cell_type": "code",
      "execution_count": 24,
      "metadata": {
        "colab": {
          "base_uri": "https://localhost:8080/",
          "height": 54
        },
        "id": "zPYlO1KEnyT1",
        "outputId": "9d2062b2-18bc-4ccd-91f9-9d2f17e49119"
      },
      "outputs": [
        {
          "output_type": "display_data",
          "data": {
            "text/plain": [
              "<Figure size 640x480 with 2 Axes>"
            ],
            "image/png": "[encoded data removed]"
          },
          "metadata": {}
        }
      ],
      "source": [
        "pruned_conv_layer = PrunedConv2d(\n",
        "                in_channels=1,              \n",
        "                out_channels=1,      \n",
        "                kernel_size=5,       \n",
        "                stride=1,                   \n",
        "                padding=2,                  \n",
        "            )\n",
        "visualize_conv(pruned_conv_layer)"
      ]
    },
    {
      "cell_type": "markdown",
      "metadata": {
        "id": "ExSUgVa9Xe4A"
      },
      "source": [
        "# CNN with Low-rank approximation"
      ]
    },
    {
      "cell_type": "markdown",
      "metadata": {
        "id": "O58yjjtF2ktw"
      },
      "source": [
        "## Model"
      ]
    },
    {
      "cell_type": "code",
      "execution_count": 25,
      "metadata": {
        "id": "dm3O2wJ4YRnc"
      },
      "outputs": [],
      "source": [
        "class LowRankConv2d(nn.Module):\n",
        "    def __init__(self, in_channels, out_channels, kernel_size, stride=1, padding=0, r=3, method='constant', decomposition='cur'):\n",
        "        super(LowRankConv2d, self).__init__()\n",
        "\n",
        "        self.in_channels = in_channels\n",
        "        self.out_channels = out_channels\n",
        "        self.kernel_size = kernel_size\n",
        "        self.stride = stride\n",
        "        self.padding = padding\n",
        "        self.r = r\n",
        "\n",
        "        self.conv = nn.Conv2d(\n",
        "                in_channels=self.in_channels,              \n",
        "                out_channels=self.out_channels,            \n",
        "                kernel_size=self.kernel_size,           \n",
        "                stride=self.stride,                   \n",
        "                padding=self.padding,                  \n",
        "            )\n",
        "        # print(self.conv.weight.shape)\n",
        "        \n",
        "        if decomposition == 'cur':\n",
        "            if method == 'constant':\n",
        "                c = 0.99\n",
        "            elif method == 'log':\n",
        "                c = np.log(self.conv.weight.shape[-1])\n",
        "            self.conv.weight.data = torch.from_numpy(self.cur_low_rank(self.conv.weight, c=c, r=r))\n",
        "        elif decomposition == 'svd':\n",
        "            self.conv.weight.data = torch.from_numpy(self.traditional_low_rank(self.conv.weight, r=r))\n",
        "\n",
        "        # print(self.conv.weight.shape)\n",
        "\n",
        "    def forward(self, x):\n",
        "        return self.conv(x)\n",
        "\n",
        "    def traditional_low_rank(self, A, r):\n",
        "        # A is a 4D weight matrix\n",
        "        # k is the target rank\n",
        "        A = A.detach().numpy()\n",
        "        \n",
        "        # Flatten the 4D weight matrix into a 2D matrix\n",
        "        n1, n2, n3, n4 = A.shape\n",
        "        A = A.reshape((n1*n2*n3, n4))\n",
        "\n",
        "        # Compute the SVD of A\n",
        "        U, s, Vt = svd(A, full_matrices=False)\n",
        "\n",
        "        # Truncate the SVD to the target rank\n",
        "        U = U[:, :r]\n",
        "        s = s[:r]\n",
        "        Vt = Vt[:r, :]\n",
        "\n",
        "        # Compute the low-rank approximation\n",
        "        A_approx = np.dot(U, np.dot(np.diag(s), Vt))\n",
        "\n",
        "        # Reshape the low-rank approximation to a 4D weight matrix\n",
        "        A_approx = A_approx.reshape((n1, n2, n3, n4))\n",
        "\n",
        "        return A_approx\n",
        "\n",
        "    def cur_low_rank(self, A, c, r):\n",
        "        # Flatten the 4D weight matrix into a 2D matrix\n",
        "        A = A.detach().numpy()\n",
        "        n1, n2, n3, n4 = A.shape\n",
        "        A_2d = A.reshape((n1*n2*n3, n4))\n",
        "        m, n = A_2d.shape\n",
        "\n",
        "        curr_r = np.linalg.matrix_rank(A_2d)\n",
        "        \n",
        "        # Computing C\n",
        "        def choose_col_by_prob(A):\n",
        "            U, s, Vt = svd(A, full_matrices=False)\n",
        "\n",
        "            leverage_scores = np.linalg.norm(Vt[:curr_r], axis=0) ** 2 / curr_r\n",
        "            column_probabilities = np.minimum(c, leverage_scores) / np.sum(np.minimum(c, leverage_scores))\n",
        "            selected_columns = np.random.choice(A.shape[1], curr_r, replace=False, p=column_probabilities)\n",
        "            \n",
        "            return A[:, selected_columns]\n",
        "\n",
        "        C = choose_col_by_prob(A_2d)\n",
        "        R = choose_col_by_prob(np.transpose(A_2d))\n",
        "        C_pinv = np.linalg.pinv(C)\n",
        "        R_pinv = np.linalg.pinv(R)\n",
        "\n",
        "        U = C_pinv @ A_2d @ R_pinv\n",
        "\n",
        "        # Truncate the CUR to the target rank\n",
        "        C = C[:, :r]\n",
        "        U = U[:r, :r]\n",
        "        R = R[:r, :]\n",
        "\n",
        "        A_approx = C @ U @ R\n",
        "\n",
        "        # Reshape the low-rank approximation to a 4D weight matrix\n",
        "        A_approx = A_approx.reshape((n1, n2, n3, n4))\n",
        "        return A_approx"
      ]
    },
    {
      "cell_type": "code",
      "execution_count": 26,
      "metadata": {
        "id": "UurAwvaiXdK2"
      },
      "outputs": [],
      "source": [
        "class MNISTCNN_lowrank(nn.Module):\n",
        "    def __init__(self, r=3, method='constant', decomposition='cur'):\n",
        "        super(MNISTCNN_lowrank, self).__init__()\n",
        "        self.conv1 = nn.Sequential(         \n",
        "            nn.Conv2d(\n",
        "                in_channels=1,              \n",
        "                out_channels=16,            \n",
        "                kernel_size=5,          \n",
        "                stride=1,                   \n",
        "                padding=2,                  \n",
        "            ),                              \n",
        "            nn.ReLU(),                      \n",
        "            nn.MaxPool2d(kernel_size=2),    \n",
        "        )\n",
        "        self.conv2 = nn.Sequential(\n",
        "            LowRankConv2d(\n",
        "                in_channels=16,              \n",
        "                out_channels=32,            \n",
        "                kernel_size=5,             \n",
        "                stride=1,                   \n",
        "                padding=2, \n",
        "                r=r,\n",
        "                method=method,\n",
        "                decomposition = decomposition                \n",
        "            ),  \n",
        "            nn.ReLU(),                      \n",
        "            nn.MaxPool2d(2),                \n",
        "        )\n",
        "        # fully connected layer, output 10 classes\n",
        "        self.out = nn.Linear(32 * 7 * 7, 10)\n",
        "    def forward(self, x):\n",
        "        x = self.conv1(x)\n",
        "        x = self.conv2(x)\n",
        "        # flatten the output of conv2 to (batch_size, 32 * 7 * 7)\n",
        "        x = x.view(x.size(0), -1)       \n",
        "        output = self.out(x)\n",
        "        return output, x"
      ]
    },
    {
      "cell_type": "markdown",
      "metadata": {
        "id": "4dFRBu_TleJQ"
      },
      "source": [
        "## Training & Testing"
      ]
    },
    {
      "cell_type": "markdown",
      "metadata": {
        "id": "cf4OD2aYHIFE"
      },
      "source": [
        "### SVD"
      ]
    },
    {
      "cell_type": "code",
      "execution_count": 27,
      "metadata": {
        "colab": {
          "base_uri": "https://localhost:8080/"
        },
        "id": "uORF3ZuJJQym",
        "outputId": "a5e24075-1a43-4de5-97b8-5bd654fcf24a"
      },
      "outputs": [
        {
          "output_type": "stream",
          "name": "stderr",
          "text": [
            "100%|██████████| 600/600 [00:37<00:00, 16.01it/s]"
          ]
        },
        {
          "output_type": "stream",
          "name": "stdout",
          "text": [
            "Epoch [1/10], Loss: 0.1422\n"
          ]
        },
        {
          "output_type": "stream",
          "name": "stderr",
          "text": [
            "\n",
            "100%|██████████| 600/600 [00:37<00:00, 15.90it/s]"
          ]
        },
        {
          "output_type": "stream",
          "name": "stdout",
          "text": [
            "Epoch [2/10], Loss: 0.0566\n"
          ]
        },
        {
          "output_type": "stream",
          "name": "stderr",
          "text": [
            "\n",
            "100%|██████████| 600/600 [00:37<00:00, 15.83it/s]"
          ]
        },
        {
          "output_type": "stream",
          "name": "stdout",
          "text": [
            "Epoch [3/10], Loss: 0.0453\n"
          ]
        },
        {
          "output_type": "stream",
          "name": "stderr",
          "text": [
            "\n",
            "100%|██████████| 600/600 [00:38<00:00, 15.76it/s]"
          ]
        },
        {
          "output_type": "stream",
          "name": "stdout",
          "text": [
            "Epoch [4/10], Loss: 0.0447\n"
          ]
        },
        {
          "output_type": "stream",
          "name": "stderr",
          "text": [
            "\n",
            "100%|██████████| 600/600 [00:37<00:00, 15.87it/s]"
          ]
        },
        {
          "output_type": "stream",
          "name": "stdout",
          "text": [
            "Epoch [5/10], Loss: 0.0424\n"
          ]
        },
        {
          "output_type": "stream",
          "name": "stderr",
          "text": [
            "\n",
            "100%|██████████| 600/600 [00:37<00:00, 15.83it/s]"
          ]
        },
        {
          "output_type": "stream",
          "name": "stdout",
          "text": [
            "Epoch [6/10], Loss: 0.0400\n"
          ]
        },
        {
          "output_type": "stream",
          "name": "stderr",
          "text": [
            "\n",
            "100%|██████████| 600/600 [00:37<00:00, 16.20it/s]"
          ]
        },
        {
          "output_type": "stream",
          "name": "stdout",
          "text": [
            "Epoch [7/10], Loss: 0.0341\n"
          ]
        },
        {
          "output_type": "stream",
          "name": "stderr",
          "text": [
            "\n",
            "100%|██████████| 600/600 [00:36<00:00, 16.27it/s]"
          ]
        },
        {
          "output_type": "stream",
          "name": "stdout",
          "text": [
            "Epoch [8/10], Loss: 0.0408\n"
          ]
        },
        {
          "output_type": "stream",
          "name": "stderr",
          "text": [
            "\n",
            "100%|██████████| 600/600 [00:37<00:00, 15.92it/s]"
          ]
        },
        {
          "output_type": "stream",
          "name": "stdout",
          "text": [
            "Epoch [9/10], Loss: 0.0370\n"
          ]
        },
        {
          "output_type": "stream",
          "name": "stderr",
          "text": [
            "\n",
            "100%|██████████| 600/600 [00:37<00:00, 15.89it/s]"
          ]
        },
        {
          "output_type": "stream",
          "name": "stdout",
          "text": [
            "Epoch [10/10], Loss: 0.0370\n",
            "Training time: 376\n"
          ]
        },
        {
          "output_type": "stream",
          "name": "stderr",
          "text": [
            "\n"
          ]
        }
      ],
      "source": [
        "cnn_lowrank_svd_0 = MNISTCNN_lowrank(r=5, decomposition='svd')\n",
        "loss_func = nn.CrossEntropyLoss()   \n",
        "optimizer = optim.Adam(cnn_lowrank_svd_0.parameters(), lr = 0.01)   \n",
        "\n",
        "\n",
        "start = datetime.datetime.now()\n",
        "train(cnn_lowrank_svd_0, optimizer, loss_func, loaders, num_epochs=10)\n",
        "end = datetime.datetime.now()\n",
        "diff = (end - start)\n",
        "print(\"Training time:\", int(diff.total_seconds()))"
      ]
    },
    {
      "cell_type": "code",
      "execution_count": 28,
      "metadata": {
        "id": "_1Rxt2xkXphe",
        "colab": {
          "base_uri": "https://localhost:8080/"
        },
        "outputId": "86e06250-cc42-4152-adbf-eecdc32d19b5"
      },
      "outputs": [
        {
          "output_type": "stream",
          "name": "stderr",
          "text": [
            "100%|██████████| 600/600 [00:37<00:00, 15.92it/s]"
          ]
        },
        {
          "output_type": "stream",
          "name": "stdout",
          "text": [
            "Epoch [1/10], Loss: 0.1897\n"
          ]
        },
        {
          "output_type": "stream",
          "name": "stderr",
          "text": [
            "\n",
            "100%|██████████| 600/600 [00:38<00:00, 15.78it/s]"
          ]
        },
        {
          "output_type": "stream",
          "name": "stdout",
          "text": [
            "Epoch [2/10], Loss: 0.0726\n"
          ]
        },
        {
          "output_type": "stream",
          "name": "stderr",
          "text": [
            "\n",
            "100%|██████████| 600/600 [00:37<00:00, 15.80it/s]"
          ]
        },
        {
          "output_type": "stream",
          "name": "stdout",
          "text": [
            "Epoch [3/10], Loss: 0.0612\n"
          ]
        },
        {
          "output_type": "stream",
          "name": "stderr",
          "text": [
            "\n",
            "100%|██████████| 600/600 [00:37<00:00, 15.85it/s]"
          ]
        },
        {
          "output_type": "stream",
          "name": "stdout",
          "text": [
            "Epoch [4/10], Loss: 0.0571\n"
          ]
        },
        {
          "output_type": "stream",
          "name": "stderr",
          "text": [
            "\n",
            "100%|██████████| 600/600 [00:37<00:00, 15.98it/s]"
          ]
        },
        {
          "output_type": "stream",
          "name": "stdout",
          "text": [
            "Epoch [5/10], Loss: 0.0542\n"
          ]
        },
        {
          "output_type": "stream",
          "name": "stderr",
          "text": [
            "\n",
            "100%|██████████| 600/600 [00:38<00:00, 15.77it/s]"
          ]
        },
        {
          "output_type": "stream",
          "name": "stdout",
          "text": [
            "Epoch [6/10], Loss: 0.0496\n"
          ]
        },
        {
          "output_type": "stream",
          "name": "stderr",
          "text": [
            "\n",
            "100%|██████████| 600/600 [00:37<00:00, 15.85it/s]"
          ]
        },
        {
          "output_type": "stream",
          "name": "stdout",
          "text": [
            "Epoch [7/10], Loss: 0.0521\n"
          ]
        },
        {
          "output_type": "stream",
          "name": "stderr",
          "text": [
            "\n",
            "100%|██████████| 600/600 [00:37<00:00, 15.79it/s]"
          ]
        },
        {
          "output_type": "stream",
          "name": "stdout",
          "text": [
            "Epoch [8/10], Loss: 0.0497\n"
          ]
        },
        {
          "output_type": "stream",
          "name": "stderr",
          "text": [
            "\n",
            "100%|██████████| 600/600 [00:38<00:00, 15.79it/s]"
          ]
        },
        {
          "output_type": "stream",
          "name": "stdout",
          "text": [
            "Epoch [9/10], Loss: 0.0483\n"
          ]
        },
        {
          "output_type": "stream",
          "name": "stderr",
          "text": [
            "\n",
            "100%|██████████| 600/600 [00:37<00:00, 15.84it/s]"
          ]
        },
        {
          "output_type": "stream",
          "name": "stdout",
          "text": [
            "Epoch [10/10], Loss: 0.0553\n",
            "Training time: 379\n"
          ]
        },
        {
          "output_type": "stream",
          "name": "stderr",
          "text": [
            "\n"
          ]
        }
      ],
      "source": [
        "cnn_lowrank_svd_1 = MNISTCNN_lowrank(r=4, decomposition='svd')\n",
        "loss_func = nn.CrossEntropyLoss()   \n",
        "optimizer = optim.Adam(cnn_lowrank_svd_1.parameters(), lr = 0.01)   \n",
        "\n",
        "\n",
        "start = datetime.datetime.now()\n",
        "train(cnn_lowrank_svd_1, optimizer, loss_func, loaders, num_epochs=10)\n",
        "end = datetime.datetime.now()\n",
        "diff = (end - start)\n",
        "print(\"Training time:\", int(diff.total_seconds()))"
      ]
    },
    {
      "cell_type": "code",
      "execution_count": 29,
      "metadata": {
        "id": "79yHn_cBREY_",
        "colab": {
          "base_uri": "https://localhost:8080/"
        },
        "outputId": "3cb8c621-2cd4-4ef3-af4e-f0aed82df83b"
      },
      "outputs": [
        {
          "output_type": "stream",
          "name": "stderr",
          "text": [
            "100%|██████████| 600/600 [00:38<00:00, 15.61it/s]"
          ]
        },
        {
          "output_type": "stream",
          "name": "stdout",
          "text": [
            "Epoch [1/10], Loss: 0.1404\n"
          ]
        },
        {
          "output_type": "stream",
          "name": "stderr",
          "text": [
            "\n",
            "100%|██████████| 600/600 [00:38<00:00, 15.67it/s]"
          ]
        },
        {
          "output_type": "stream",
          "name": "stdout",
          "text": [
            "Epoch [2/10], Loss: 0.0571\n"
          ]
        },
        {
          "output_type": "stream",
          "name": "stderr",
          "text": [
            "\n",
            "100%|██████████| 600/600 [00:37<00:00, 15.95it/s]"
          ]
        },
        {
          "output_type": "stream",
          "name": "stdout",
          "text": [
            "Epoch [3/10], Loss: 0.0470\n"
          ]
        },
        {
          "output_type": "stream",
          "name": "stderr",
          "text": [
            "\n",
            "100%|██████████| 600/600 [00:37<00:00, 16.02it/s]"
          ]
        },
        {
          "output_type": "stream",
          "name": "stdout",
          "text": [
            "Epoch [4/10], Loss: 0.0419\n"
          ]
        },
        {
          "output_type": "stream",
          "name": "stderr",
          "text": [
            "\n",
            "100%|██████████| 600/600 [00:36<00:00, 16.27it/s]"
          ]
        },
        {
          "output_type": "stream",
          "name": "stdout",
          "text": [
            "Epoch [5/10], Loss: 0.0419\n"
          ]
        },
        {
          "output_type": "stream",
          "name": "stderr",
          "text": [
            "\n",
            "100%|██████████| 600/600 [00:36<00:00, 16.34it/s]"
          ]
        },
        {
          "output_type": "stream",
          "name": "stdout",
          "text": [
            "Epoch [6/10], Loss: 0.0419\n"
          ]
        },
        {
          "output_type": "stream",
          "name": "stderr",
          "text": [
            "\n",
            "100%|██████████| 600/600 [00:37<00:00, 16.15it/s]"
          ]
        },
        {
          "output_type": "stream",
          "name": "stdout",
          "text": [
            "Epoch [7/10], Loss: 0.0366\n"
          ]
        },
        {
          "output_type": "stream",
          "name": "stderr",
          "text": [
            "\n",
            "100%|██████████| 600/600 [00:37<00:00, 16.13it/s]"
          ]
        },
        {
          "output_type": "stream",
          "name": "stdout",
          "text": [
            "Epoch [8/10], Loss: 0.0382\n"
          ]
        },
        {
          "output_type": "stream",
          "name": "stderr",
          "text": [
            "\n",
            "100%|██████████| 600/600 [00:36<00:00, 16.23it/s]"
          ]
        },
        {
          "output_type": "stream",
          "name": "stdout",
          "text": [
            "Epoch [9/10], Loss: 0.0370\n"
          ]
        },
        {
          "output_type": "stream",
          "name": "stderr",
          "text": [
            "\n",
            "100%|██████████| 600/600 [00:37<00:00, 16.11it/s]"
          ]
        },
        {
          "output_type": "stream",
          "name": "stdout",
          "text": [
            "Epoch [10/10], Loss: 0.0363\n",
            "Training time: 374\n"
          ]
        },
        {
          "output_type": "stream",
          "name": "stderr",
          "text": [
            "\n"
          ]
        }
      ],
      "source": [
        "cnn_lowrank_svd_2 = MNISTCNN_lowrank(r=3, decomposition='svd')\n",
        "loss_func = nn.CrossEntropyLoss()   \n",
        "optimizer = optim.Adam(cnn_lowrank_svd_2.parameters(), lr = 0.01)   \n",
        "\n",
        "\n",
        "start = datetime.datetime.now()\n",
        "train(cnn_lowrank_svd_2, optimizer, loss_func, loaders, num_epochs=10)\n",
        "end = datetime.datetime.now()\n",
        "diff = (end - start)\n",
        "print(\"Training time:\", int(diff.total_seconds()))"
      ]
    },
    {
      "cell_type": "code",
      "execution_count": 30,
      "metadata": {
        "id": "r8i3HY1kRFAr",
        "colab": {
          "base_uri": "https://localhost:8080/"
        },
        "outputId": "96503d0c-fc2d-4634-f2e1-1e891ecfd15e"
      },
      "outputs": [
        {
          "output_type": "stream",
          "name": "stderr",
          "text": [
            "100%|██████████| 600/600 [00:37<00:00, 16.04it/s]"
          ]
        },
        {
          "output_type": "stream",
          "name": "stdout",
          "text": [
            "Epoch [1/10], Loss: 0.1585\n"
          ]
        },
        {
          "output_type": "stream",
          "name": "stderr",
          "text": [
            "\n",
            "100%|██████████| 600/600 [00:37<00:00, 15.99it/s]"
          ]
        },
        {
          "output_type": "stream",
          "name": "stdout",
          "text": [
            "Epoch [2/10], Loss: 0.0622\n"
          ]
        },
        {
          "output_type": "stream",
          "name": "stderr",
          "text": [
            "\n",
            "100%|██████████| 600/600 [00:37<00:00, 16.06it/s]"
          ]
        },
        {
          "output_type": "stream",
          "name": "stdout",
          "text": [
            "Epoch [3/10], Loss: 0.0511\n"
          ]
        },
        {
          "output_type": "stream",
          "name": "stderr",
          "text": [
            "\n",
            "100%|██████████| 600/600 [00:37<00:00, 15.93it/s]"
          ]
        },
        {
          "output_type": "stream",
          "name": "stdout",
          "text": [
            "Epoch [4/10], Loss: 0.0461\n"
          ]
        },
        {
          "output_type": "stream",
          "name": "stderr",
          "text": [
            "\n",
            "100%|██████████| 600/600 [00:37<00:00, 16.19it/s]"
          ]
        },
        {
          "output_type": "stream",
          "name": "stdout",
          "text": [
            "Epoch [5/10], Loss: 0.0456\n"
          ]
        },
        {
          "output_type": "stream",
          "name": "stderr",
          "text": [
            "\n",
            "100%|██████████| 600/600 [00:36<00:00, 16.24it/s]"
          ]
        },
        {
          "output_type": "stream",
          "name": "stdout",
          "text": [
            "Epoch [6/10], Loss: 0.0418\n"
          ]
        },
        {
          "output_type": "stream",
          "name": "stderr",
          "text": [
            "\n",
            "100%|██████████| 600/600 [00:36<00:00, 16.32it/s]"
          ]
        },
        {
          "output_type": "stream",
          "name": "stdout",
          "text": [
            "Epoch [7/10], Loss: 0.0408\n"
          ]
        },
        {
          "output_type": "stream",
          "name": "stderr",
          "text": [
            "\n",
            "100%|██████████| 600/600 [00:37<00:00, 15.98it/s]"
          ]
        },
        {
          "output_type": "stream",
          "name": "stdout",
          "text": [
            "Epoch [8/10], Loss: 0.0394\n"
          ]
        },
        {
          "output_type": "stream",
          "name": "stderr",
          "text": [
            "\n",
            "100%|██████████| 600/600 [00:36<00:00, 16.25it/s]"
          ]
        },
        {
          "output_type": "stream",
          "name": "stdout",
          "text": [
            "Epoch [9/10], Loss: 0.0386\n"
          ]
        },
        {
          "output_type": "stream",
          "name": "stderr",
          "text": [
            "\n",
            "100%|██████████| 600/600 [00:37<00:00, 16.00it/s]"
          ]
        },
        {
          "output_type": "stream",
          "name": "stdout",
          "text": [
            "Epoch [10/10], Loss: 0.0413\n",
            "Training time: 373\n"
          ]
        },
        {
          "output_type": "stream",
          "name": "stderr",
          "text": [
            "\n"
          ]
        }
      ],
      "source": [
        "cnn_lowrank_svd_3 = MNISTCNN_lowrank(r=2, decomposition='svd')\n",
        "loss_func = nn.CrossEntropyLoss()   \n",
        "optimizer = optim.Adam(cnn_lowrank_svd_3.parameters(), lr = 0.01)   \n",
        "\n",
        "\n",
        "start = datetime.datetime.now()\n",
        "train(cnn_lowrank_svd_3, optimizer, loss_func, loaders, num_epochs=10)\n",
        "end = datetime.datetime.now()\n",
        "diff = (end - start)\n",
        "print(\"Training time:\", int(diff.total_seconds()))"
      ]
    },
    {
      "cell_type": "code",
      "execution_count": 31,
      "metadata": {
        "id": "zYFn7auiKEU_",
        "colab": {
          "base_uri": "https://localhost:8080/"
        },
        "outputId": "dd34022e-04b0-41b7-9306-380f83bfe91d"
      },
      "outputs": [
        {
          "output_type": "stream",
          "name": "stdout",
          "text": [
            "Precision on the 10000 test images: 0.9831\n",
            "Recall on the 10000 test images: 0.9829\n",
            "F1 score on the 10000 test images: 0.9829\n"
          ]
        }
      ],
      "source": [
        "test(cnn_lowrank_svd_0, loaders)"
      ]
    },
    {
      "cell_type": "code",
      "execution_count": 32,
      "metadata": {
        "id": "3X9eZCvcJcni",
        "colab": {
          "base_uri": "https://localhost:8080/"
        },
        "outputId": "ed9a9d6b-7987-4414-bafa-2a55a995d673"
      },
      "outputs": [
        {
          "output_type": "stream",
          "name": "stdout",
          "text": [
            "Precision on the 10000 test images: 0.9789\n",
            "Recall on the 10000 test images: 0.9787\n",
            "F1 score on the 10000 test images: 0.9787\n"
          ]
        }
      ],
      "source": [
        "test(cnn_lowrank_svd_1, loaders)"
      ]
    },
    {
      "cell_type": "code",
      "execution_count": 33,
      "metadata": {
        "id": "4jQ3cg2oRJcH",
        "colab": {
          "base_uri": "https://localhost:8080/"
        },
        "outputId": "de86e476-e78d-4cc1-8408-7adf3dde4876"
      },
      "outputs": [
        {
          "output_type": "stream",
          "name": "stdout",
          "text": [
            "Precision on the 10000 test images: 0.9856\n",
            "Recall on the 10000 test images: 0.9854\n",
            "F1 score on the 10000 test images: 0.9854\n"
          ]
        }
      ],
      "source": [
        "test(cnn_lowrank_svd_2, loaders)"
      ]
    },
    {
      "cell_type": "code",
      "execution_count": 34,
      "metadata": {
        "id": "LCMlQ00ORJuE",
        "colab": {
          "base_uri": "https://localhost:8080/"
        },
        "outputId": "1a2e2ea9-d6b7-401a-ba32-473bfc1a2ec8"
      },
      "outputs": [
        {
          "output_type": "stream",
          "name": "stdout",
          "text": [
            "Precision on the 10000 test images: 0.9846\n",
            "Recall on the 10000 test images: 0.9845\n",
            "F1 score on the 10000 test images: 0.9845\n"
          ]
        }
      ],
      "source": [
        "test(cnn_lowrank_svd_3, loaders)"
      ]
    },
    {
      "cell_type": "markdown",
      "metadata": {
        "id": "kErdaFIzwol9"
      },
      "source": [
        "### CUR c = ln(n)"
      ]
    },
    {
      "cell_type": "code",
      "execution_count": 35,
      "metadata": {
        "id": "LqO_69XyJKSf",
        "colab": {
          "base_uri": "https://localhost:8080/"
        },
        "outputId": "c961bffd-20d1-479e-9cd4-501f192c6d01"
      },
      "outputs": [
        {
          "output_type": "stream",
          "name": "stderr",
          "text": [
            "100%|██████████| 600/600 [00:37<00:00, 15.91it/s]"
          ]
        },
        {
          "output_type": "stream",
          "name": "stdout",
          "text": [
            "Epoch [1/10], Loss: 0.1922\n"
          ]
        },
        {
          "output_type": "stream",
          "name": "stderr",
          "text": [
            "\n",
            "100%|██████████| 600/600 [00:37<00:00, 16.02it/s]"
          ]
        },
        {
          "output_type": "stream",
          "name": "stdout",
          "text": [
            "Epoch [2/10], Loss: 0.0704\n"
          ]
        },
        {
          "output_type": "stream",
          "name": "stderr",
          "text": [
            "\n",
            "100%|██████████| 600/600 [00:37<00:00, 16.01it/s]"
          ]
        },
        {
          "output_type": "stream",
          "name": "stdout",
          "text": [
            "Epoch [3/10], Loss: 0.0590\n"
          ]
        },
        {
          "output_type": "stream",
          "name": "stderr",
          "text": [
            "\n",
            "100%|██████████| 600/600 [00:37<00:00, 16.18it/s]"
          ]
        },
        {
          "output_type": "stream",
          "name": "stdout",
          "text": [
            "Epoch [4/10], Loss: 0.0544\n"
          ]
        },
        {
          "output_type": "stream",
          "name": "stderr",
          "text": [
            "\n",
            "100%|██████████| 600/600 [00:37<00:00, 16.00it/s]"
          ]
        },
        {
          "output_type": "stream",
          "name": "stdout",
          "text": [
            "Epoch [5/10], Loss: 0.0519\n"
          ]
        },
        {
          "output_type": "stream",
          "name": "stderr",
          "text": [
            "\n",
            "100%|██████████| 600/600 [00:37<00:00, 15.97it/s]"
          ]
        },
        {
          "output_type": "stream",
          "name": "stdout",
          "text": [
            "Epoch [6/10], Loss: 0.0486\n"
          ]
        },
        {
          "output_type": "stream",
          "name": "stderr",
          "text": [
            "\n",
            "100%|██████████| 600/600 [00:36<00:00, 16.47it/s]"
          ]
        },
        {
          "output_type": "stream",
          "name": "stdout",
          "text": [
            "Epoch [7/10], Loss: 0.0482\n"
          ]
        },
        {
          "output_type": "stream",
          "name": "stderr",
          "text": [
            "\n",
            "100%|██████████| 600/600 [00:36<00:00, 16.30it/s]"
          ]
        },
        {
          "output_type": "stream",
          "name": "stdout",
          "text": [
            "Epoch [8/10], Loss: 0.0442\n"
          ]
        },
        {
          "output_type": "stream",
          "name": "stderr",
          "text": [
            "\n",
            "100%|██████████| 600/600 [00:37<00:00, 16.07it/s]"
          ]
        },
        {
          "output_type": "stream",
          "name": "stdout",
          "text": [
            "Epoch [9/10], Loss: 0.0450\n"
          ]
        },
        {
          "output_type": "stream",
          "name": "stderr",
          "text": [
            "\n",
            "100%|██████████| 600/600 [00:37<00:00, 16.16it/s]"
          ]
        },
        {
          "output_type": "stream",
          "name": "stdout",
          "text": [
            "Epoch [10/10], Loss: 0.0451\n",
            "Training time: 373\n"
          ]
        },
        {
          "output_type": "stream",
          "name": "stderr",
          "text": [
            "\n"
          ]
        }
      ],
      "source": [
        "cnn_lowrank_cur_log_0 = MNISTCNN_lowrank(r=5, method='log', decomposition='cur')\n",
        "loss_func = nn.CrossEntropyLoss()   \n",
        "optimizer = optim.Adam(cnn_lowrank_cur_log_0.parameters(), lr = 0.01)   \n",
        "\n",
        "\n",
        "start = datetime.datetime.now()\n",
        "train(cnn_lowrank_cur_log_0, optimizer, loss_func, loaders, num_epochs=10)\n",
        "end = datetime.datetime.now()\n",
        "diff = (end - start)\n",
        "print(\"Training time:\", int(diff.total_seconds()))"
      ]
    },
    {
      "cell_type": "code",
      "execution_count": 36,
      "metadata": {
        "id": "JG58CSiTE7xX",
        "colab": {
          "base_uri": "https://localhost:8080/"
        },
        "outputId": "89c19b78-4e48-446f-b3bb-bf50b702c7e3"
      },
      "outputs": [
        {
          "output_type": "stream",
          "name": "stderr",
          "text": [
            "100%|██████████| 600/600 [00:37<00:00, 15.97it/s]"
          ]
        },
        {
          "output_type": "stream",
          "name": "stdout",
          "text": [
            "Epoch [1/10], Loss: 0.2402\n"
          ]
        },
        {
          "output_type": "stream",
          "name": "stderr",
          "text": [
            "\n",
            "100%|██████████| 600/600 [00:37<00:00, 16.21it/s]"
          ]
        },
        {
          "output_type": "stream",
          "name": "stdout",
          "text": [
            "Epoch [2/10], Loss: 0.0783\n"
          ]
        },
        {
          "output_type": "stream",
          "name": "stderr",
          "text": [
            "\n",
            "100%|██████████| 600/600 [00:37<00:00, 16.03it/s]\n"
          ]
        },
        {
          "output_type": "stream",
          "name": "stdout",
          "text": [
            "Epoch [3/10], Loss: 0.0650\n"
          ]
        },
        {
          "output_type": "stream",
          "name": "stderr",
          "text": [
            "100%|██████████| 600/600 [00:37<00:00, 16.11it/s]"
          ]
        },
        {
          "output_type": "stream",
          "name": "stdout",
          "text": [
            "Epoch [4/10], Loss: 0.0620\n"
          ]
        },
        {
          "output_type": "stream",
          "name": "stderr",
          "text": [
            "\n",
            "100%|██████████| 600/600 [00:37<00:00, 16.14it/s]"
          ]
        },
        {
          "output_type": "stream",
          "name": "stdout",
          "text": [
            "Epoch [5/10], Loss: 0.0571\n"
          ]
        },
        {
          "output_type": "stream",
          "name": "stderr",
          "text": [
            "\n",
            "100%|██████████| 600/600 [00:37<00:00, 16.11it/s]\n"
          ]
        },
        {
          "output_type": "stream",
          "name": "stdout",
          "text": [
            "Epoch [6/10], Loss: 0.0582\n"
          ]
        },
        {
          "output_type": "stream",
          "name": "stderr",
          "text": [
            "100%|██████████| 600/600 [00:36<00:00, 16.33it/s]"
          ]
        },
        {
          "output_type": "stream",
          "name": "stdout",
          "text": [
            "Epoch [7/10], Loss: 0.0559\n"
          ]
        },
        {
          "output_type": "stream",
          "name": "stderr",
          "text": [
            "\n",
            "100%|██████████| 600/600 [00:36<00:00, 16.39it/s]"
          ]
        },
        {
          "output_type": "stream",
          "name": "stdout",
          "text": [
            "Epoch [8/10], Loss: 0.0535\n"
          ]
        },
        {
          "output_type": "stream",
          "name": "stderr",
          "text": [
            "\n",
            "100%|██████████| 600/600 [00:37<00:00, 16.10it/s]"
          ]
        },
        {
          "output_type": "stream",
          "name": "stdout",
          "text": [
            "Epoch [9/10], Loss: 0.0556\n"
          ]
        },
        {
          "output_type": "stream",
          "name": "stderr",
          "text": [
            "\n",
            "100%|██████████| 600/600 [00:37<00:00, 16.16it/s]"
          ]
        },
        {
          "output_type": "stream",
          "name": "stdout",
          "text": [
            "Epoch [10/10], Loss: 0.0525\n",
            "Training time: 371\n"
          ]
        },
        {
          "output_type": "stream",
          "name": "stderr",
          "text": [
            "\n"
          ]
        }
      ],
      "source": [
        "cnn_lowrank_cur_log_1 = MNISTCNN_lowrank(r=4, method='log', decomposition='cur')\n",
        "loss_func = nn.CrossEntropyLoss()   \n",
        "optimizer = optim.Adam(cnn_lowrank_cur_log_1.parameters(), lr = 0.01)   \n",
        "\n",
        "\n",
        "start = datetime.datetime.now()\n",
        "train(cnn_lowrank_cur_log_1, optimizer, loss_func, loaders, num_epochs=10)\n",
        "end = datetime.datetime.now()\n",
        "diff = (end - start)\n",
        "print(\"Training time:\", int(diff.total_seconds()))"
      ]
    },
    {
      "cell_type": "code",
      "execution_count": 37,
      "metadata": {
        "id": "I5_1jpXFIjsY",
        "colab": {
          "base_uri": "https://localhost:8080/"
        },
        "outputId": "969ec210-cd12-470a-edeb-8030be2e4695"
      },
      "outputs": [
        {
          "output_type": "stream",
          "name": "stderr",
          "text": [
            "100%|██████████| 600/600 [00:36<00:00, 16.23it/s]"
          ]
        },
        {
          "output_type": "stream",
          "name": "stdout",
          "text": [
            "Epoch [1/10], Loss: 0.1663\n"
          ]
        },
        {
          "output_type": "stream",
          "name": "stderr",
          "text": [
            "\n",
            "100%|██████████| 600/600 [00:37<00:00, 16.07it/s]"
          ]
        },
        {
          "output_type": "stream",
          "name": "stdout",
          "text": [
            "Epoch [2/10], Loss: 0.0632\n"
          ]
        },
        {
          "output_type": "stream",
          "name": "stderr",
          "text": [
            "\n",
            "100%|██████████| 600/600 [00:36<00:00, 16.23it/s]"
          ]
        },
        {
          "output_type": "stream",
          "name": "stdout",
          "text": [
            "Epoch [3/10], Loss: 0.0555\n"
          ]
        },
        {
          "output_type": "stream",
          "name": "stderr",
          "text": [
            "\n",
            "100%|██████████| 600/600 [00:37<00:00, 16.10it/s]"
          ]
        },
        {
          "output_type": "stream",
          "name": "stdout",
          "text": [
            "Epoch [4/10], Loss: 0.0513\n"
          ]
        },
        {
          "output_type": "stream",
          "name": "stderr",
          "text": [
            "\n",
            "100%|██████████| 600/600 [00:37<00:00, 16.16it/s]"
          ]
        },
        {
          "output_type": "stream",
          "name": "stdout",
          "text": [
            "Epoch [5/10], Loss: 0.0460\n"
          ]
        },
        {
          "output_type": "stream",
          "name": "stderr",
          "text": [
            "\n",
            "100%|██████████| 600/600 [00:36<00:00, 16.28it/s]"
          ]
        },
        {
          "output_type": "stream",
          "name": "stdout",
          "text": [
            "Epoch [6/10], Loss: 0.0463\n"
          ]
        },
        {
          "output_type": "stream",
          "name": "stderr",
          "text": [
            "\n",
            "100%|██████████| 600/600 [00:35<00:00, 16.83it/s]"
          ]
        },
        {
          "output_type": "stream",
          "name": "stdout",
          "text": [
            "Epoch [7/10], Loss: 0.0417\n"
          ]
        },
        {
          "output_type": "stream",
          "name": "stderr",
          "text": [
            "\n",
            "100%|██████████| 600/600 [00:36<00:00, 16.28it/s]"
          ]
        },
        {
          "output_type": "stream",
          "name": "stdout",
          "text": [
            "Epoch [8/10], Loss: 0.0419\n"
          ]
        },
        {
          "output_type": "stream",
          "name": "stderr",
          "text": [
            "\n",
            "100%|██████████| 600/600 [00:37<00:00, 16.16it/s]"
          ]
        },
        {
          "output_type": "stream",
          "name": "stdout",
          "text": [
            "Epoch [9/10], Loss: 0.0433\n"
          ]
        },
        {
          "output_type": "stream",
          "name": "stderr",
          "text": [
            "\n",
            "100%|██████████| 600/600 [00:36<00:00, 16.22it/s]"
          ]
        },
        {
          "output_type": "stream",
          "name": "stdout",
          "text": [
            "Epoch [10/10], Loss: 0.0430\n",
            "Training time: 369\n"
          ]
        },
        {
          "output_type": "stream",
          "name": "stderr",
          "text": [
            "\n"
          ]
        }
      ],
      "source": [
        "cnn_lowrank_cur_log_2 = MNISTCNN_lowrank(r=3, method='log', decomposition='cur')\n",
        "loss_func = nn.CrossEntropyLoss()   \n",
        "optimizer = optim.Adam(cnn_lowrank_cur_log_2.parameters(), lr = 0.01)   \n",
        "\n",
        "\n",
        "start = datetime.datetime.now()\n",
        "train(cnn_lowrank_cur_log_2, optimizer, loss_func, loaders, num_epochs=10)\n",
        "end = datetime.datetime.now()\n",
        "diff = (end - start)\n",
        "print(\"Training time:\", int(diff.total_seconds()))"
      ]
    },
    {
      "cell_type": "code",
      "execution_count": 38,
      "metadata": {
        "id": "nQC0zAXOIlp2",
        "colab": {
          "base_uri": "https://localhost:8080/"
        },
        "outputId": "141529c5-1ce6-4df7-d433-dfaa8a12b776"
      },
      "outputs": [
        {
          "output_type": "stream",
          "name": "stderr",
          "text": [
            "100%|██████████| 600/600 [00:37<00:00, 16.13it/s]"
          ]
        },
        {
          "output_type": "stream",
          "name": "stdout",
          "text": [
            "Epoch [1/10], Loss: 0.1258\n"
          ]
        },
        {
          "output_type": "stream",
          "name": "stderr",
          "text": [
            "\n",
            "100%|██████████| 600/600 [00:37<00:00, 16.13it/s]"
          ]
        },
        {
          "output_type": "stream",
          "name": "stdout",
          "text": [
            "Epoch [2/10], Loss: 0.0525\n"
          ]
        },
        {
          "output_type": "stream",
          "name": "stderr",
          "text": [
            "\n",
            "100%|██████████| 600/600 [00:37<00:00, 16.14it/s]"
          ]
        },
        {
          "output_type": "stream",
          "name": "stdout",
          "text": [
            "Epoch [3/10], Loss: 0.0438\n"
          ]
        },
        {
          "output_type": "stream",
          "name": "stderr",
          "text": [
            "\n",
            "100%|██████████| 600/600 [00:36<00:00, 16.28it/s]"
          ]
        },
        {
          "output_type": "stream",
          "name": "stdout",
          "text": [
            "Epoch [4/10], Loss: 0.0396\n"
          ]
        },
        {
          "output_type": "stream",
          "name": "stderr",
          "text": [
            "\n",
            "100%|██████████| 600/600 [00:36<00:00, 16.37it/s]"
          ]
        },
        {
          "output_type": "stream",
          "name": "stdout",
          "text": [
            "Epoch [5/10], Loss: 0.0408\n"
          ]
        },
        {
          "output_type": "stream",
          "name": "stderr",
          "text": [
            "\n",
            "100%|██████████| 600/600 [00:36<00:00, 16.46it/s]"
          ]
        },
        {
          "output_type": "stream",
          "name": "stdout",
          "text": [
            "Epoch [6/10], Loss: 0.0377\n"
          ]
        },
        {
          "output_type": "stream",
          "name": "stderr",
          "text": [
            "\n",
            "100%|██████████| 600/600 [00:36<00:00, 16.26it/s]"
          ]
        },
        {
          "output_type": "stream",
          "name": "stdout",
          "text": [
            "Epoch [7/10], Loss: 0.0329\n"
          ]
        },
        {
          "output_type": "stream",
          "name": "stderr",
          "text": [
            "\n",
            "100%|██████████| 600/600 [00:37<00:00, 16.05it/s]"
          ]
        },
        {
          "output_type": "stream",
          "name": "stdout",
          "text": [
            "Epoch [8/10], Loss: 0.0375\n"
          ]
        },
        {
          "output_type": "stream",
          "name": "stderr",
          "text": [
            "\n",
            "100%|██████████| 600/600 [00:36<00:00, 16.43it/s]"
          ]
        },
        {
          "output_type": "stream",
          "name": "stdout",
          "text": [
            "Epoch [9/10], Loss: 0.0363\n"
          ]
        },
        {
          "output_type": "stream",
          "name": "stderr",
          "text": [
            "\n",
            "100%|██████████| 600/600 [00:35<00:00, 16.72it/s]"
          ]
        },
        {
          "output_type": "stream",
          "name": "stdout",
          "text": [
            "Epoch [10/10], Loss: 0.0362\n",
            "Training time: 368\n"
          ]
        },
        {
          "output_type": "stream",
          "name": "stderr",
          "text": [
            "\n"
          ]
        }
      ],
      "source": [
        "cnn_lowrank_cur_log_3 = MNISTCNN_lowrank(r=2, method='log', decomposition='cur')\n",
        "loss_func = nn.CrossEntropyLoss()   \n",
        "optimizer = optim.Adam(cnn_lowrank_cur_log_3.parameters(), lr = 0.01)   \n",
        "\n",
        "\n",
        "start = datetime.datetime.now()\n",
        "train(cnn_lowrank_cur_log_3, optimizer, loss_func, loaders, num_epochs=10)\n",
        "end = datetime.datetime.now()\n",
        "diff = (end - start)\n",
        "print(\"Training time:\", int(diff.total_seconds()))"
      ]
    },
    {
      "cell_type": "code",
      "execution_count": 39,
      "metadata": {
        "id": "NFY-jis4JIZH",
        "colab": {
          "base_uri": "https://localhost:8080/"
        },
        "outputId": "67b7f6aa-3b84-4c97-8000-291c728c42ef"
      },
      "outputs": [
        {
          "output_type": "stream",
          "name": "stdout",
          "text": [
            "Precision on the 10000 test images: 0.9848\n",
            "Recall on the 10000 test images: 0.9848\n",
            "F1 score on the 10000 test images: 0.9848\n"
          ]
        }
      ],
      "source": [
        "test(cnn_lowrank_cur_log_0, loaders)"
      ]
    },
    {
      "cell_type": "code",
      "execution_count": 40,
      "metadata": {
        "id": "dqr2sYxHwyvS",
        "colab": {
          "base_uri": "https://localhost:8080/"
        },
        "outputId": "e52c084a-b6b5-41ac-833c-eb1e05d2a6eb"
      },
      "outputs": [
        {
          "output_type": "stream",
          "name": "stdout",
          "text": [
            "Precision on the 10000 test images: 0.9835\n",
            "Recall on the 10000 test images: 0.9834\n",
            "F1 score on the 10000 test images: 0.9834\n"
          ]
        }
      ],
      "source": [
        "test(cnn_lowrank_cur_log_1, loaders)"
      ]
    },
    {
      "cell_type": "code",
      "execution_count": 41,
      "metadata": {
        "id": "S6INmQplIqkw",
        "colab": {
          "base_uri": "https://localhost:8080/"
        },
        "outputId": "a7d1ade6-c0a6-44fc-b1b2-7e01eb1db68b"
      },
      "outputs": [
        {
          "output_type": "stream",
          "name": "stdout",
          "text": [
            "Precision on the 10000 test images: 0.9847\n",
            "Recall on the 10000 test images: 0.9847\n",
            "F1 score on the 10000 test images: 0.9847\n"
          ]
        }
      ],
      "source": [
        "test(cnn_lowrank_cur_log_2, loaders)"
      ]
    },
    {
      "cell_type": "code",
      "execution_count": 42,
      "metadata": {
        "id": "_bO81YYbIq4N",
        "colab": {
          "base_uri": "https://localhost:8080/"
        },
        "outputId": "ed188fcf-975a-46de-f99f-f1e6533d6816"
      },
      "outputs": [
        {
          "output_type": "stream",
          "name": "stdout",
          "text": [
            "Precision on the 10000 test images: 0.9855\n",
            "Recall on the 10000 test images: 0.9854\n",
            "F1 score on the 10000 test images: 0.9854\n"
          ]
        }
      ],
      "source": [
        "test(cnn_lowrank_cur_log_3, loaders)"
      ]
    },
    {
      "cell_type": "markdown",
      "metadata": {
        "id": "u84LY8z_IyBz"
      },
      "source": [
        "### CUR c = 0.1"
      ]
    },
    {
      "cell_type": "code",
      "execution_count": 43,
      "metadata": {
        "id": "HYjLPMXZJCzb",
        "colab": {
          "base_uri": "https://localhost:8080/"
        },
        "outputId": "5ddd8fa1-39e3-4dbc-f113-47f8698d9527"
      },
      "outputs": [
        {
          "output_type": "stream",
          "name": "stderr",
          "text": [
            "100%|██████████| 600/600 [00:35<00:00, 16.78it/s]"
          ]
        },
        {
          "output_type": "stream",
          "name": "stdout",
          "text": [
            "Epoch [1/10], Loss: 0.1397\n"
          ]
        },
        {
          "output_type": "stream",
          "name": "stderr",
          "text": [
            "\n",
            "100%|██████████| 600/600 [00:34<00:00, 17.53it/s]"
          ]
        },
        {
          "output_type": "stream",
          "name": "stdout",
          "text": [
            "Epoch [2/10], Loss: 0.0521\n"
          ]
        },
        {
          "output_type": "stream",
          "name": "stderr",
          "text": [
            "\n",
            "100%|██████████| 600/600 [00:34<00:00, 17.27it/s]"
          ]
        },
        {
          "output_type": "stream",
          "name": "stdout",
          "text": [
            "Epoch [3/10], Loss: 0.0462\n"
          ]
        },
        {
          "output_type": "stream",
          "name": "stderr",
          "text": [
            "\n",
            "100%|██████████| 600/600 [00:34<00:00, 17.23it/s]"
          ]
        },
        {
          "output_type": "stream",
          "name": "stdout",
          "text": [
            "Epoch [4/10], Loss: 0.0438\n"
          ]
        },
        {
          "output_type": "stream",
          "name": "stderr",
          "text": [
            "\n",
            "100%|██████████| 600/600 [00:35<00:00, 17.00it/s]"
          ]
        },
        {
          "output_type": "stream",
          "name": "stdout",
          "text": [
            "Epoch [5/10], Loss: 0.0410\n"
          ]
        },
        {
          "output_type": "stream",
          "name": "stderr",
          "text": [
            "\n",
            "100%|██████████| 600/600 [00:34<00:00, 17.36it/s]"
          ]
        },
        {
          "output_type": "stream",
          "name": "stdout",
          "text": [
            "Epoch [6/10], Loss: 0.0401\n"
          ]
        },
        {
          "output_type": "stream",
          "name": "stderr",
          "text": [
            "\n",
            "100%|██████████| 600/600 [00:34<00:00, 17.15it/s]"
          ]
        },
        {
          "output_type": "stream",
          "name": "stdout",
          "text": [
            "Epoch [7/10], Loss: 0.0393\n"
          ]
        },
        {
          "output_type": "stream",
          "name": "stderr",
          "text": [
            "\n",
            "100%|██████████| 600/600 [00:35<00:00, 17.13it/s]"
          ]
        },
        {
          "output_type": "stream",
          "name": "stdout",
          "text": [
            "Epoch [8/10], Loss: 0.0375\n"
          ]
        },
        {
          "output_type": "stream",
          "name": "stderr",
          "text": [
            "\n",
            "100%|██████████| 600/600 [00:35<00:00, 16.89it/s]"
          ]
        },
        {
          "output_type": "stream",
          "name": "stdout",
          "text": [
            "Epoch [9/10], Loss: 0.0387\n"
          ]
        },
        {
          "output_type": "stream",
          "name": "stderr",
          "text": [
            "\n",
            "100%|██████████| 600/600 [00:34<00:00, 17.22it/s]"
          ]
        },
        {
          "output_type": "stream",
          "name": "stdout",
          "text": [
            "Epoch [10/10], Loss: 0.0427\n",
            "Training time: 350\n"
          ]
        },
        {
          "output_type": "stream",
          "name": "stderr",
          "text": [
            "\n"
          ]
        }
      ],
      "source": [
        "cnn_lowrank_cur_const_0 = MNISTCNN_lowrank(r=5, method='constant', decomposition='cur')\n",
        "loss_func = nn.CrossEntropyLoss()   \n",
        "optimizer = optim.Adam(cnn_lowrank_cur_const_0.parameters(), lr = 0.01)   \n",
        "\n",
        "\n",
        "start = datetime.datetime.now()\n",
        "train(cnn_lowrank_cur_const_0, optimizer, loss_func, loaders, num_epochs=10)\n",
        "end = datetime.datetime.now()\n",
        "diff = (end - start)\n",
        "print(\"Training time:\", int(diff.total_seconds()))"
      ]
    },
    {
      "cell_type": "code",
      "execution_count": 44,
      "metadata": {
        "id": "qpBY3Bc5Iv9K",
        "colab": {
          "base_uri": "https://localhost:8080/"
        },
        "outputId": "4ee2c63c-e72c-43a5-e267-8068f4f9b39b"
      },
      "outputs": [
        {
          "output_type": "stream",
          "name": "stderr",
          "text": [
            "100%|██████████| 600/600 [00:36<00:00, 16.67it/s]"
          ]
        },
        {
          "output_type": "stream",
          "name": "stdout",
          "text": [
            "Epoch [1/10], Loss: 0.1281\n"
          ]
        },
        {
          "output_type": "stream",
          "name": "stderr",
          "text": [
            "\n",
            "100%|██████████| 600/600 [00:35<00:00, 16.81it/s]"
          ]
        },
        {
          "output_type": "stream",
          "name": "stdout",
          "text": [
            "Epoch [2/10], Loss: 0.0518\n"
          ]
        },
        {
          "output_type": "stream",
          "name": "stderr",
          "text": [
            "\n",
            "100%|██████████| 600/600 [00:34<00:00, 17.15it/s]"
          ]
        },
        {
          "output_type": "stream",
          "name": "stdout",
          "text": [
            "Epoch [3/10], Loss: 0.0462\n"
          ]
        },
        {
          "output_type": "stream",
          "name": "stderr",
          "text": [
            "\n",
            "100%|██████████| 600/600 [00:33<00:00, 17.77it/s]"
          ]
        },
        {
          "output_type": "stream",
          "name": "stdout",
          "text": [
            "Epoch [4/10], Loss: 0.0402\n"
          ]
        },
        {
          "output_type": "stream",
          "name": "stderr",
          "text": [
            "\n",
            "100%|██████████| 600/600 [00:35<00:00, 17.08it/s]"
          ]
        },
        {
          "output_type": "stream",
          "name": "stdout",
          "text": [
            "Epoch [5/10], Loss: 0.0418\n"
          ]
        },
        {
          "output_type": "stream",
          "name": "stderr",
          "text": [
            "\n",
            "100%|██████████| 600/600 [00:34<00:00, 17.26it/s]"
          ]
        },
        {
          "output_type": "stream",
          "name": "stdout",
          "text": [
            "Epoch [6/10], Loss: 0.0408\n"
          ]
        },
        {
          "output_type": "stream",
          "name": "stderr",
          "text": [
            "\n",
            "100%|██████████| 600/600 [00:41<00:00, 14.30it/s]"
          ]
        },
        {
          "output_type": "stream",
          "name": "stdout",
          "text": [
            "Epoch [7/10], Loss: 0.0392\n"
          ]
        },
        {
          "output_type": "stream",
          "name": "stderr",
          "text": [
            "\n",
            "100%|██████████| 600/600 [00:35<00:00, 16.99it/s]"
          ]
        },
        {
          "output_type": "stream",
          "name": "stdout",
          "text": [
            "Epoch [8/10], Loss: 0.0356\n"
          ]
        },
        {
          "output_type": "stream",
          "name": "stderr",
          "text": [
            "\n",
            "100%|██████████| 600/600 [00:36<00:00, 16.54it/s]"
          ]
        },
        {
          "output_type": "stream",
          "name": "stdout",
          "text": [
            "Epoch [9/10], Loss: 0.0345\n"
          ]
        },
        {
          "output_type": "stream",
          "name": "stderr",
          "text": [
            "\n",
            "100%|██████████| 600/600 [00:35<00:00, 16.76it/s]"
          ]
        },
        {
          "output_type": "stream",
          "name": "stdout",
          "text": [
            "Epoch [10/10], Loss: 0.0316\n",
            "Training time: 360\n"
          ]
        },
        {
          "output_type": "stream",
          "name": "stderr",
          "text": [
            "\n"
          ]
        }
      ],
      "source": [
        "cnn_lowrank_cur_const_1 = MNISTCNN_lowrank(r=4, method='constant', decomposition='cur')\n",
        "loss_func = nn.CrossEntropyLoss()   \n",
        "optimizer = optim.Adam(cnn_lowrank_cur_const_1.parameters(), lr = 0.01)   \n",
        "\n",
        "\n",
        "start = datetime.datetime.now()\n",
        "train(cnn_lowrank_cur_const_1, optimizer, loss_func, loaders, num_epochs=10)\n",
        "end = datetime.datetime.now()\n",
        "diff = (end - start)\n",
        "print(\"Training time:\", int(diff.total_seconds()))"
      ]
    },
    {
      "cell_type": "code",
      "execution_count": 45,
      "metadata": {
        "id": "FiGmwAGfI4eO",
        "colab": {
          "base_uri": "https://localhost:8080/"
        },
        "outputId": "4f059b97-7a3d-4c22-c5dd-dcf21059b507"
      },
      "outputs": [
        {
          "output_type": "stream",
          "name": "stderr",
          "text": [
            "100%|██████████| 600/600 [00:34<00:00, 17.43it/s]"
          ]
        },
        {
          "output_type": "stream",
          "name": "stdout",
          "text": [
            "Epoch [1/10], Loss: 0.1197\n"
          ]
        },
        {
          "output_type": "stream",
          "name": "stderr",
          "text": [
            "\n",
            "100%|██████████| 600/600 [00:35<00:00, 17.03it/s]"
          ]
        },
        {
          "output_type": "stream",
          "name": "stdout",
          "text": [
            "Epoch [2/10], Loss: 0.0519\n"
          ]
        },
        {
          "output_type": "stream",
          "name": "stderr",
          "text": [
            "\n",
            "100%|██████████| 600/600 [00:35<00:00, 16.82it/s]"
          ]
        },
        {
          "output_type": "stream",
          "name": "stdout",
          "text": [
            "Epoch [3/10], Loss: 0.0465\n"
          ]
        },
        {
          "output_type": "stream",
          "name": "stderr",
          "text": [
            "\n",
            "100%|██████████| 600/600 [00:35<00:00, 16.86it/s]"
          ]
        },
        {
          "output_type": "stream",
          "name": "stdout",
          "text": [
            "Epoch [4/10], Loss: 0.0440\n"
          ]
        },
        {
          "output_type": "stream",
          "name": "stderr",
          "text": [
            "\n",
            "100%|██████████| 600/600 [00:35<00:00, 17.11it/s]"
          ]
        },
        {
          "output_type": "stream",
          "name": "stdout",
          "text": [
            "Epoch [5/10], Loss: 0.0401\n"
          ]
        },
        {
          "output_type": "stream",
          "name": "stderr",
          "text": [
            "\n",
            "100%|██████████| 600/600 [00:34<00:00, 17.22it/s]"
          ]
        },
        {
          "output_type": "stream",
          "name": "stdout",
          "text": [
            "Epoch [6/10], Loss: 0.0365\n"
          ]
        },
        {
          "output_type": "stream",
          "name": "stderr",
          "text": [
            "\n",
            "100%|██████████| 600/600 [00:35<00:00, 16.93it/s]"
          ]
        },
        {
          "output_type": "stream",
          "name": "stdout",
          "text": [
            "Epoch [7/10], Loss: 0.0353\n"
          ]
        },
        {
          "output_type": "stream",
          "name": "stderr",
          "text": [
            "\n",
            "100%|██████████| 600/600 [00:35<00:00, 16.92it/s]"
          ]
        },
        {
          "output_type": "stream",
          "name": "stdout",
          "text": [
            "Epoch [8/10], Loss: 0.0442\n"
          ]
        },
        {
          "output_type": "stream",
          "name": "stderr",
          "text": [
            "\n",
            "100%|██████████| 600/600 [00:35<00:00, 16.87it/s]"
          ]
        },
        {
          "output_type": "stream",
          "name": "stdout",
          "text": [
            "Epoch [9/10], Loss: 0.0355\n"
          ]
        },
        {
          "output_type": "stream",
          "name": "stderr",
          "text": [
            "\n",
            "100%|██████████| 600/600 [00:34<00:00, 17.63it/s]"
          ]
        },
        {
          "output_type": "stream",
          "name": "stdout",
          "text": [
            "Epoch [10/10], Loss: 0.0395\n",
            "Training time: 351\n"
          ]
        },
        {
          "output_type": "stream",
          "name": "stderr",
          "text": [
            "\n"
          ]
        }
      ],
      "source": [
        "cnn_lowrank_cur_const_2 = MNISTCNN_lowrank(r=3, method='constant', decomposition='cur')\n",
        "loss_func = nn.CrossEntropyLoss()   \n",
        "optimizer = optim.Adam(cnn_lowrank_cur_const_2.parameters(), lr = 0.01)   \n",
        "\n",
        "\n",
        "start = datetime.datetime.now()\n",
        "train(cnn_lowrank_cur_const_2, optimizer, loss_func, loaders, num_epochs=10)\n",
        "end = datetime.datetime.now()\n",
        "diff = (end - start)\n",
        "print(\"Training time:\", int(diff.total_seconds()))"
      ]
    },
    {
      "cell_type": "code",
      "execution_count": 46,
      "metadata": {
        "id": "f5dZT1zPI456",
        "colab": {
          "base_uri": "https://localhost:8080/"
        },
        "outputId": "5abecdb0-84f8-4718-f06d-6e14606b35ea"
      },
      "outputs": [
        {
          "output_type": "stream",
          "name": "stderr",
          "text": [
            "100%|██████████| 600/600 [00:35<00:00, 16.98it/s]"
          ]
        },
        {
          "output_type": "stream",
          "name": "stdout",
          "text": [
            "Epoch [1/10], Loss: 0.1663\n"
          ]
        },
        {
          "output_type": "stream",
          "name": "stderr",
          "text": [
            "\n",
            "100%|██████████| 600/600 [00:34<00:00, 17.15it/s]"
          ]
        },
        {
          "output_type": "stream",
          "name": "stdout",
          "text": [
            "Epoch [2/10], Loss: 0.0663\n"
          ]
        },
        {
          "output_type": "stream",
          "name": "stderr",
          "text": [
            "\n",
            "100%|██████████| 600/600 [00:35<00:00, 17.07it/s]"
          ]
        },
        {
          "output_type": "stream",
          "name": "stdout",
          "text": [
            "Epoch [3/10], Loss: 0.0554\n"
          ]
        },
        {
          "output_type": "stream",
          "name": "stderr",
          "text": [
            "\n",
            "100%|██████████| 600/600 [00:34<00:00, 17.52it/s]"
          ]
        },
        {
          "output_type": "stream",
          "name": "stdout",
          "text": [
            "Epoch [4/10], Loss: 0.0509\n"
          ]
        },
        {
          "output_type": "stream",
          "name": "stderr",
          "text": [
            "\n",
            "100%|██████████| 600/600 [00:34<00:00, 17.14it/s]"
          ]
        },
        {
          "output_type": "stream",
          "name": "stdout",
          "text": [
            "Epoch [5/10], Loss: 0.0480\n"
          ]
        },
        {
          "output_type": "stream",
          "name": "stderr",
          "text": [
            "\n",
            "100%|██████████| 600/600 [00:35<00:00, 16.99it/s]"
          ]
        },
        {
          "output_type": "stream",
          "name": "stdout",
          "text": [
            "Epoch [6/10], Loss: 0.0440\n"
          ]
        },
        {
          "output_type": "stream",
          "name": "stderr",
          "text": [
            "\n",
            "100%|██████████| 600/600 [00:34<00:00, 17.18it/s]"
          ]
        },
        {
          "output_type": "stream",
          "name": "stdout",
          "text": [
            "Epoch [7/10], Loss: 0.0454\n"
          ]
        },
        {
          "output_type": "stream",
          "name": "stderr",
          "text": [
            "\n",
            "100%|██████████| 600/600 [00:34<00:00, 17.42it/s]\n"
          ]
        },
        {
          "output_type": "stream",
          "name": "stdout",
          "text": [
            "Epoch [8/10], Loss: 0.0428\n"
          ]
        },
        {
          "output_type": "stream",
          "name": "stderr",
          "text": [
            "100%|██████████| 600/600 [00:34<00:00, 17.27it/s]"
          ]
        },
        {
          "output_type": "stream",
          "name": "stdout",
          "text": [
            "Epoch [9/10], Loss: 0.0422\n"
          ]
        },
        {
          "output_type": "stream",
          "name": "stderr",
          "text": [
            "\n",
            "100%|██████████| 600/600 [00:34<00:00, 17.15it/s]"
          ]
        },
        {
          "output_type": "stream",
          "name": "stdout",
          "text": [
            "Epoch [10/10], Loss: 0.0434\n",
            "Training time: 349\n"
          ]
        },
        {
          "output_type": "stream",
          "name": "stderr",
          "text": [
            "\n"
          ]
        }
      ],
      "source": [
        "cnn_lowrank_cur_const_3 = MNISTCNN_lowrank(r=2, method='constant', decomposition='cur')\n",
        "loss_func = nn.CrossEntropyLoss()   \n",
        "optimizer = optim.Adam(cnn_lowrank_cur_const_3.parameters(), lr = 0.01)   \n",
        "\n",
        "\n",
        "start = datetime.datetime.now()\n",
        "train(cnn_lowrank_cur_const_3, optimizer, loss_func, loaders, num_epochs=10)\n",
        "end = datetime.datetime.now()\n",
        "diff = (end - start)\n",
        "print(\"Training time:\", int(diff.total_seconds()))"
      ]
    },
    {
      "cell_type": "code",
      "execution_count": 47,
      "metadata": {
        "id": "_7tg6V7dJGJN",
        "colab": {
          "base_uri": "https://localhost:8080/"
        },
        "outputId": "40f914ef-a1f4-4686-d3bd-abbb95a9cf7a"
      },
      "outputs": [
        {
          "output_type": "stream",
          "name": "stdout",
          "text": [
            "Precision on the 10000 test images: 0.9812\n",
            "Recall on the 10000 test images: 0.9810\n",
            "F1 score on the 10000 test images: 0.9810\n"
          ]
        }
      ],
      "source": [
        "test(cnn_lowrank_cur_const_0, loaders)"
      ]
    },
    {
      "cell_type": "code",
      "execution_count": 48,
      "metadata": {
        "id": "gfh-6dC_I-MU",
        "colab": {
          "base_uri": "https://localhost:8080/"
        },
        "outputId": "d0d1e991-1bcf-4509-bcc4-188883211eba"
      },
      "outputs": [
        {
          "output_type": "stream",
          "name": "stdout",
          "text": [
            "Precision on the 10000 test images: 0.9857\n",
            "Recall on the 10000 test images: 0.9856\n",
            "F1 score on the 10000 test images: 0.9856\n"
          ]
        }
      ],
      "source": [
        "test(cnn_lowrank_cur_const_1, loaders)"
      ]
    },
    {
      "cell_type": "code",
      "execution_count": 49,
      "metadata": {
        "id": "9H8MqaiYI-h1",
        "colab": {
          "base_uri": "https://localhost:8080/"
        },
        "outputId": "13d3db0d-fd92-4b35-fb05-6a47d5c0d224"
      },
      "outputs": [
        {
          "output_type": "stream",
          "name": "stdout",
          "text": [
            "Precision on the 10000 test images: 0.9740\n",
            "Recall on the 10000 test images: 0.9731\n",
            "F1 score on the 10000 test images: 0.9731\n"
          ]
        }
      ],
      "source": [
        "test(cnn_lowrank_cur_const_2, loaders)"
      ]
    },
    {
      "cell_type": "code",
      "execution_count": 50,
      "metadata": {
        "id": "y0OovYSLI-0H",
        "colab": {
          "base_uri": "https://localhost:8080/"
        },
        "outputId": "39179b72-23a5-435a-c770-38b2cbe82cae"
      },
      "outputs": [
        {
          "output_type": "stream",
          "name": "stdout",
          "text": [
            "Precision on the 10000 test images: 0.9838\n",
            "Recall on the 10000 test images: 0.9837\n",
            "F1 score on the 10000 test images: 0.9837\n"
          ]
        }
      ],
      "source": [
        "test(cnn_lowrank_cur_const_3, loaders)"
      ]
    },
    {
      "cell_type": "markdown",
      "metadata": {
        "id": "14lYuJDuloGL"
      },
      "source": [
        "## Visualization"
      ]
    },
    {
      "cell_type": "code",
      "execution_count": 51,
      "metadata": {
        "id": "EBJ5rz85Vcji",
        "colab": {
          "base_uri": "https://localhost:8080/",
          "height": 54
        },
        "outputId": "08f5eb3e-2279-40be-f1b9-a6578600ab5d"
      },
      "outputs": [
        {
          "output_type": "display_data",
          "data": {
            "text/plain": [
              "<Figure size 640x480 with 2 Axes>"
            ],
            "image/png": "[encoded data removed]"
          },
          "metadata": {}
        }
      ],
      "source": [
        "lowrank_conv_layer = LowRankConv2d(\n",
        "                in_channels=1,              \n",
        "                out_channels=1,            \n",
        "                kernel_size=5,       \n",
        "                stride=1,                   \n",
        "                padding=2,                  \n",
        "            )\n",
        "visualize_conv(lowrank_conv_layer)"
      ]
    },
    {
      "cell_type": "markdown",
      "metadata": {
        "id": "t4H8Nj1Nozes"
      },
      "source": [
        "# Visualization for all"
      ]
    },
    {
      "cell_type": "code",
      "execution_count": 52,
      "metadata": {
        "id": "k1kCBS2so25d",
        "colab": {
          "base_uri": "https://localhost:8080/",
          "height": 106
        },
        "outputId": "052ceed5-def4-4c28-e619-b38271d5468d"
      },
      "outputs": [
        {
          "output_type": "display_data",
          "data": {
            "text/plain": [
              "<Figure size 640x480 with 2 Axes>"
            ],
            "image/png": "[encoded data removed]"
          },
          "metadata": {}
        },
        {
          "output_type": "display_data",
          "data": {
            "text/plain": [
              "<Figure size 640x480 with 2 Axes>"
            ],
            "image/png": "[encoded data removed]"
          },
          "metadata": {}
        },
        {
          "output_type": "display_data",
          "data": {
            "text/plain": [
              "<Figure size 640x480 with 2 Axes>"
            ],
            "image/png": "[encoded data removed]"
          },
          "metadata": {}
        },
        {
          "output_type": "display_data",
          "data": {
            "text/plain": [
              "<Figure size 640x480 with 2 Axes>"
            ],
            "image/png": "[encoded data removed]"
          },
          "metadata": {}
        }
      ],
      "source": [
        "conv_layer = nn.Conv2d(\n",
        "                in_channels=1,              \n",
        "                out_channels=1,            \n",
        "                kernel_size=5,       \n",
        "                stride=1,                   \n",
        "                padding=2,                  \n",
        "            )\n",
        "visualize_conv(conv_layer)\n",
        "\n",
        "frac_conv_layer = FractionalConv2d(\n",
        "                in_channels=1,              \n",
        "                out_channels=1,            \n",
        "                kernel_size=5,       \n",
        "                stride=1,                   \n",
        "                padding=2,                  \n",
        "            )\n",
        "visualize_conv(frac_conv_layer)\n",
        "\n",
        "pruned_conv_layer = PrunedConv2d(\n",
        "                in_channels=1,              \n",
        "                out_channels=1,            \n",
        "                kernel_size=5,       \n",
        "                stride=1,                   \n",
        "                padding=2,                  \n",
        "            )\n",
        "visualize_conv(pruned_conv_layer)\n",
        "\n",
        "lowrank_conv_layer = LowRankConv2d(\n",
        "                in_channels=1,              \n",
        "                out_channels=1,            \n",
        "                kernel_size=5,       \n",
        "                stride=1,                   \n",
        "                padding=2,                  \n",
        "            )\n",
        "visualize_conv(lowrank_conv_layer)"
      ]
    },
    {
      "cell_type": "markdown",
      "metadata": {
        "id": "Tcqx_2crTbBI"
      },
      "source": [
        "# Count parameters for all"
      ]
    },
    {
      "cell_type": "code",
      "execution_count": 53,
      "metadata": {
        "id": "9_48r84ITauG"
      },
      "outputs": [],
      "source": [
        "def count_parameters(model):\n",
        "    table = PrettyTable([\"Modules\", \"Parameters\"])\n",
        "    total_params = 0\n",
        "    for name, parameter in model.named_parameters():\n",
        "        if not parameter.requires_grad: \n",
        "            continue\n",
        "        param = parameter.numel()\n",
        "        table.add_row([name, param])\n",
        "        total_params+=param\n",
        "    print(table)\n",
        "    print(f\"Total Trainable Params: {total_params}\")\n",
        "    return total_params"
      ]
    },
    {
      "cell_type": "code",
      "execution_count": 54,
      "metadata": {
        "id": "4MYVzPHtTdup",
        "colab": {
          "base_uri": "https://localhost:8080/"
        },
        "outputId": "b99dab35-775c-4d11-8124-421f9c1d6c8b"
      },
      "outputs": [
        {
          "output_type": "stream",
          "name": "stdout",
          "text": [
            "+----------------+------------+\n",
            "|    Modules     | Parameters |\n",
            "+----------------+------------+\n",
            "| conv1.0.weight |    400     |\n",
            "|  conv1.0.bias  |     16     |\n",
            "| conv2.0.weight |   12800    |\n",
            "|  conv2.0.bias  |     32     |\n",
            "|   out.weight   |   15680    |\n",
            "|    out.bias    |     10     |\n",
            "+----------------+------------+\n",
            "Total Trainable Params: 28938\n"
          ]
        }
      ],
      "source": [
        "cnn_params = count_parameters(cnn)"
      ]
    },
    {
      "cell_type": "code",
      "execution_count": 55,
      "metadata": {
        "id": "eIXtPI7lTezs",
        "colab": {
          "base_uri": "https://localhost:8080/"
        },
        "outputId": "8452ee5f-9ed2-47d4-df58-73cb518c771b"
      },
      "outputs": [
        {
          "output_type": "stream",
          "name": "stdout",
          "text": [
            "+----------------+------------+\n",
            "|    Modules     | Parameters |\n",
            "+----------------+------------+\n",
            "| conv1.0.weight |    400     |\n",
            "|  conv1.0.bias  |     16     |\n",
            "|   conv2.0.A    |    512     |\n",
            "| conv2.0.sigma  |    512     |\n",
            "|   conv2.0.x0   |    512     |\n",
            "|   conv2.0.y0   |    512     |\n",
            "|   conv2.0.a    |    512     |\n",
            "|   conv2.0.b    |    512     |\n",
            "|   out.weight   |   15680    |\n",
            "|    out.bias    |     10     |\n",
            "+----------------+------------+\n",
            "Total Trainable Params: 19178\n"
          ]
        }
      ],
      "source": [
        "cnn_frac_params = count_parameters(cnn_frac)"
      ]
    },
    {
      "cell_type": "code",
      "execution_count": 56,
      "metadata": {
        "id": "vpnn6e21F8ZR"
      },
      "outputs": [],
      "source": [
        "from prettytable import PrettyTable\n",
        "\n",
        "def count_parameters_pruning(model):\n",
        "    table = PrettyTable([\"Modules\", \"Parameters\"])\n",
        "    total_params = 0\n",
        "    for name, parameter in model.named_parameters():\n",
        "        if not parameter.requires_grad: \n",
        "            continue\n",
        "        \n",
        "        param = parameter.numel()\n",
        "        if 'conv.weight_orig' in name:\n",
        "            pruned_mask = list(model.conv2.named_buffers())\n",
        "            param = int(torch.sum(pruned_mask[0][1]).item())\n",
        "            name = name[:-5]\n",
        "        \n",
        "        table.add_row([name, param])\n",
        "        total_params+=param\n",
        "    print(table)\n",
        "    print(f\"Total Trainable Params: {total_params}\")\n",
        "    return total_params\n"
      ]
    },
    {
      "cell_type": "code",
      "execution_count": 57,
      "metadata": {
        "id": "g9GupiIqTyFN",
        "colab": {
          "base_uri": "https://localhost:8080/"
        },
        "outputId": "b4587b49-b6fd-4a71-fe34-f7596a9799e3"
      },
      "outputs": [
        {
          "output_type": "stream",
          "name": "stdout",
          "text": [
            "+---------------------+------------+\n",
            "|       Modules       | Parameters |\n",
            "+---------------------+------------+\n",
            "|    conv1.0.weight   |    400     |\n",
            "|     conv1.0.bias    |     16     |\n",
            "|  conv2.0.conv.bias  |     32     |\n",
            "| conv2.0.conv.weight |    8960    |\n",
            "|      out.weight     |   15680    |\n",
            "|       out.bias      |     10     |\n",
            "+---------------------+------------+\n",
            "Total Trainable Params: 25098\n"
          ]
        }
      ],
      "source": [
        "cnn_pruned_params = count_parameters_pruning(cnn_pruned)"
      ]
    },
    {
      "cell_type": "code",
      "execution_count": 59,
      "metadata": {
        "id": "l942HGjXoI-W",
        "colab": {
          "base_uri": "https://localhost:8080/"
        },
        "outputId": "15c1c0a3-ec2b-4ce7-9342-ca0526e66d9c"
      },
      "outputs": [
        {
          "output_type": "stream",
          "name": "stdout",
          "text": [
            "+---------------------+------------+\n",
            "|       Modules       | Parameters |\n",
            "+---------------------+------------+\n",
            "|    conv1.0.weight   |    400     |\n",
            "|     conv1.0.bias    |     16     |\n",
            "| conv2.0.conv.weight |   12800    |\n",
            "|  conv2.0.conv.bias  |     32     |\n",
            "|      out.weight     |   15680    |\n",
            "|       out.bias      |     10     |\n",
            "+---------------------+------------+\n",
            "Total Trainable Params: 28938\n"
          ]
        }
      ],
      "source": [
        "cnn_lowrank_params = count_parameters(cnn_lowrank_svd_0)"
      ]
    }
  ],
  "metadata": {
    "accelerator": "GPU",
    "colab": {
      "collapsed_sections": [
        "RdOtiMOLV67Z",
        "L1AtO2TYZP4r",
        "fLi0HABtZazJ",
        "vUMHEvjuYFOK",
        "RZFiZzVL2sEw",
        "VrLwYegelC1r",
        "5uGliUAJlEVA",
        "hcLzo4uvlGDg",
        "ipYKNS36YBXd",
        "GYu8reMx2pEy",
        "u60sG6TflPgH",
        "qdfMpVAhlSO0",
        "Ky1PsVQhlTeK",
        "dt6-INgamdDv",
        "6tYl65sa2m7M",
        "Jb45zDMGnmYu",
        "dM1U51senqn3",
        "DmU1UhhOnwj5",
        "ExSUgVa9Xe4A",
        "O58yjjtF2ktw",
        "4dFRBu_TleJQ",
        "cf4OD2aYHIFE",
        "kErdaFIzwol9",
        "u84LY8z_IyBz",
        "14lYuJDuloGL",
        "t4H8Nj1Nozes",
        "Tcqx_2crTbBI"
      ],
      "provenance": []
    },
    "gpuClass": "standard",
    "kernelspec": {
      "display_name": "Python 3",
      "name": "python3"
    },
    "language_info": {
      "name": "python"
    }
  },
  "nbformat": 4,
  "nbformat_minor": 0
}